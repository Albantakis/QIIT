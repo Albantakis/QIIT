{
 "cells": [
  {
   "cell_type": "code",
   "execution_count": 144,
   "metadata": {},
   "outputs": [],
   "source": [
    "import numpy as np\n",
    "import pyphi #pyphi feature IIT.4 branch (quantum_python3.9 environment)\n",
    "\n",
    "from qutip import *\n",
    "from qutip_qip.operations import *\n",
    "from intrinsic_difference import intrinsic_difference\n",
    "from utils import *\n",
    "from compute_ces import *"
   ]
  },
  {
   "cell_type": "code",
   "execution_count": 145,
   "metadata": {},
   "outputs": [
    {
     "name": "stdout",
     "output_type": "stream",
     "text": [
      "The autoreload extension is already loaded. To reload it, use:\n",
      "  %reload_ext autoreload\n"
     ]
    }
   ],
   "source": [
    "%load_ext autoreload\n",
    "%autoreload 2"
   ]
  },
  {
   "cell_type": "markdown",
   "metadata": {},
   "source": [
    "# Define states and matrices"
   ]
  },
  {
   "cell_type": "code",
   "execution_count": 146,
   "metadata": {},
   "outputs": [],
   "source": [
    "# Basis states (for both classical and quantum)\n",
    "zero = basis(2,0)\n",
    "one = basis(2,1)\n",
    "\n",
    "# Normalized fully general quantum state\n",
    "plus = (zero + one).unit()\n",
    "minus = (zero - one).unit()\n",
    "superposition = (1/3*zero + 2/3*one).unit()\n",
    "\n",
    "# Density matrix representations of the states\n",
    "rho_zero = zero * zero.dag() # could also be fock_dm(2,0)\n",
    "rho_one = one * one.dag()\n",
    "rho_plus = plus * plus.dag()\n",
    "rho_minus = minus * minus.dag()\n",
    "rho_sp = superposition * superposition.dag()\n",
    "rho_mm = 0.5 * rho_zero + 0.5 * rho_one\n",
    "\n",
    "rho_bell = ket2dm(bell_state(state = '00'))\n",
    "rho_GHZ = ket2dm(ghz_state(N=3))\n",
    "rho_W = ket2dm(w_state(N=3))\n",
    "rho_bellmix = 1/3*(tensor(rho_bell, rho_zero) + tensor(rho_zero, rho_bell) + tensor(rho_zero, rho_bell).permute([1,0,2]))\n",
    "\n",
    "rho_bennet = 1/(3-4)*(1-(tensor(rho_zero, rho_one, rho_plus) + tensor(rho_one, rho_plus, rho_zero) \n",
    "                        + tensor(rho_plus, rho_zero, rho_one) + tensor(rho_minus, rho_minus, rho_minus)))\n"
   ]
  },
  {
   "cell_type": "code",
   "execution_count": 147,
   "metadata": {},
   "outputs": [
    {
     "name": "stdout",
     "output_type": "stream",
     "text": [
      "ID |0> :  (1.0, [array([1.+0.j, 0.+0.j])])\n",
      "ID |+> :  (1.0, [array([0.70710678+0.j, 0.70710678+0.j])])\n"
     ]
    }
   ],
   "source": [
    "print('ID |0> : ', intrinsic_difference(rho_zero, rho_mm))\n",
    "print('ID |+> : ', intrinsic_difference(rho_plus, rho_mm))"
   ]
  },
  {
   "cell_type": "markdown",
   "metadata": {},
   "source": [
    "# 2 Qubits - CNOT"
   ]
  },
  {
   "cell_type": "code",
   "execution_count": 148,
   "metadata": {},
   "outputs": [
    {
     "data": {
      "text/latex": [
       "Quantum object: dims = [[2, 2], [2, 2]], shape = (4, 4), type = oper, isherm = True\\begin{equation*}\\left(\\begin{array}{*{11}c}1.0 & 0.0 & 0.0 & 0.0\\\\0.0 & 1.0 & 0.0 & 0.0\\\\0.0 & 0.0 & 0.0 & 1.0\\\\0.0 & 0.0 & 1.0 & 0.0\\\\\\end{array}\\right)\\end{equation*}"
      ],
      "text/plain": [
       "Quantum object: dims = [[2, 2], [2, 2]], shape = (4, 4), type = oper, isherm = True\n",
       "Qobj data =\n",
       "[[1. 0. 0. 0.]\n",
       " [0. 1. 0. 0.]\n",
       " [0. 0. 0. 1.]\n",
       " [0. 0. 1. 0.]]"
      ]
     },
     "execution_count": 148,
     "metadata": {},
     "output_type": "execute_result"
    }
   ],
   "source": [
    "cnot()"
   ]
  },
  {
   "cell_type": "markdown",
   "metadata": {},
   "source": [
    "## Classical results"
   ]
  },
  {
   "cell_type": "code",
   "execution_count": 149,
   "metadata": {},
   "outputs": [],
   "source": [
    "pyphi.config.PARTITION_TYPE = 'ALL'"
   ]
  },
  {
   "cell_type": "code",
   "execution_count": 150,
   "metadata": {},
   "outputs": [
    {
     "name": "stdout",
     "output_type": "stream",
     "text": [
      "{ 'ACTUAL_CAUSATION_MEASURE': 'PMI',\n",
      "  'ASSUME_CUTS_CANNOT_CREATE_NEW_CONCEPTS': False,\n",
      "  'CACHE_POTENTIAL_PURVIEWS': True,\n",
      "  'CACHE_REPERTOIRES': True,\n",
      "  'CES_DISTANCE': 'SUM_SMALL_PHI',\n",
      "  'CLEAR_SUBSYSTEM_CACHES_AFTER_COMPUTING_SIA': False,\n",
      "  'COMPOSITIONAL_STATE_CONFLICTS': 'GLOBAL',\n",
      "  'CONGRUENCE_RATIO': 'PURVIEW_SIZE',\n",
      "  'DISTINCTION_PHI_UPPER_BOUND_RELATIONS': 'PURVIEW_SIZE',\n",
      "  'DISTINCTION_SUM_PHI_UPPER_BOUND': 'DISTINCT_AND_CONGRUENT_PURVIEWS',\n",
      "  'HORIZONTAL_PARTITION_CODE': '1210',\n",
      "  'IIT_VERSION': 'maximal-state-first',\n",
      "  'LOG_FILE': 'pyphi.log',\n",
      "  'LOG_FILE_LEVEL': 'INFO',\n",
      "  'LOG_STDOUT_LEVEL': 'WARNING',\n",
      "  'MAXIMUM_CACHE_MEMORY_PERCENTAGE': 50,\n",
      "  'MICE_TIE_RESOLUTION': 'MAX_INFORMITAVENESS_THEN_SMALLEST_PURVIEW',\n",
      "  'NUMBER_OF_CORES': -1,\n",
      "  'OVERLAP_RATIO': 'PURVIEW_SIZE',\n",
      "  'PARALLEL_COMPLEX_EVALUATION': True,\n",
      "  'PARALLEL_COMPOSITIONAL_STATE_EVALUATION': True,\n",
      "  'PARALLEL_CONCEPT_EVALUATION': True,\n",
      "  'PARALLEL_CUT_EVALUATION': True,\n",
      "  'PARTITION_TYPE': 'ALL',\n",
      "  'PRECISION': 13,\n",
      "  'PRINT_FRACTIONS': True,\n",
      "  'PROGRESS_BARS': True,\n",
      "  'RAY_CONFIG': {'address': 'auto'},\n",
      "  'REDIS_CACHE': False,\n",
      "  'REDIS_CONFIG': {'db': 0, 'host': 'localhost', 'port': 6379, 'test_db': 1},\n",
      "  'RELATION_COMPUTATION': 'ANALYTICAL',\n",
      "  'RELATION_ENFORCE_NO_DUPLICATE_PURVIEWS': False,\n",
      "  'RELATION_PARTITION_AGGREGATION': 'SUM',\n",
      "  'RELATION_PARTITION_TYPE': 'BI_CUT_ONE',\n",
      "  'RELATION_PHI_SCHEME': 'CONGRUENCE_RATIO_TIMES_INFORMATIVENESS',\n",
      "  'RELATION_POTENTIAL_PURVIEWS': 'WHOLE',\n",
      "  'RELATION_SAMPLE_DEGREES': False,\n",
      "  'RELATION_SAMPLE_SIZE': 1000,\n",
      "  'RELATION_SAMPLE_TIMEOUT': 1.0,\n",
      "  'RELATION_SUM_PHI_UPPER_BOUND': 'DISTINCT_AND_CONGRUENT_PURVIEWS',\n",
      "  'REPERTOIRE_DISTANCE': 'IIT_4.0_SMALL_PHI',\n",
      "  'REPERTOIRE_DISTANCE_INFORMATION': 'IIT_4.0_SMALL_PHI_NO_ABSOLUTE_VALUE',\n",
      "  'REPR_VERBOSITY': 2,\n",
      "  'SINGLE_MICRO_NODES_WITH_SELFLOOPS_HAVE_PHI': False,\n",
      "  'SYSTEM_CUTS': '3.0_STYLE',\n",
      "  'SYSTEM_PARTITION_TYPE': 'TEMPORAL_DIRECTED_BI',\n",
      "  'VALIDATE_CONDITIONAL_INDEPENDENCE': True,\n",
      "  'VALIDATE_SUBSYSTEM_STATES': True,\n",
      "  'WELCOME_OFF': False}\n"
     ]
    }
   ],
   "source": [
    "print(pyphi.config)"
   ]
  },
  {
   "cell_type": "code",
   "execution_count": 151,
   "metadata": {},
   "outputs": [],
   "source": [
    "CNOT_tpm = cnot().data.toarray()\n",
    "#CNOT_tpm = pyphi.convert.le2be_state_by_state(CNOT_tpm.real)"
   ]
  },
  {
   "cell_type": "code",
   "execution_count": 152,
   "metadata": {},
   "outputs": [
    {
     "data": {
      "text/plain": [
       "array([[1., 0., 0., 0.],\n",
       "       [0., 1., 0., 0.],\n",
       "       [0., 0., 0., 1.],\n",
       "       [0., 0., 1., 0.]])"
      ]
     },
     "execution_count": 152,
     "metadata": {},
     "output_type": "execute_result"
    }
   ],
   "source": [
    "CNOT_tpm.real"
   ]
  },
  {
   "cell_type": "code",
   "execution_count": 153,
   "metadata": {},
   "outputs": [],
   "source": [
    "# pyphi convention for state ordering is little endian\n",
    "CNOT_tpm = pyphi.convert.be2le_state_by_state(CNOT_tpm.real)"
   ]
  },
  {
   "cell_type": "code",
   "execution_count": 154,
   "metadata": {},
   "outputs": [],
   "source": [
    "network = pyphi.Network(CNOT_tpm)"
   ]
  },
  {
   "cell_type": "code",
   "execution_count": 157,
   "metadata": {},
   "outputs": [
    {
     "data": {
      "text/plain": [
       "[Maximally-irreducible effect\n",
       "   φ = 1\n",
       "   Mechanism: [n0]\n",
       "   Purview: [n0]\n",
       "   Specified state(s): \n",
       "     [1]\n",
       "   Direction: EFFECT\n",
       "   MIP:\n",
       "     n0     ∅ \n",
       "     ─── ✕ ───\n",
       "      ∅    n0 \n",
       "   Repertoire:\n",
       "     ┌─────────────┐\n",
       "     │ S    Pr(S)  │\n",
       "     │ ╴╴╴╴╴╴╴╴╴╴╴ │\n",
       "     │ 0    0      │\n",
       "     │ 1 *  1      │\n",
       "     └─────────────┘\n",
       "   Partitioned repertoire:\n",
       "     ┌─────────────┐\n",
       "     │ S    Pr(S)  │\n",
       "     │ ╴╴╴╴╴╴╴╴╴╴╴ │\n",
       "     │ 0    1/2    │\n",
       "     │ 1 *  1/2    │\n",
       "     └─────────────┘,\n",
       " Maximally-irreducible effect\n",
       "   φ = 1\n",
       "   Mechanism: [n0,n1]\n",
       "   Purview: [n1]\n",
       "   Specified state(s): \n",
       "     [1]\n",
       "   Direction: EFFECT\n",
       "   MIP:\n",
       "     n0,n1    ∅ \n",
       "     ───── ✕ ───\n",
       "       ∅     n1 \n",
       "   Repertoire:\n",
       "     ┌─────────────┐\n",
       "     │ S    Pr(S)  │\n",
       "     │ ╴╴╴╴╴╴╴╴╴╴╴ │\n",
       "     │ 0    0      │\n",
       "     │ 1 *  1      │\n",
       "     └─────────────┘\n",
       "   Partitioned repertoire:\n",
       "     ┌─────────────┐\n",
       "     │ S    Pr(S)  │\n",
       "     │ ╴╴╴╴╴╴╴╴╴╴╴ │\n",
       "     │ 0    1/2    │\n",
       "     │ 1 *  1/2    │\n",
       "     └─────────────┘]"
      ]
     },
     "execution_count": 157,
     "metadata": {},
     "output_type": "execute_result"
    }
   ],
   "source": [
    "# irreducible effects\n",
    "subsystem_e = pyphi.Subsystem(network, (1,0))\n",
    "mechs = pyphi.utils.powerset(range(len(network)), nonempty = True)\n",
    "effects = [subsystem_e.find_mice(pyphi.Direction.EFFECT, m) for m in mechs if subsystem_e.find_mice(pyphi.Direction.EFFECT, m).phi>0]\n",
    "effects"
   ]
  },
  {
   "cell_type": "code",
   "execution_count": 159,
   "metadata": {},
   "outputs": [
    {
     "data": {
      "text/plain": [
       "<bound method MaximallyIrreducibleCauseOrEffect.ties of Maximally-irreducible effect\n",
       "  φ = 1\n",
       "  Mechanism: [n0,n1]\n",
       "  Purview: [n1]\n",
       "  Specified state(s): \n",
       "    [1]\n",
       "  Direction: EFFECT\n",
       "  MIP:\n",
       "    n0,n1    ∅ \n",
       "    ───── ✕ ───\n",
       "      ∅     n1 \n",
       "  Repertoire:\n",
       "    ┌─────────────┐\n",
       "    │ S    Pr(S)  │\n",
       "    │ ╴╴╴╴╴╴╴╴╴╴╴ │\n",
       "    │ 0    0      │\n",
       "    │ 1 *  1      │\n",
       "    └─────────────┘\n",
       "  Partitioned repertoire:\n",
       "    ┌─────────────┐\n",
       "    │ S    Pr(S)  │\n",
       "    │ ╴╴╴╴╴╴╴╴╴╴╴ │\n",
       "    │ 0    1/2    │\n",
       "    │ 1 *  1/2    │\n",
       "    └─────────────┘>"
      ]
     },
     "execution_count": 159,
     "metadata": {},
     "output_type": "execute_result"
    }
   ],
   "source": [
    "effects[1].ties"
   ]
  },
  {
   "cell_type": "code",
   "execution_count": 161,
   "metadata": {},
   "outputs": [
    {
     "data": {
      "text/plain": [
       "[Maximally-irreducible cause\n",
       "   φ = 1\n",
       "   Mechanism: [n0]\n",
       "   Purview: [n0]\n",
       "   Specified state(s): \n",
       "     [1]\n",
       "   Direction: CAUSE\n",
       "   MIP:\n",
       "     n0     ∅ \n",
       "     ─── ✕ ───\n",
       "      ∅    n0 \n",
       "   Repertoire:\n",
       "     ┌─────────────┐\n",
       "     │ S    Pr(S)  │\n",
       "     │ ╴╴╴╴╴╴╴╴╴╴╴ │\n",
       "     │ 0    0      │\n",
       "     │ 1 *  1      │\n",
       "     └─────────────┘\n",
       "   Partitioned repertoire:\n",
       "     ┌─────────────┐\n",
       "     │ S    Pr(S)  │\n",
       "     │ ╴╴╴╴╴╴╴╴╴╴╴ │\n",
       "     │ 0    1/2    │\n",
       "     │ 1 *  1/2    │\n",
       "     └─────────────┘,\n",
       " Maximally-irreducible cause\n",
       "   φ = 1/2\n",
       "   Mechanism: [n1]\n",
       "   Purview: [n0,n1]\n",
       "   Specified state(s): \n",
       "     [1, 0]\n",
       "     [0, 1]\n",
       "   Direction: CAUSE\n",
       "   MIP:\n",
       "     n1      ∅  \n",
       "     ─── ✕ ─────\n",
       "      ∅    n0,n1\n",
       "   Repertoire:\n",
       "     ┌──────────────┐\n",
       "     │ S     Pr(S)  │\n",
       "     │ ╴╴╴╴╴╴╴╴╴╴╴╴ │\n",
       "     │ 00    0      │\n",
       "     │ 10 *  1/2    │\n",
       "     │ 01 *  1/2    │\n",
       "     │ 11    0      │\n",
       "     └──────────────┘\n",
       "   Partitioned repertoire:\n",
       "     ┌──────────────┐\n",
       "     │ S     Pr(S)  │\n",
       "     │ ╴╴╴╴╴╴╴╴╴╴╴╴ │\n",
       "     │ 00    1/4    │\n",
       "     │ 10 *  1/4    │\n",
       "     │ 01 *  1/4    │\n",
       "     │ 11    1/4    │\n",
       "     └──────────────┘,\n",
       " Maximally-irreducible cause\n",
       "   φ = 1\n",
       "   Mechanism: [n0,n1]\n",
       "   Purview: [n0,n1]\n",
       "   Specified state(s): \n",
       "     [1, 0]\n",
       "   Direction: CAUSE\n",
       "   MIP:\n",
       "     n0     n1      ∅ \n",
       "     ─── ✕ ───── ✕ ───\n",
       "      ∅    n0,n1    ∅ \n",
       "   Repertoire:\n",
       "     ┌──────────────┐\n",
       "     │ S     Pr(S)  │\n",
       "     │ ╴╴╴╴╴╴╴╴╴╴╴╴ │\n",
       "     │ 00    0      │\n",
       "     │ 10 *  1      │\n",
       "     │ 01    0      │\n",
       "     │ 11    0      │\n",
       "     └──────────────┘\n",
       "   Partitioned repertoire:\n",
       "     ┌──────────────┐\n",
       "     │ S     Pr(S)  │\n",
       "     │ ╴╴╴╴╴╴╴╴╴╴╴╴ │\n",
       "     │ 00    0      │\n",
       "     │ 10 *  1/2    │\n",
       "     │ 01    1/2    │\n",
       "     │ 11    0      │\n",
       "     └──────────────┘]"
      ]
     },
     "execution_count": 161,
     "metadata": {},
     "output_type": "execute_result"
    }
   ],
   "source": [
    "# irreducible effects\n",
    "subsystem_c = pyphi.Subsystem(network, (1,1))\n",
    "mechs = pyphi.utils.powerset(range(len(network)), nonempty = True)\n",
    "causes = [subsystem_c.find_mice(pyphi.Direction.CAUSE, m) for m in mechs if subsystem_c.find_mice(pyphi.Direction.CAUSE, m).phi>0]\n",
    "causes"
   ]
  },
  {
   "cell_type": "code",
   "execution_count": 164,
   "metadata": {},
   "outputs": [
    {
     "data": {
      "text/plain": [
       "<bound method MaximallyIrreducibleCauseOrEffect.ties of Maximally-irreducible cause\n",
       "  φ = 1\n",
       "  Mechanism: [n0,n1]\n",
       "  Purview: [n0,n1]\n",
       "  Specified state(s): \n",
       "    [1, 0]\n",
       "  Direction: CAUSE\n",
       "  MIP:\n",
       "    n0     n1      ∅ \n",
       "    ─── ✕ ───── ✕ ───\n",
       "     ∅    n0,n1    ∅ \n",
       "  Repertoire:\n",
       "    ┌──────────────┐\n",
       "    │ S     Pr(S)  │\n",
       "    │ ╴╴╴╴╴╴╴╴╴╴╴╴ │\n",
       "    │ 00    0      │\n",
       "    │ 10 *  1      │\n",
       "    │ 01    0      │\n",
       "    │ 11    0      │\n",
       "    └──────────────┘\n",
       "  Partitioned repertoire:\n",
       "    ┌──────────────┐\n",
       "    │ S     Pr(S)  │\n",
       "    │ ╴╴╴╴╴╴╴╴╴╴╴╴ │\n",
       "    │ 00    0      │\n",
       "    │ 10 *  1/2    │\n",
       "    │ 01    1/2    │\n",
       "    │ 11    0      │\n",
       "    └──────────────┘>"
      ]
     },
     "execution_count": 164,
     "metadata": {},
     "output_type": "execute_result"
    }
   ],
   "source": [
    "causes[2].ties"
   ]
  },
  {
   "cell_type": "code",
   "execution_count": 167,
   "metadata": {},
   "outputs": [
    {
     "data": {
      "text/plain": [
       "Maximally-irreducible effect\n",
       "  φ = 1\n",
       "  Mechanism: [n0,n1]\n",
       "  Purview: [n0,n1]\n",
       "  Specified state(s): \n",
       "    [1, 1]\n",
       "  Direction: EFFECT\n",
       "  MIP:\n",
       "     n0     n1     ∅ \n",
       "    ───── ✕ ─── ✕ ───\n",
       "    n0,n1    ∅     ∅ \n",
       "  Repertoire:\n",
       "    ┌──────────────┐\n",
       "    │ S     Pr(S)  │\n",
       "    │ ╴╴╴╴╴╴╴╴╴╴╴╴ │\n",
       "    │ 00    0      │\n",
       "    │ 10    0      │\n",
       "    │ 01    0      │\n",
       "    │ 11 *  1      │\n",
       "    └──────────────┘\n",
       "  Partitioned repertoire:\n",
       "    ┌──────────────┐\n",
       "    │ S     Pr(S)  │\n",
       "    │ ╴╴╴╴╴╴╴╴╴╴╴╴ │\n",
       "    │ 00    0      │\n",
       "    │ 10    1/2    │\n",
       "    │ 01    0      │\n",
       "    │ 11 *  1/2    │\n",
       "    └──────────────┘"
      ]
     },
     "execution_count": 167,
     "metadata": {},
     "output_type": "execute_result"
    }
   ],
   "source": [
    "subsystem_e.find_mice(pyphi.Direction.EFFECT, (0,1), ((0,1),))"
   ]
  },
  {
   "cell_type": "markdown",
   "metadata": {},
   "source": [
    "## Quantum results"
   ]
  },
  {
   "cell_type": "code",
   "execution_count": 168,
   "metadata": {},
   "outputs": [],
   "source": [
    "qgate = cnot()\n",
    "#qgate = tensor(qeye(2),qeye(2),qeye(2)) "
   ]
  },
  {
   "cell_type": "code",
   "execution_count": 186,
   "metadata": {},
   "outputs": [],
   "source": [
    "#rho = tensor(rho_one, rho_zero)\n",
    "#rho = tensor(rho_minus, rho_plus)\n",
    "#rho = tensor(rho_plus, rho_zero)\n",
    "rho = 0.5*tensor(rho_one, rho_one) + 0.5*tensor(rho_zero, rho_zero)"
   ]
  },
  {
   "cell_type": "code",
   "execution_count": 187,
   "metadata": {},
   "outputs": [
    {
     "data": {
      "text/latex": [
       "Quantum object: dims = [[2, 2], [2, 2]], shape = (4, 4), type = oper, isherm = True\\begin{equation*}\\left(\\begin{array}{*{11}c}0.500 & 0.0 & 0.0 & 0.0\\\\0.0 & 0.0 & 0.0 & 0.0\\\\0.0 & 0.0 & 0.0 & 0.0\\\\0.0 & 0.0 & 0.0 & 0.500\\\\\\end{array}\\right)\\end{equation*}"
      ],
      "text/plain": [
       "Quantum object: dims = [[2, 2], [2, 2]], shape = (4, 4), type = oper, isherm = True\n",
       "Qobj data =\n",
       "[[0.5 0.  0.  0. ]\n",
       " [0.  0.  0.  0. ]\n",
       " [0.  0.  0.  0. ]\n",
       " [0.  0.  0.  0.5]]"
      ]
     },
     "execution_count": 187,
     "metadata": {},
     "output_type": "execute_result"
    }
   ],
   "source": [
    "rho"
   ]
  },
  {
   "cell_type": "code",
   "execution_count": 188,
   "metadata": {},
   "outputs": [
    {
     "data": {
      "text/latex": [
       "Quantum object: dims = [[2, 2], [2, 2]], shape = (4, 4), type = oper, isherm = True\\begin{equation*}\\left(\\begin{array}{*{11}c}0.500 & 0.0 & 0.0 & 0.0\\\\0.0 & 0.0 & 0.0 & 0.0\\\\0.0 & 0.0 & 0.500 & 0.0\\\\0.0 & 0.0 & 0.0 & 0.0\\\\\\end{array}\\right)\\end{equation*}"
      ],
      "text/plain": [
       "Quantum object: dims = [[2, 2], [2, 2]], shape = (4, 4), type = oper, isherm = True\n",
       "Qobj data =\n",
       "[[0.5 0.  0.  0. ]\n",
       " [0.  0.  0.  0. ]\n",
       " [0.  0.  0.5 0. ]\n",
       " [0.  0.  0.  0. ]]"
      ]
     },
     "execution_count": 188,
     "metadata": {},
     "output_type": "execute_result"
    }
   ],
   "source": [
    "rho_e = evolve_unitary(rho, qgate, 'effect')\n",
    "rho_e"
   ]
  },
  {
   "cell_type": "code",
   "execution_count": 193,
   "metadata": {},
   "outputs": [
    {
     "name": "stdout",
     "output_type": "stream",
     "text": [
      "m:  (0,)\n",
      "p:  (0,)  phi:  0\n",
      "p:  (1,)  phi:  0\n",
      "p:  (0, 1)  phi:  0\n",
      "m:  (1,)\n",
      "p:  (0,)  phi:  0\n",
      "p:  (1,)  phi:  0\n",
      "p:  (0, 1)  phi:  0\n",
      "m:  (0, 1)\n",
      "p:  (0,)  phi:  0\n",
      "p:  (1,)  phi:  1.0\n",
      "p:  (0, 1)  phi:  0.5\n"
     ]
    }
   ],
   "source": [
    "result_e = compute_ces(rho, qgate, direction = 'effect')"
   ]
  },
  {
   "cell_type": "code",
   "execution_count": 194,
   "metadata": {},
   "outputs": [
    {
     "data": {
      "text/plain": [
       "[{'mech': (0, 1),\n",
       "  'purview': (1,),\n",
       "  'phi': 1.0,\n",
       "  'mip': 0,1    ∅ \n",
       "  ─── ✕ ───\n",
       "   ∅     1 ,\n",
       "  'state': [array([1.+0.j, 0.+0.j])]}]"
      ]
     },
     "execution_count": 194,
     "metadata": {},
     "output_type": "execute_result"
    }
   ],
   "source": [
    "result_e"
   ]
  },
  {
   "cell_type": "code",
   "execution_count": 195,
   "metadata": {},
   "outputs": [
    {
     "name": "stdout",
     "output_type": "stream",
     "text": [
      "m:  (0,)\n",
      "p:  (0,)  phi:  0\n",
      "p:  (1,)  phi:  0\n",
      "p:  (0, 1)  phi:  0\n",
      "m:  (1,)\n",
      "p:  (0,)  phi:  0\n",
      "p:  (1,)  phi:  0\n",
      "p:  (0, 1)  phi:  0.5\n",
      "m:  (0, 1)\n",
      "p:  (0,)  phi:  0\n",
      "p:  (1,)  phi:  0\n",
      "p:  (0, 1)  phi:  0\n"
     ]
    }
   ],
   "source": [
    "result_c = compute_ces(rho_e, qgate, direction = 'cause')"
   ]
  },
  {
   "cell_type": "code",
   "execution_count": 196,
   "metadata": {},
   "outputs": [
    {
     "data": {
      "text/plain": [
       "[{'mech': (1,),\n",
       "  'purview': (0, 1),\n",
       "  'phi': 0.5,\n",
       "  'mip':  1     ∅ \n",
       "  ─── ✕ ───\n",
       "   ∅    0,1,\n",
       "  'state': [array([1.+0.j, 0.+0.j, 0.+0.j, 0.+0.j]),\n",
       "   array([0.+0.j, 0.+0.j, 0.+0.j, 1.+0.j])]}]"
      ]
     },
     "execution_count": 196,
     "metadata": {},
     "output_type": "execute_result"
    }
   ],
   "source": [
    "result_c"
   ]
  },
  {
   "cell_type": "code",
   "execution_count": 185,
   "metadata": {},
   "outputs": [
    {
     "data": {
      "text/latex": [
       "Quantum object: dims = [[4], [1]], shape = (4, 1), type = ket\\begin{equation*}\\left(\\begin{array}{*{11}c}0.707\\\\0.0\\\\0.0\\\\0.707\\\\\\end{array}\\right)\\end{equation*}"
      ],
      "text/plain": [
       "Quantum object: dims = [[4], [1]], shape = (4, 1), type = ket\n",
       "Qobj data =\n",
       "[[0.70710678]\n",
       " [0.        ]\n",
       " [0.        ]\n",
       " [0.70710678]]"
      ]
     },
     "execution_count": 185,
     "metadata": {},
     "output_type": "execute_result"
    }
   ],
   "source": [
    "Qobj(result_e[0]['state'][0])"
   ]
  },
  {
   "cell_type": "code",
   "execution_count": 248,
   "metadata": {},
   "outputs": [
    {
     "data": {
      "text/latex": [
       "Quantum object: dims = [[2, 2], [1, 1]], shape = (4, 1), type = ket\\begin{equation*}\\left(\\begin{array}{*{11}c}0.0\\\\0.707\\\\0.707\\\\0.0\\\\\\end{array}\\right)\\end{equation*}"
      ],
      "text/plain": [
       "Quantum object: dims = [[2, 2], [1, 1]], shape = (4, 1), type = ket\n",
       "Qobj data =\n",
       "[[0.        ]\n",
       " [0.70710678]\n",
       " [0.70710678]\n",
       " [0.        ]]"
      ]
     },
     "execution_count": 248,
     "metadata": {},
     "output_type": "execute_result"
    }
   ],
   "source": [
    "bell_state(state = '10')"
   ]
  },
  {
   "cell_type": "markdown",
   "metadata": {},
   "source": [
    "# 3 Qubits"
   ]
  },
  {
   "cell_type": "code",
   "execution_count": 228,
   "metadata": {},
   "outputs": [],
   "source": [
    "#qgate = tensor(qeye(2), cnot())\n",
    "#qgate = fredkin()\n",
    "qgate = Qobj(qeye(8), dims = [[2, 2, 2], [2, 2, 2]])\n",
    "\n",
    "# Quantum OR\n",
    "# qgate = Qobj([[1,0,0,0,0,0,0,0], [0,1,0,0,0,0,0,0], [0,0,0,1,0,0,0,0], [0,0,1,0,0,0,0,0], \n",
    "#          [0,0,0,0,0,1,0,0], [0,0,0,0,1,0,0,0], [0,0,0,0,0,0,0,1], [0,0,0,0,0,0,1,0]], dims = [[2, 2, 2], [2, 2, 2]])\n",
    "# Quantum OR, c and b switched\n",
    "# qgate = Qobj([[1,0,0,0,0,0,0,0], [0,0,1,0,0,0,0,0], [0,0,0,1,0,0,0,0], [0,1,0,0,0,0,0,0], \n",
    "#          [0,0,0,0,0,0,1,0], [0,0,0,0,1,0,0,0], [0,0,0,0,0,0,0,1], [0,0,0,0,0,1,0,0]], dims = [[2, 2, 2], [2, 2, 2]])\n"
   ]
  },
  {
   "cell_type": "code",
   "execution_count": 229,
   "metadata": {},
   "outputs": [
    {
     "data": {
      "text/latex": [
       "Quantum object: dims = [[2, 2, 2], [2, 2, 2]], shape = (8, 8), type = oper, isherm = True\\begin{equation*}\\left(\\begin{array}{*{11}c}1.0 & 0.0 & 0.0 & 0.0 & 0.0 & 0.0 & 0.0 & 0.0\\\\0.0 & 1.0 & 0.0 & 0.0 & 0.0 & 0.0 & 0.0 & 0.0\\\\0.0 & 0.0 & 1.0 & 0.0 & 0.0 & 0.0 & 0.0 & 0.0\\\\0.0 & 0.0 & 0.0 & 1.0 & 0.0 & 0.0 & 0.0 & 0.0\\\\0.0 & 0.0 & 0.0 & 0.0 & 1.0 & 0.0 & 0.0 & 0.0\\\\0.0 & 0.0 & 0.0 & 0.0 & 0.0 & 1.0 & 0.0 & 0.0\\\\0.0 & 0.0 & 0.0 & 0.0 & 0.0 & 0.0 & 1.0 & 0.0\\\\0.0 & 0.0 & 0.0 & 0.0 & 0.0 & 0.0 & 0.0 & 1.0\\\\\\end{array}\\right)\\end{equation*}"
      ],
      "text/plain": [
       "Quantum object: dims = [[2, 2, 2], [2, 2, 2]], shape = (8, 8), type = oper, isherm = True\n",
       "Qobj data =\n",
       "[[1. 0. 0. 0. 0. 0. 0. 0.]\n",
       " [0. 1. 0. 0. 0. 0. 0. 0.]\n",
       " [0. 0. 1. 0. 0. 0. 0. 0.]\n",
       " [0. 0. 0. 1. 0. 0. 0. 0.]\n",
       " [0. 0. 0. 0. 1. 0. 0. 0.]\n",
       " [0. 0. 0. 0. 0. 1. 0. 0.]\n",
       " [0. 0. 0. 0. 0. 0. 1. 0.]\n",
       " [0. 0. 0. 0. 0. 0. 0. 1.]]"
      ]
     },
     "execution_count": 229,
     "metadata": {},
     "output_type": "execute_result"
    }
   ],
   "source": [
    "qgate"
   ]
  },
  {
   "cell_type": "code",
   "execution_count": 233,
   "metadata": {},
   "outputs": [
    {
     "data": {
      "text/latex": [
       "Quantum object: dims = [[2, 2, 2], [2, 2, 2]], shape = (8, 8), type = oper, isherm = True\\begin{equation*}\\left(\\begin{array}{*{11}c}0.0 & 0.0 & 0.0 & 0.0 & 0.0 & 0.0 & 0.0 & 0.0\\\\0.0 & 0.333 & 0.333 & 0.0 & 0.333 & 0.0 & 0.0 & 0.0\\\\0.0 & 0.333 & 0.333 & 0.0 & 0.333 & 0.0 & 0.0 & 0.0\\\\0.0 & 0.0 & 0.0 & 0.0 & 0.0 & 0.0 & 0.0 & 0.0\\\\0.0 & 0.333 & 0.333 & 0.0 & 0.333 & 0.0 & 0.0 & 0.0\\\\0.0 & 0.0 & 0.0 & 0.0 & 0.0 & 0.0 & 0.0 & 0.0\\\\0.0 & 0.0 & 0.0 & 0.0 & 0.0 & 0.0 & 0.0 & 0.0\\\\0.0 & 0.0 & 0.0 & 0.0 & 0.0 & 0.0 & 0.0 & 0.0\\\\\\end{array}\\right)\\end{equation*}"
      ],
      "text/plain": [
       "Quantum object: dims = [[2, 2, 2], [2, 2, 2]], shape = (8, 8), type = oper, isherm = True\n",
       "Qobj data =\n",
       "[[0.         0.         0.         0.         0.         0.\n",
       "  0.         0.        ]\n",
       " [0.         0.33333333 0.33333333 0.         0.33333333 0.\n",
       "  0.         0.        ]\n",
       " [0.         0.33333333 0.33333333 0.         0.33333333 0.\n",
       "  0.         0.        ]\n",
       " [0.         0.         0.         0.         0.         0.\n",
       "  0.         0.        ]\n",
       " [0.         0.33333333 0.33333333 0.         0.33333333 0.\n",
       "  0.         0.        ]\n",
       " [0.         0.         0.         0.         0.         0.\n",
       "  0.         0.        ]\n",
       " [0.         0.         0.         0.         0.         0.\n",
       "  0.         0.        ]\n",
       " [0.         0.         0.         0.         0.         0.\n",
       "  0.         0.        ]]"
      ]
     },
     "execution_count": 233,
     "metadata": {},
     "output_type": "execute_result"
    }
   ],
   "source": [
    "#rho = rho_GHZ\n",
    "#rho = tensor(rho_zero, rho_zero, rho_zero)\n",
    "# rho = ket2dm((ket((1,1,0)) + ket((0,0,1))).unit())\n",
    "rho = rho_W\n",
    "rho"
   ]
  },
  {
   "cell_type": "code",
   "execution_count": 234,
   "metadata": {},
   "outputs": [
    {
     "data": {
      "text/latex": [
       "Quantum object: dims = [[2, 2, 2], [2, 2, 2]], shape = (8, 8), type = oper, isherm = True\\begin{equation*}\\left(\\begin{array}{*{11}c}0.0 & 0.0 & 0.0 & 0.0 & 0.0 & 0.0 & 0.0 & 0.0\\\\0.0 & 0.333 & 0.333 & 0.0 & 0.333 & 0.0 & 0.0 & 0.0\\\\0.0 & 0.333 & 0.333 & 0.0 & 0.333 & 0.0 & 0.0 & 0.0\\\\0.0 & 0.0 & 0.0 & 0.0 & 0.0 & 0.0 & 0.0 & 0.0\\\\0.0 & 0.333 & 0.333 & 0.0 & 0.333 & 0.0 & 0.0 & 0.0\\\\0.0 & 0.0 & 0.0 & 0.0 & 0.0 & 0.0 & 0.0 & 0.0\\\\0.0 & 0.0 & 0.0 & 0.0 & 0.0 & 0.0 & 0.0 & 0.0\\\\0.0 & 0.0 & 0.0 & 0.0 & 0.0 & 0.0 & 0.0 & 0.0\\\\\\end{array}\\right)\\end{equation*}"
      ],
      "text/plain": [
       "Quantum object: dims = [[2, 2, 2], [2, 2, 2]], shape = (8, 8), type = oper, isherm = True\n",
       "Qobj data =\n",
       "[[0.         0.         0.         0.         0.         0.\n",
       "  0.         0.        ]\n",
       " [0.         0.33333333 0.33333333 0.         0.33333333 0.\n",
       "  0.         0.        ]\n",
       " [0.         0.33333333 0.33333333 0.         0.33333333 0.\n",
       "  0.         0.        ]\n",
       " [0.         0.         0.         0.         0.         0.\n",
       "  0.         0.        ]\n",
       " [0.         0.33333333 0.33333333 0.         0.33333333 0.\n",
       "  0.         0.        ]\n",
       " [0.         0.         0.         0.         0.         0.\n",
       "  0.         0.        ]\n",
       " [0.         0.         0.         0.         0.         0.\n",
       "  0.         0.        ]\n",
       " [0.         0.         0.         0.         0.         0.\n",
       "  0.         0.        ]]"
      ]
     },
     "execution_count": 234,
     "metadata": {},
     "output_type": "execute_result"
    }
   ],
   "source": [
    "rho_e = evolve_unitary(rho, qgate, 'effect')\n",
    "rho_e"
   ]
  },
  {
   "cell_type": "code",
   "execution_count": 235,
   "metadata": {},
   "outputs": [
    {
     "name": "stdout",
     "output_type": "stream",
     "text": [
      "m:  (0,)\n",
      "p:  (0,)  phi:  0.276692\n",
      "p:  (1,)  phi:  0\n",
      "p:  (2,)  phi:  0\n",
      "p:  (0, 1)  phi:  0.138346\n",
      "p:  (0, 2)  phi:  0.138346\n",
      "p:  (1, 2)  phi:  0\n",
      "p:  (0, 1, 2)  phi:  0.069173\n",
      "m:  (1,)\n",
      "p:  (0,)  phi:  0\n",
      "p:  (1,)  phi:  0.276692\n",
      "p:  (2,)  phi:  0\n",
      "p:  (0, 1)  phi:  0.138346\n",
      "p:  (0, 2)  phi:  0\n",
      "p:  (1, 2)  phi:  0.138346\n",
      "p:  (0, 1, 2)  phi:  0.069173\n",
      "m:  (2,)\n",
      "p:  (0,)  phi:  0\n",
      "p:  (1,)  phi:  0\n",
      "p:  (2,)  phi:  0.276692\n",
      "p:  (0, 1)  phi:  0\n",
      "p:  (0, 2)  phi:  0.138346\n",
      "p:  (1, 2)  phi:  0.138346\n",
      "p:  (0, 1, 2)  phi:  0.069173\n",
      "m:  (0, 1)\n",
      "p:  (0,)  phi:  0\n",
      "p:  (1,)  phi:  0\n",
      "p:  (2,)  phi:  0\n",
      "p:  (0, 1)  phi:  0.943358\n",
      "p:  (0, 2)  phi:  0\n",
      "p:  (1, 2)  phi:  0\n",
      "p:  (0, 1, 2)  phi:  0.471679\n",
      "m:  (0, 2)\n",
      "p:  (0,)  phi:  0\n",
      "p:  (1,)  phi:  0\n",
      "p:  (2,)  phi:  0\n",
      "p:  (0, 1)  phi:  0\n",
      "p:  (0, 2)  phi:  0.943358\n",
      "p:  (1, 2)  phi:  0\n",
      "p:  (0, 1, 2)  phi:  0.471679\n",
      "m:  (1, 2)\n",
      "p:  (0,)  phi:  0\n",
      "p:  (1,)  phi:  0\n",
      "p:  (2,)  phi:  0\n",
      "p:  (0, 1)  phi:  0\n",
      "p:  (0, 2)  phi:  0\n",
      "p:  (1, 2)  phi:  0.943358\n",
      "p:  (0, 1, 2)  phi:  0.471679\n",
      "m:  (0, 1, 2)\n",
      "p:  (0,)  phi:  0\n",
      "p:  (1,)  phi:  0\n",
      "p:  (2,)  phi:  0\n",
      "p:  (0, 1)  phi:  0\n",
      "p:  (0, 2)  phi:  0\n",
      "p:  (1, 2)  phi:  0\n",
      "p:  (0, 1, 2)  phi:  1.836592\n"
     ]
    }
   ],
   "source": [
    "result_e = compute_ces(rho, qgate, direction = 'effect')"
   ]
  },
  {
   "cell_type": "code",
   "execution_count": 242,
   "metadata": {},
   "outputs": [
    {
     "data": {
      "text/plain": [
       "[{'mech': (0,),\n",
       "  'purview': (0,),\n",
       "  'phi': 0.276692,\n",
       "  'mip':  0     ∅ \n",
       "  ─── ✕ ───\n",
       "   ∅     0 ,\n",
       "  'state': [array([1.+0.j, 0.+0.j])]},\n",
       " {'mech': (1,),\n",
       "  'purview': (1,),\n",
       "  'phi': 0.276692,\n",
       "  'mip':  1     ∅ \n",
       "  ─── ✕ ───\n",
       "   ∅     1 ,\n",
       "  'state': [array([1.+0.j, 0.+0.j])]},\n",
       " {'mech': (2,),\n",
       "  'purview': (2,),\n",
       "  'phi': 0.276692,\n",
       "  'mip':  2     ∅ \n",
       "  ─── ✕ ───\n",
       "   ∅     2 ,\n",
       "  'state': [array([1.+0.j, 0.+0.j])]},\n",
       " {'mech': (0, 1),\n",
       "  'purview': (0, 1),\n",
       "  'phi': 0.943358,\n",
       "  'mip': 0,1    ∅ \n",
       "  ─── ✕ ───\n",
       "   ∅    0,1,\n",
       "  'state': [array([0.        +0.j, 0.70710678+0.j, 0.70710678+0.j, 0.        +0.j])]},\n",
       " {'mech': (0, 2),\n",
       "  'purview': (0, 2),\n",
       "  'phi': 0.943358,\n",
       "  'mip': 0,2    ∅ \n",
       "  ─── ✕ ───\n",
       "   ∅    0,2,\n",
       "  'state': [array([0.        +0.j, 0.70710678+0.j, 0.70710678+0.j, 0.        +0.j])]},\n",
       " {'mech': (1, 2),\n",
       "  'purview': (1, 2),\n",
       "  'phi': 0.943358,\n",
       "  'mip': 1,2    ∅ \n",
       "  ─── ✕ ───\n",
       "   ∅    1,2,\n",
       "  'state': [array([0.        +0.j, 0.70710678+0.j, 0.70710678+0.j, 0.        +0.j])]},\n",
       " {'mech': (0, 1, 2),\n",
       "  'purview': (0, 1, 2),\n",
       "  'phi': 1.836592,\n",
       "  'mip':  0    1,2    ∅ \n",
       "  ─── ✕ ─── ✕ ───\n",
       "   0    1,2    ∅ ,\n",
       "  'state': [array([-0.        -0.j,  0.57735027+0.j,  0.57735027-0.j, -0.        -0.j,\n",
       "           0.57735027-0.j, -0.        -0.j, -0.        -0.j, -0.        -0.j])]}]"
      ]
     },
     "execution_count": 242,
     "metadata": {},
     "output_type": "execute_result"
    }
   ],
   "source": [
    "result_e"
   ]
  },
  {
   "cell_type": "code",
   "execution_count": 222,
   "metadata": {},
   "outputs": [
    {
     "name": "stdout",
     "output_type": "stream",
     "text": [
      "m:  (0,)\n",
      "p:  (0,)  phi:  0\n",
      "p:  (1,)  phi:  0\n",
      "p:  (2,)  phi:  0\n",
      "p:  (0, 1)  phi:  0\n",
      "p:  (0, 2)  phi:  0\n",
      "p:  (1, 2)  phi:  0\n",
      "p:  (0, 1, 2)  phi:  0\n",
      "m:  (1,)\n",
      "p:  (0,)  phi:  0\n",
      "p:  (1,)  phi:  0\n",
      "p:  (2,)  phi:  0\n",
      "p:  (0, 1)  phi:  0\n",
      "p:  (0, 2)  phi:  0\n",
      "p:  (1, 2)  phi:  0\n",
      "p:  (0, 1, 2)  phi:  0\n",
      "m:  (2,)\n",
      "p:  (0,)  phi:  0\n",
      "p:  (1,)  phi:  0\n",
      "p:  (2,)  phi:  0\n",
      "p:  (0, 1)  phi:  0\n",
      "p:  (0, 2)  phi:  0\n",
      "p:  (1, 2)  phi:  0.5\n",
      "p:  (0, 1, 2)  phi:  0.25\n",
      "m:  (0, 1)\n",
      "p:  (0,)  phi:  0\n",
      "p:  (1,)  phi:  0\n",
      "p:  (2,)  phi:  0\n",
      "p:  (0, 1)  phi:  0.5\n",
      "p:  (0, 2)  phi:  0\n",
      "p:  (1, 2)  phi:  0\n",
      "p:  (0, 1, 2)  phi:  1.0\n",
      "m:  (0, 2)\n",
      "p:  (0,)  phi:  0\n",
      "p:  (1,)  phi:  0\n",
      "p:  (2,)  phi:  0\n",
      "p:  (0, 1)  phi:  0\n",
      "p:  (0, 2)  phi:  0\n",
      "p:  (1, 2)  phi:  0\n",
      "p:  (0, 1, 2)  phi:  0\n",
      "m:  (1, 2)\n",
      "p:  (0,)  phi:  0\n",
      "p:  (1,)  phi:  0\n",
      "p:  (2,)  phi:  0\n",
      "p:  (0, 1)  phi:  0\n",
      "p:  (0, 2)  phi:  0\n",
      "p:  (1, 2)  phi:  0\n",
      "p:  (0, 1, 2)  phi:  0\n",
      "m:  (0, 1, 2)\n",
      "p:  (0,)  phi:  0\n",
      "p:  (1,)  phi:  0\n",
      "p:  (2,)  phi:  0\n",
      "p:  (0, 1)  phi:  0\n",
      "p:  (0, 2)  phi:  0\n",
      "p:  (1, 2)  phi:  0\n",
      "p:  (0, 1, 2)  phi:  1.0\n"
     ]
    }
   ],
   "source": [
    "result_c = compute_ces(rho_e, qgate, direction = 'cause')"
   ]
  },
  {
   "cell_type": "code",
   "execution_count": 224,
   "metadata": {},
   "outputs": [
    {
     "data": {
      "text/plain": [
       "[{'mech': (2,),\n",
       "  'purview': (1, 2),\n",
       "  'phi': 0.5,\n",
       "  'mip':  2     ∅ \n",
       "  ─── ✕ ───\n",
       "   ∅    1,2,\n",
       "  'state': [array([1.+0.j, 0.+0.j, 0.+0.j, 0.+0.j]),\n",
       "   array([0.+0.j, 0.+0.j, 0.+0.j, 1.+0.j])]},\n",
       " {'mech': (0, 1),\n",
       "  'purview': (0, 1, 2),\n",
       "  'phi': 1.0,\n",
       "  'mip': 0,1     ∅  \n",
       "  ─── ✕ ─────\n",
       "   ∅    0,1,2,\n",
       "  'state': [array([0.70710678+0.j, 0.        +0.j, 0.        +0.j, 0.        +0.j,\n",
       "          0.        +0.j, 0.        +0.j, 0.        +0.j, 0.70710678+0.j]),\n",
       "   array([0.        +0.j, 0.70710678+0.j, 0.        +0.j, 0.        +0.j,\n",
       "          0.        +0.j, 0.        +0.j, 0.70710678+0.j, 0.        +0.j])]},\n",
       " {'mech': (0, 1, 2),\n",
       "  'purview': (0, 1, 2),\n",
       "  'phi': 1.0,\n",
       "  'mip':  0,1     2     ∅ \n",
       "  ───── ✕ ─── ✕ ───\n",
       "  0,1,2    ∅     ∅ ,\n",
       "  'state': [array([0.70710678+0.j, 0.        +0.j, 0.        +0.j, 0.        +0.j,\n",
       "          0.        +0.j, 0.        +0.j, 0.        +0.j, 0.70710678+0.j])]}]"
      ]
     },
     "execution_count": 224,
     "metadata": {},
     "output_type": "execute_result"
    }
   ],
   "source": [
    "result_c"
   ]
  },
  {
   "cell_type": "code",
   "execution_count": 244,
   "metadata": {},
   "outputs": [
    {
     "data": {
      "text/latex": [
       "Quantum object: dims = [[4], [1]], shape = (4, 1), type = ket\\begin{equation*}\\left(\\begin{array}{*{11}c}0.0\\\\0.707\\\\0.707\\\\0.0\\\\\\end{array}\\right)\\end{equation*}"
      ],
      "text/plain": [
       "Quantum object: dims = [[4], [1]], shape = (4, 1), type = ket\n",
       "Qobj data =\n",
       "[[0.        ]\n",
       " [0.70710678]\n",
       " [0.70710678]\n",
       " [0.        ]]"
      ]
     },
     "execution_count": 244,
     "metadata": {},
     "output_type": "execute_result"
    }
   ],
   "source": [
    "Qobj(result_e[3]['state'][0])"
   ]
  },
  {
   "cell_type": "code",
   "execution_count": 243,
   "metadata": {},
   "outputs": [
    {
     "data": {
      "text/latex": [
       "Quantum object: dims = [[2], [2]], shape = (2, 2), type = oper, isherm = True\\begin{equation*}\\left(\\begin{array}{*{11}c}0.667 & 0.0\\\\0.0 & 0.333\\\\\\end{array}\\right)\\end{equation*}"
      ],
      "text/plain": [
       "Quantum object: dims = [[2], [2]], shape = (2, 2), type = oper, isherm = True\n",
       "Qobj data =\n",
       "[[0.66666667 0.        ]\n",
       " [0.         0.33333333]]"
      ]
     },
     "execution_count": 243,
     "metadata": {},
     "output_type": "execute_result"
    }
   ],
   "source": [
    "ptrace(rho_W, (0,))"
   ]
  },
  {
   "cell_type": "markdown",
   "metadata": {},
   "source": [
    "# Measurement"
   ]
  },
  {
   "cell_type": "code",
   "execution_count": 206,
   "metadata": {},
   "outputs": [],
   "source": [
    "qgate = [tensor(rho_zero, qeye(2)), tensor(rho_one, qeye(2))]\n",
    "#qgate = tensor(rho_zero, qeye(2))"
   ]
  },
  {
   "cell_type": "code",
   "execution_count": 111,
   "metadata": {},
   "outputs": [
    {
     "data": {
      "text/plain": [
       "[Quantum object: dims = [[2, 2], [2, 2]], shape = (4, 4), type = oper, isherm = True\n",
       " Qobj data =\n",
       " [[1. 0. 0. 0.]\n",
       "  [0. 1. 0. 0.]\n",
       "  [0. 0. 0. 0.]\n",
       "  [0. 0. 0. 0.]],\n",
       " Quantum object: dims = [[2, 2], [2, 2]], shape = (4, 4), type = oper, isherm = True\n",
       " Qobj data =\n",
       " [[0. 0. 0. 0.]\n",
       "  [0. 0. 0. 0.]\n",
       "  [0. 0. 1. 0.]\n",
       "  [0. 0. 0. 1.]]]"
      ]
     },
     "execution_count": 111,
     "metadata": {},
     "output_type": "execute_result"
    }
   ],
   "source": [
    "qgate"
   ]
  },
  {
   "cell_type": "code",
   "execution_count": 119,
   "metadata": {},
   "outputs": [
    {
     "data": {
      "text/latex": [
       "Quantum object: dims = [[2, 2], [2, 2]], shape = (4, 4), type = oper, isherm = True\\begin{equation*}\\left(\\begin{array}{*{11}c}0.100 & 0.0 & 0.200 & 0.0\\\\0.0 & 0.100 & 0.0 & 0.200\\\\0.200 & 0.0 & 0.400 & 0.0\\\\0.0 & 0.200 & 0.0 & 0.400\\\\\\end{array}\\right)\\end{equation*}"
      ],
      "text/plain": [
       "Quantum object: dims = [[2, 2], [2, 2]], shape = (4, 4), type = oper, isherm = True\n",
       "Qobj data =\n",
       "[[0.1 0.  0.2 0. ]\n",
       " [0.  0.1 0.  0.2]\n",
       " [0.2 0.  0.4 0. ]\n",
       " [0.  0.2 0.  0.4]]"
      ]
     },
     "execution_count": 119,
     "metadata": {},
     "output_type": "execute_result"
    }
   ],
   "source": [
    "rho = tensor(rho_sp, rho_mm)\n",
    "#rho = rho_bell\n",
    "rho"
   ]
  },
  {
   "cell_type": "code",
   "execution_count": 120,
   "metadata": {},
   "outputs": [
    {
     "data": {
      "text/plain": [
       "True"
      ]
     },
     "execution_count": 120,
     "metadata": {},
     "output_type": "execute_result"
    }
   ],
   "source": [
    "kraus_to_super(qgate).iscptp"
   ]
  },
  {
   "cell_type": "code",
   "execution_count": 134,
   "metadata": {},
   "outputs": [
    {
     "data": {
      "text/latex": [
       "Quantum object: dims = [[2], [2]], shape = (2, 2), type = oper, isherm = True\\begin{equation*}\\left(\\begin{array}{*{11}c}0.200 & 0.0\\\\0.0 & 0.800\\\\\\end{array}\\right)\\end{equation*}"
      ],
      "text/plain": [
       "Quantum object: dims = [[2], [2]], shape = (2, 2), type = oper, isherm = True\n",
       "Qobj data =\n",
       "[[0.2 0. ]\n",
       " [0.  0.8]]"
      ]
     },
     "execution_count": 134,
     "metadata": {},
     "output_type": "execute_result"
    }
   ],
   "source": [
    "rho_m = evolve_cptp(rho, qgate, 'effect')\n",
    "rho_m.ptrace(0)"
   ]
  },
  {
   "cell_type": "code",
   "execution_count": 122,
   "metadata": {},
   "outputs": [
    {
     "data": {
      "text/latex": [
       "Quantum object: dims = [[2, 2], [2, 2]], shape = (4, 4), type = oper, isherm = True\\begin{equation*}\\left(\\begin{array}{*{11}c}0.100 & 0.0 & 0.0 & 0.0\\\\0.0 & 0.100 & 0.0 & 0.0\\\\0.0 & 0.0 & 0.400 & 0.0\\\\0.0 & 0.0 & 0.0 & 0.400\\\\\\end{array}\\right)\\end{equation*}"
      ],
      "text/plain": [
       "Quantum object: dims = [[2, 2], [2, 2]], shape = (4, 4), type = oper, isherm = True\n",
       "Qobj data =\n",
       "[[0.1 0.  0.  0. ]\n",
       " [0.  0.1 0.  0. ]\n",
       " [0.  0.  0.4 0. ]\n",
       " [0.  0.  0.  0.4]]"
      ]
     },
     "execution_count": 122,
     "metadata": {},
     "output_type": "execute_result"
    }
   ],
   "source": [
    "evolve_cptp(rho_m, qgate, 'cause')"
   ]
  },
  {
   "cell_type": "code",
   "execution_count": 135,
   "metadata": {},
   "outputs": [
    {
     "name": "stdout",
     "output_type": "stream",
     "text": [
      "m:  (0,)\n",
      "p:  (0,)  phi:  1.0\n",
      "p:  (1,)  phi:  0\n",
      "p:  (0, 1)  phi:  0.5\n",
      "m:  (1,)\n",
      "p:  (0,)  phi:  0\n",
      "p:  (1,)  phi:  0\n",
      "p:  (0, 1)  phi:  0\n",
      "m:  (0, 1)\n",
      "p:  (0,)  phi:  0\n",
      "p:  (1,)  phi:  0\n",
      "p:  (0, 1)  phi:  0\n"
     ]
    }
   ],
   "source": [
    "result = compute_ces(tensor(rho_one, rho_mm), qgate, direction = 'effect')"
   ]
  },
  {
   "cell_type": "code",
   "execution_count": 136,
   "metadata": {},
   "outputs": [
    {
     "data": {
      "text/plain": [
       "[{'mech': (0,),\n",
       "  'purview': (0,),\n",
       "  'phi': 1.0,\n",
       "  'mip':  0     ∅ \n",
       "  ─── ✕ ───\n",
       "   ∅     0 ,\n",
       "  'state': [array([0.+0.j, 1.+0.j])]}]"
      ]
     },
     "execution_count": 136,
     "metadata": {},
     "output_type": "execute_result"
    }
   ],
   "source": [
    "result"
   ]
  },
  {
   "cell_type": "code",
   "execution_count": 103,
   "metadata": {},
   "outputs": [
    {
     "name": "stdout",
     "output_type": "stream",
     "text": [
      "m:  (0,)\n",
      "p:  (0,)  phi:  0.542458\n",
      "p:  (1,)  phi:  0\n",
      "p:  (0, 1)  phi:  0.271229\n",
      "m:  (1,)\n",
      "p:  (0,)  phi:  0\n",
      "p:  (1,)  phi:  0\n",
      "p:  (0, 1)  phi:  0\n",
      "m:  (0, 1)\n",
      "p:  (0,)  phi:  0\n",
      "p:  (1,)  phi:  0\n",
      "p:  (0, 1)  phi:  0\n"
     ]
    }
   ],
   "source": [
    "result_c = compute_ces(rho_m, qgate, direction = 'cause')"
   ]
  },
  {
   "cell_type": "code",
   "execution_count": 104,
   "metadata": {},
   "outputs": [
    {
     "data": {
      "text/plain": [
       "[{'mech': (0,),\n",
       "  'purview': (0,),\n",
       "  'phi': 0.542458,\n",
       "  'mip':  0     ∅ \n",
       "  ─── ✕ ───\n",
       "   ∅     0 ,\n",
       "  'state': [array([0.+0.j, 1.+0.j])]}]"
      ]
     },
     "execution_count": 104,
     "metadata": {},
     "output_type": "execute_result"
    }
   ],
   "source": [
    "result_c"
   ]
  },
  {
   "cell_type": "code",
   "execution_count": 132,
   "metadata": {},
   "outputs": [
    {
     "data": {
      "text/latex": [
       "Quantum object: dims = [[2], [2]], shape = (2, 2), type = oper, isherm = True\\begin{equation*}\\left(\\begin{array}{*{11}c}0.200 & 0.400\\\\0.400 & 0.800\\\\\\end{array}\\right)\\end{equation*}"
      ],
      "text/plain": [
       "Quantum object: dims = [[2], [2]], shape = (2, 2), type = oper, isherm = True\n",
       "Qobj data =\n",
       "[[0.2 0.4]\n",
       " [0.4 0.8]]"
      ]
     },
     "execution_count": 132,
     "metadata": {},
     "output_type": "execute_result"
    }
   ],
   "source": [
    "rho_sp"
   ]
  },
  {
   "cell_type": "code",
   "execution_count": 133,
   "metadata": {},
   "outputs": [
    {
     "data": {
      "text/plain": [
       "([Quantum object: dims = [[2, 2], [2, 2]], shape = (4, 4), type = oper, isherm = True\n",
       "  Qobj data =\n",
       "  [[0.5 0.  0.  0. ]\n",
       "   [0.  0.5 0.  0. ]\n",
       "   [0.  0.  0.  0. ]\n",
       "   [0.  0.  0.  0. ]],\n",
       "  Quantum object: dims = [[2, 2], [2, 2]], shape = (4, 4), type = oper, isherm = True\n",
       "  Qobj data =\n",
       "  [[0.  0.  0.  0. ]\n",
       "   [0.  0.  0.  0. ]\n",
       "   [0.  0.  0.5 0. ]\n",
       "   [0.  0.  0.  0.5]]],\n",
       " [0.19999999999999998, 0.7999999999999999])"
      ]
     },
     "execution_count": 133,
     "metadata": {},
     "output_type": "execute_result"
    }
   ],
   "source": [
    "measurement_statistics(rho, qgate)"
   ]
  },
  {
   "cell_type": "code",
   "execution_count": null,
   "metadata": {},
   "outputs": [],
   "source": []
  }
 ],
 "metadata": {
  "interpreter": {
   "hash": "4bf9d181db4ce6ac350460a925b0a6d42e04d8febba218abd55fece0461021fd"
  },
  "kernelspec": {
   "display_name": "Python 3 (ipykernel)",
   "language": "python",
   "name": "python3"
  },
  "language_info": {
   "codemirror_mode": {
    "name": "ipython",
    "version": 3
   },
   "file_extension": ".py",
   "mimetype": "text/x-python",
   "name": "python",
   "nbconvert_exporter": "python",
   "pygments_lexer": "ipython3",
   "version": "3.9.12"
  }
 },
 "nbformat": 4,
 "nbformat_minor": 2
}
