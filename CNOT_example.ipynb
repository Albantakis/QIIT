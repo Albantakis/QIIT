{
 "cells": [
  {
   "cell_type": "code",
   "execution_count": 1,
   "metadata": {},
   "outputs": [
    {
     "name": "stdout",
     "output_type": "stream",
     "text": [
      "\n",
      "Welcome to PyPhi!\n",
      "\n",
      "If you use PyPhi in your research, please cite the paper:\n",
      "\n",
      "  Mayner WGP, Marshall W, Albantakis L, Findlay G, Marchman R, Tononi G.\n",
      "  (2018). PyPhi: A toolbox for integrated information theory.\n",
      "  PLOS Computational Biology 14(7): e1006343.\n",
      "  https://doi.org/10.1371/journal.pcbi.1006343\n",
      "\n",
      "Documentation is available online (or with the built-in `help()` function):\n",
      "  https://pyphi.readthedocs.io\n",
      "\n",
      "To report issues, please use the issue tracker on the GitHub repository:\n",
      "  https://github.com/wmayner/pyphi\n",
      "\n",
      "For general discussion, you are welcome to join the pyphi-users group:\n",
      "  https://groups.google.com/forum/#!forum/pyphi-users\n",
      "\n",
      "To suppress this message, either:\n",
      "  - Set `WELCOME_OFF: true` in your `pyphi_config.yml` file, or\n",
      "  - Set the environment variable PYPHI_WELCOME_OFF to any value in your shell:\n",
      "        export PYPHI_WELCOME_OFF='yes'\n",
      "\n"
     ]
    },
    {
     "name": "stderr",
     "output_type": "stream",
     "text": [
      "/Users/albantakis/miniconda3/envs/QIIT/lib/python3.10/site-packages/qutip/__init__.py:128: UserWarning: matplotlib not found: Graphics will not work.\n",
      "  warnings.warn(\"matplotlib not found: Graphics will not work.\")\n"
     ]
    }
   ],
   "source": [
    "import numpy as np\n",
    "import pyphi\n",
    "\n",
    "from qutip import *\n",
    "from qutip_qip.operations import *\n",
    "from intrinsic_difference import intrinsic_difference\n",
    "from utils import *\n",
    "from compute_ces import *"
   ]
  },
  {
   "cell_type": "code",
   "execution_count": 2,
   "metadata": {},
   "outputs": [],
   "source": [
    "%load_ext autoreload\n",
    "%autoreload 2"
   ]
  },
  {
   "cell_type": "markdown",
   "metadata": {},
   "source": [
    "# Define states and matrices"
   ]
  },
  {
   "cell_type": "code",
   "execution_count": 3,
   "metadata": {},
   "outputs": [],
   "source": [
    "# Basis states (for both classical and quantum)\n",
    "zero = basis(2,0)\n",
    "one = basis(2,1)\n",
    "\n",
    "# Normalized fully general quantum state\n",
    "plus = (zero + one).unit()\n",
    "minus = (zero - one).unit()\n",
    "superposition = (1/3*zero + 2/3*one).unit()\n",
    "\n",
    "# Density matrix representations of the states\n",
    "rho_zero = zero * zero.dag() # could also be fock_dm(2,0)\n",
    "rho_one = one * one.dag()\n",
    "rho_plus = plus * plus.dag()\n",
    "rho_minus = minus * minus.dag()\n",
    "rho_sp = superposition * superposition.dag()\n",
    "rho_mm = 0.5 * rho_zero + 0.5 * rho_one\n",
    "\n",
    "rho_mix = 0.5*(tensor(rho_zero, rho_zero) + tensor(rho_one, rho_one))\n",
    "rho_bell = ket2dm(bell_state(state = '00'))\n",
    "rho_GHZ = ket2dm(ghz_state(N=3))\n",
    "rho_W = ket2dm(w_state(N=3))\n",
    "rho_bellmix = 1/3*(tensor(rho_bell, rho_zero) + tensor(rho_zero, rho_bell) + tensor(rho_zero, rho_bell).permute([1,0,2]))\n",
    "\n",
    "rho_bennet = 1/(3-4)*(1-(tensor(rho_zero, rho_one, rho_plus) + tensor(rho_one, rho_plus, rho_zero) \n",
    "                        + tensor(rho_plus, rho_zero, rho_one) + tensor(rho_minus, rho_minus, rho_minus)))\n"
   ]
  },
  {
   "cell_type": "code",
   "execution_count": 4,
   "metadata": {},
   "outputs": [],
   "source": [
    "pyphi.config.MEASURE = 'ID'\n",
    "pyphi.config.PARTITION_TYPE = 'TRI'\n",
    "pyphi.config.PICK_SMALLEST_PURVIEW = True"
   ]
  },
  {
   "cell_type": "code",
   "execution_count": 5,
   "metadata": {},
   "outputs": [
    {
     "name": "stdout",
     "output_type": "stream",
     "text": [
      "ID |0> :  (1.0, [array([1.+0.j, 0.+0.j])])\n",
      "ID |+> :  (1.0, [array([0.70710678+0.j, 0.70710678+0.j])])\n"
     ]
    }
   ],
   "source": [
    "print('ID |0> : ', intrinsic_difference(rho_zero, rho_mm))\n",
    "print('ID |+> : ', intrinsic_difference(rho_plus, rho_mm))"
   ]
  },
  {
   "cell_type": "markdown",
   "metadata": {},
   "source": [
    "# Classical results"
   ]
  },
  {
   "cell_type": "code",
   "execution_count": 6,
   "metadata": {},
   "outputs": [
    {
     "name": "stdout",
     "output_type": "stream",
     "text": [
      "{ 'ACTUAL_CAUSATION_MEASURE': 'PMI',\n",
      "  'ASSUME_CUTS_CANNOT_CREATE_NEW_CONCEPTS': False,\n",
      "  'CACHE_POTENTIAL_PURVIEWS': True,\n",
      "  'CACHE_REPERTOIRES': True,\n",
      "  'CACHE_SIAS': False,\n",
      "  'CACHING_BACKEND': 'fs',\n",
      "  'CLEAR_SUBSYSTEM_CACHES_AFTER_COMPUTING_SIA': False,\n",
      "  'CUT_ONE_APPROXIMATION': False,\n",
      "  'FS_CACHE_DIRECTORY': '__pyphi_cache__',\n",
      "  'FS_CACHE_VERBOSITY': 0,\n",
      "  'LOG_FILE': 'pyphi.log',\n",
      "  'LOG_FILE_LEVEL': 'INFO',\n",
      "  'LOG_STDOUT_LEVEL': 'WARNING',\n",
      "  'MAXIMUM_CACHE_MEMORY_PERCENTAGE': 50,\n",
      "  'MEASURE': 'ID',\n",
      "  'MONGODB_CONFIG': { 'collection_name': 'cache',\n",
      "                      'database_name': 'pyphi',\n",
      "                      'host': 'localhost',\n",
      "                      'port': 27017},\n",
      "  'NUMBER_OF_CORES': -1,\n",
      "  'PARALLEL_COMPLEX_EVALUATION': False,\n",
      "  'PARALLEL_CONCEPT_EVALUATION': False,\n",
      "  'PARALLEL_CUT_EVALUATION': True,\n",
      "  'PARTITION_TYPE': 'TRI',\n",
      "  'PICK_SMALLEST_PURVIEW': True,\n",
      "  'PRECISION': 6,\n",
      "  'PRINT_FRACTIONS': True,\n",
      "  'PROGRESS_BARS': True,\n",
      "  'REDIS_CACHE': False,\n",
      "  'REDIS_CONFIG': {'db': 0, 'host': 'localhost', 'port': 6379, 'test_db': 1},\n",
      "  'REPR_VERBOSITY': 2,\n",
      "  'SINGLE_MICRO_NODES_WITH_SELFLOOPS_HAVE_PHI': False,\n",
      "  'SYSTEM_CUTS': '3.0_STYLE',\n",
      "  'USE_SMALL_PHI_DIFFERENCE_FOR_CES_DISTANCE': False,\n",
      "  'VALIDATE_CONDITIONAL_INDEPENDENCE': True,\n",
      "  'VALIDATE_SUBSYSTEM_STATES': True,\n",
      "  'WELCOME_OFF': False}\n"
     ]
    }
   ],
   "source": [
    "print(pyphi.config)"
   ]
  },
  {
   "cell_type": "code",
   "execution_count": 7,
   "metadata": {},
   "outputs": [],
   "source": [
    "qgate = cnot()\n",
    "state = (1,1)\n",
    "Qtpm = qgate.data.toarray()"
   ]
  },
  {
   "cell_type": "code",
   "execution_count": 8,
   "metadata": {},
   "outputs": [
    {
     "data": {
      "text/plain": [
       "array([[1., 0., 0., 0.],\n",
       "       [0., 1., 0., 0.],\n",
       "       [0., 0., 0., 1.],\n",
       "       [0., 0., 1., 0.]])"
      ]
     },
     "execution_count": 8,
     "metadata": {},
     "output_type": "execute_result"
    }
   ],
   "source": [
    "Qtpm.real"
   ]
  },
  {
   "cell_type": "code",
   "execution_count": 9,
   "metadata": {},
   "outputs": [],
   "source": [
    "# pyphi convention for state ordering is little endian\n",
    "Qtpm = pyphi.convert.be2le_state_by_state(Qtpm.real)"
   ]
  },
  {
   "cell_type": "code",
   "execution_count": 10,
   "metadata": {},
   "outputs": [],
   "source": [
    "network = pyphi.Network(Qtpm)\n",
    "subsystem = pyphi.Subsystem(network, state)"
   ]
  },
  {
   "cell_type": "code",
   "execution_count": 11,
   "metadata": {},
   "outputs": [
    {
     "name": "stderr",
     "output_type": "stream",
     "text": []
    }
   ],
   "source": [
    "ces = pyphi.compute.ces(subsystem)"
   ]
  },
  {
   "cell_type": "code",
   "execution_count": 12,
   "metadata": {},
   "outputs": [
    {
     "data": {
      "text/plain": [
       "════════════════════════════════════════════════════════════\n",
       "            Cause-effect structure (2 concepts)             \n",
       "════════════════════════════════════════════════════════════\n",
       "  ━━━━━━━━━━━━━━━━━━━━━━━━━━━━━━━━━━━━━━━━━━━━━━━━━━━━━━━━  \n",
       "              Concept: Mechanism = [n0], φ = 1              \n",
       "  ━━━━━━━━━━━━━━━━━━━━━━━━━━━━━━━━━━━━━━━━━━━━━━━━━━━━━━━━  \n",
       "              MIC                         MIE               \n",
       "  ┌──────────────────────────┐┌──────────────────────────┐  \n",
       "  │  φ = 1                   ││  φ = 1                   │  \n",
       "  │  Purview = [n0]          ││  Purview = [n0]          │  \n",
       "  │  MIP:                    ││  MIP:                    │  \n",
       "  │     ∅     ∅    n0        ││     ∅     ∅    n0        │  \n",
       "  │    ─── ✕ ─── ✕ ───       ││    ─── ✕ ─── ✕ ───       │  \n",
       "  │     ∅    n0     ∅        ││     ∅    n0     ∅        │  \n",
       "  │  Repertoire:             ││  Repertoire:             │  \n",
       "  │    ┌─────────────┐       ││    ┌─────────────┐       │  \n",
       "  │    │ S    Pr(S)  │       ││    │ S    Pr(S)  │       │  \n",
       "  │    │ ╴╴╴╴╴╴╴╴╴╴╴ │       ││    │ ╴╴╴╴╴╴╴╴╴╴╴ │       │  \n",
       "  │    │ 0    0      │       ││    │ 0    0      │       │  \n",
       "  │    │ 1    1      │       ││    │ 1    1      │       │  \n",
       "  │    └─────────────┘       ││    └─────────────┘       │  \n",
       "  │  Partitioned repertoire: ││  Partitioned repertoire: │  \n",
       "  │    ┌─────────────┐       ││    ┌─────────────┐       │  \n",
       "  │    │ S    Pr(S)  │       ││    │ S    Pr(S)  │       │  \n",
       "  │    │ ╴╴╴╴╴╴╴╴╴╴╴ │       ││    │ ╴╴╴╴╴╴╴╴╴╴╴ │       │  \n",
       "  │    │ 0    1/2    │       ││    │ 0    1/2    │       │  \n",
       "  │    │ 1    1/2    │       ││    │ 1    1/2    │       │  \n",
       "  │    └─────────────┘       ││    └─────────────┘       │  \n",
       "  └──────────────────────────┘└──────────────────────────┘  \n",
       "    \n",
       "  ━━━━━━━━━━━━━━━━━━━━━━━━━━━━━━━━━━━━━━━━━━━━━━━━━━━━━━━━  \n",
       "            Concept: Mechanism = [n0, n1], φ = 1            \n",
       "  ━━━━━━━━━━━━━━━━━━━━━━━━━━━━━━━━━━━━━━━━━━━━━━━━━━━━━━━━  \n",
       "              MIC                         MIE               \n",
       "  ┌──────────────────────────┐┌──────────────────────────┐  \n",
       "  │  φ = 1                   ││  φ = 1                   │  \n",
       "  │  Purview = [n0, n1]      ││  Purview = [n1]          │  \n",
       "  │  MIP:                    ││  MIP:                    │  \n",
       "  │     ∅     n0     n1      ││     ∅     ∅    n0,n1     │  \n",
       "  │    ─── ✕ ───── ✕ ───     ││    ─── ✕ ─── ✕ ─────     │  \n",
       "  │     ∅    n0,n1    ∅      ││     ∅    n1      ∅       │  \n",
       "  │  Repertoire:             ││  Repertoire:             │  \n",
       "  │    ┌──────────────┐      ││    ┌─────────────┐       │  \n",
       "  │    │ S     Pr(S)  │      ││    │ S    Pr(S)  │       │  \n",
       "  │    │ ╴╴╴╴╴╴╴╴╴╴╴╴ │      ││    │ ╴╴╴╴╴╴╴╴╴╴╴ │       │  \n",
       "  │    │ 00    0      │      ││    │ 0    1      │       │  \n",
       "  │    │ 10    1      │      ││    │ 1    0      │       │  \n",
       "  │    │ 01    0      │      ││    └─────────────┘       │  \n",
       "  │    │ 11    0      │      ││  Partitioned repertoire: │  \n",
       "  │    └──────────────┘      ││    ┌─────────────┐       │  \n",
       "  │  Partitioned repertoire: ││    │ S    Pr(S)  │       │  \n",
       "  │    ┌──────────────┐      ││    │ ╴╴╴╴╴╴╴╴╴╴╴ │       │  \n",
       "  │    │ S     Pr(S)  │      ││    │ 0    1/2    │       │  \n",
       "  │    │ ╴╴╴╴╴╴╴╴╴╴╴╴ │      ││    │ 1    1/2    │       │  \n",
       "  │    │ 00    0      │      ││    └─────────────┘       │  \n",
       "  │    │ 10    1/2    │      │└──────────────────────────┘  \n",
       "  │    │ 01    0      │      │                              \n",
       "  │    │ 11    1/2    │      │                              \n",
       "  │    └──────────────┘      │                              \n",
       "  └──────────────────────────┘                              \n",
       "    "
      ]
     },
     "execution_count": 12,
     "metadata": {},
     "output_type": "execute_result"
    }
   ],
   "source": [
    "ces"
   ]
  },
  {
   "cell_type": "code",
   "execution_count": 13,
   "metadata": {},
   "outputs": [
    {
     "data": {
      "text/plain": [
       "Maximally-irreducible cause\n",
       "  φ = 1/2\n",
       "  Mechanism: [n1]\n",
       "  Purview = [n0, n1]\n",
       "  Direction: CAUSE\n",
       "  MIP:\n",
       "     ∅      ∅     n1 \n",
       "    ─── ✕ ───── ✕ ───\n",
       "     ∅    n0,n1    ∅ \n",
       "  Repertoire:\n",
       "    ┌──────────────┐\n",
       "    │ S     Pr(S)  │\n",
       "    │ ╴╴╴╴╴╴╴╴╴╴╴╴ │\n",
       "    │ 00    0      │\n",
       "    │ 10    1/2    │\n",
       "    │ 01    1/2    │\n",
       "    │ 11    0      │\n",
       "    └──────────────┘\n",
       "  Partitioned repertoire:\n",
       "    ┌──────────────┐\n",
       "    │ S     Pr(S)  │\n",
       "    │ ╴╴╴╴╴╴╴╴╴╴╴╴ │\n",
       "    │ 00    1/4    │\n",
       "    │ 10    1/4    │\n",
       "    │ 01    1/4    │\n",
       "    │ 11    1/4    │\n",
       "    └──────────────┘"
      ]
     },
     "execution_count": 13,
     "metadata": {},
     "output_type": "execute_result"
    }
   ],
   "source": [
    "subsystem.find_mice(pyphi.direction.Direction(0), (1,))"
   ]
  },
  {
   "cell_type": "markdown",
   "metadata": {},
   "source": [
    "# Quantum results"
   ]
  },
  {
   "cell_type": "markdown",
   "metadata": {},
   "source": [
    "## 2 Qubit"
   ]
  },
  {
   "cell_type": "code",
   "execution_count": 14,
   "metadata": {},
   "outputs": [],
   "source": [
    "qgate = cnot()\n",
    "#qgate = tensor(qeye(2),qeye(2),qeye(2)) "
   ]
  },
  {
   "cell_type": "code",
   "execution_count": 15,
   "metadata": {},
   "outputs": [],
   "source": [
    "rho = tensor(rho_minus, rho_plus)\n",
    "#rho = tensor(rho_mm, rho_one)\n",
    "#rho = rho_mix"
   ]
  },
  {
   "cell_type": "code",
   "execution_count": 16,
   "metadata": {},
   "outputs": [
    {
     "data": {
      "text/latex": [
       "Quantum object: dims = [[2, 2], [2, 2]], shape = (4, 4), type = oper, isherm = True\\begin{equation*}\\left(\\begin{array}{*{11}c}0.250 & 0.250 & -0.250 & -0.250\\\\0.250 & 0.250 & -0.250 & -0.250\\\\-0.250 & -0.250 & 0.250 & 0.250\\\\-0.250 & -0.250 & 0.250 & 0.250\\\\\\end{array}\\right)\\end{equation*}"
      ],
      "text/plain": [
       "Quantum object: dims = [[2, 2, 2], [2, 2, 2]], shape = (8, 8), type = oper, isherm = True\n",
       "Qobj data =\n",
       "[[ 0.25  0.25 -0.25 -0.25]\n",
       " [ 0.25  0.25 -0.25 -0.25]\n",
       " [-0.25 -0.25  0.25  0.25]\n",
       " [-0.25 -0.25  0.25  0.25]]"
      ]
     },
     "execution_count": 16,
     "metadata": {},
     "output_type": "execute_result"
    }
   ],
   "source": [
    "rho"
   ]
  },
  {
   "cell_type": "code",
   "execution_count": 17,
   "metadata": {},
   "outputs": [
    {
     "data": {
      "text/latex": [
       "Quantum object: dims = [[2, 2], [2, 2]], shape = (4, 4), type = oper, isherm = True\\begin{equation*}\\left(\\begin{array}{*{11}c}0.250 & 0.250 & -0.250 & -0.250\\\\0.250 & 0.250 & -0.250 & -0.250\\\\-0.250 & -0.250 & 0.250 & 0.250\\\\-0.250 & -0.250 & 0.250 & 0.250\\\\\\end{array}\\right)\\end{equation*}"
      ],
      "text/plain": [
       "Quantum object: dims = [[2], [2]], shape = (2, 2), type = oper, isherm = True\n",
       "Qobj data =\n",
       "[[ 0.25  0.25 -0.25 -0.25]\n",
       " [ 0.25  0.25 -0.25 -0.25]\n",
       " [-0.25 -0.25  0.25  0.25]\n",
       " [-0.25 -0.25  0.25  0.25]]"
      ]
     },
     "execution_count": 17,
     "metadata": {},
     "output_type": "execute_result"
    }
   ],
   "source": [
    "rho_e = evolve_unitary(rho, qgate, 'effect')\n",
    "rho_e"
   ]
  },
  {
   "cell_type": "code",
   "execution_count": 18,
   "metadata": {},
   "outputs": [
    {
     "data": {
      "text/latex": [
       "Quantum object: dims = [[2], [2]], shape = (2, 2), type = oper, isherm = True\\begin{equation*}\\left(\\begin{array}{*{11}c}0.500 & 0.500\\\\0.500 & 0.500\\\\\\end{array}\\right)\\end{equation*}"
      ],
      "text/plain": [
       "Quantum object: dims = [[2], [2]], shape = (2, 2), type = oper, isherm = True\n",
       "Qobj data =\n",
       "[[0.5 0.5]\n",
       " [0.5 0.5]]"
      ]
     },
     "execution_count": 18,
     "metadata": {},
     "output_type": "execute_result"
    }
   ],
   "source": [
    "rho_e.ptrace([1,])"
   ]
  },
  {
   "cell_type": "code",
   "execution_count": 19,
   "metadata": {},
   "outputs": [
    {
     "name": "stdout",
     "output_type": "stream",
     "text": [
      "m:  (0,)\n",
      "p:  (0,)  phi:  0.276692\n",
      "p:  (1,)  phi:  0\n",
      "p:  (2,)  phi:  0\n",
      "p:  (0, 1)  phi:  0.138346\n",
      "p:  (0, 2)  phi:  0.138346\n",
      "p:  (1, 2)  phi:  0\n",
      "p:  (0, 1, 2)  phi:  0.069173\n",
      "m:  (1,)\n",
      "p:  (0,)  phi:  0\n",
      "p:  (1,)  phi:  1.0\n",
      "p:  (0, 1)  phi:  0.5\n",
      "m:  (0, 1)\n",
      "p:  (0,)  phi:  1.0\n",
      "p:  (1,)  phi:  0\n",
      "p:  (0, 1)  phi:  1.0\n"
     ]
    }
   ],
   "source": [
    "result = compute_ces(rho, qgate, direction = 'effect')"
   ]
  },
  {
   "cell_type": "code",
   "execution_count": 21,
   "metadata": {},
   "outputs": [
    {
     "data": {
      "text/plain": [
       "[{'mech': (1,),\n",
       "  'purview': (1,),\n",
       "  'phi': 1.0,\n",
       "  'mip':  ∅     ∅     1 \n",
       "  ─── ✕ ─── ✕ ───\n",
       "   ∅     1     ∅ ,\n",
       "  'state': [array([0.70710678+0.j, 0.70710678+0.j])]},\n",
       " {'mech': (0, 1),\n",
       "  'purview': (0,),\n",
       "  'phi': 1.0,\n",
       "  'mip':  ∅     ∅    0,1\n",
       "  ─── ✕ ─── ✕ ───\n",
       "   ∅     0     ∅ ,\n",
       "  'state': [array([ 0.70710678+0.j, -0.70710678+0.j])]}]"
      ]
     },
     "execution_count": 21,
     "metadata": {},
     "output_type": "execute_result"
    }
   ],
   "source": [
    "result"
   ]
  },
  {
   "cell_type": "code",
   "execution_count": 22,
   "metadata": {},
   "outputs": [
    {
     "name": "stdout",
     "output_type": "stream",
     "text": [
      "m:  (0,)\n",
      "p:  (0,)  phi:  0\n",
      "p:  (1,)  phi:  0\n",
      "p:  (0, 1)  phi:  0.5\n",
      "m:  (1,)\n",
      "p:  (0,)  phi:  0\n",
      "p:  (1,)  phi:  1.0\n",
      "p:  (0, 1)  phi:  0.5\n",
      "m:  (0, 1)\n",
      "p:  (0,)  phi:  0\n",
      "p:  (1,)  phi:  0\n",
      "p:  (0, 1)  phi:  1.0\n"
     ]
    }
   ],
   "source": [
    "result_cause = compute_ces(rho_e, qgate, direction = 'cause')"
   ]
  },
  {
   "cell_type": "code",
   "execution_count": 23,
   "metadata": {},
   "outputs": [
    {
     "data": {
      "text/plain": [
       "[{'mech': (0,),\n",
       "  'purview': (0, 1),\n",
       "  'phi': 0.5,\n",
       "  'mip':  ∅     ∅     0 \n",
       "  ─── ✕ ─── ✕ ───\n",
       "   ∅    0,1    ∅ ,\n",
       "  'state': [array([-0.70710678-0.j, -0.        -0.j, -0.        -0.j,  0.70710678+0.j]),\n",
       "   array([ 0.        +0.j,  0.70710678+0.j, -0.70710678+0.j, -0.        +0.j])]},\n",
       " {'mech': (1,),\n",
       "  'purview': (1,),\n",
       "  'phi': 1.0,\n",
       "  'mip':  ∅     ∅     1 \n",
       "  ─── ✕ ─── ✕ ───\n",
       "   ∅     1     ∅ ,\n",
       "  'state': [array([0.70710678-0.j, 0.70710678+0.j])]},\n",
       " {'mech': (0, 1),\n",
       "  'purview': (0, 1),\n",
       "  'phi': 1.0,\n",
       "  'mip':  ∅     0     1 \n",
       "  ─── ✕ ─── ✕ ───\n",
       "   ∅    0,1    ∅ ,\n",
       "  'state': [array([ 0.5-0.j,  0.5+0.j, -0.5-0.j, -0.5-0.j])]}]"
      ]
     },
     "execution_count": 23,
     "metadata": {},
     "output_type": "execute_result"
    }
   ],
   "source": [
    "result_cause"
   ]
  },
  {
   "cell_type": "code",
   "execution_count": 31,
   "metadata": {},
   "outputs": [
    {
     "data": {
      "text/latex": [
       "Quantum object: dims = [[4], [4]], shape = (4, 4), type = oper, isherm = True\\begin{equation*}\\left(\\begin{array}{*{11}c}0.250 & 0.0 & 0.0 & -0.250\\\\0.0 & 0.250 & -0.250 & 0.0\\\\0.0 & -0.250 & 0.250 & 0.0\\\\-0.250 & 0.0 & 0.0 & 0.250\\\\\\end{array}\\right)\\end{equation*}"
      ],
      "text/plain": [
       "Quantum object: dims = [[4], [4]], shape = (4, 4), type = oper, isherm = True\n",
       "Qobj data =\n",
       "[[ 0.25  0.    0.   -0.25]\n",
       " [ 0.    0.25 -0.25  0.  ]\n",
       " [ 0.   -0.25  0.25  0.  ]\n",
       " [-0.25  0.    0.    0.25]]"
      ]
     },
     "execution_count": 31,
     "metadata": {},
     "output_type": "execute_result"
    }
   ],
   "source": [
    "(ket2dm(Qobj(result_cause[0]['state'][0])) + ket2dm(Qobj(result_cause[0]['state'][1]))).unit()"
   ]
  },
  {
   "cell_type": "code",
   "execution_count": 33,
   "metadata": {},
   "outputs": [
    {
     "data": {
      "text/latex": [
       "Quantum object: dims = [[2, 2], [2, 2]], shape = (4, 4), type = oper, isherm = True\\begin{equation*}\\left(\\begin{array}{*{11}c}0.250 & 0.0 & 0.0 & -0.250\\\\0.0 & 0.250 & -0.250 & 0.0\\\\0.0 & -0.250 & 0.250 & 0.0\\\\-0.250 & 0.0 & 0.0 & 0.250\\\\\\end{array}\\right)\\end{equation*}"
      ],
      "text/plain": [
       "Quantum object: dims = [[2, 2], [2, 2]], shape = (4, 4), type = oper, isherm = True\n",
       "Qobj data =\n",
       "[[ 0.25  0.    0.   -0.25]\n",
       " [ 0.    0.25 -0.25  0.  ]\n",
       " [ 0.   -0.25  0.25  0.  ]\n",
       " [-0.25  0.    0.    0.25]]"
      ]
     },
     "execution_count": 33,
     "metadata": {},
     "output_type": "execute_result"
    }
   ],
   "source": [
    "(tensor(rho_minus, rho_plus) + tensor(rho_plus, rho_minus)).unit()"
   ]
  },
  {
   "cell_type": "code",
   "execution_count": 35,
   "metadata": {},
   "outputs": [
    {
     "data": {
      "text/latex": [
       "Quantum object: dims = [[2, 2], [2, 2]], shape = (4, 4), type = oper, isherm = True\\begin{equation*}\\left(\\begin{array}{*{11}c}0.0 & -0.250 & -0.250 & 0.0\\\\-0.250 & 0.0 & 0.0 & -0.250\\\\-0.250 & 0.0 & 0.0 & -0.250\\\\0.0 & -0.250 & -0.250 & 0.0\\\\\\end{array}\\right)\\end{equation*}"
      ],
      "text/plain": [
       "Quantum object: dims = [[2, 2], [2, 2]], shape = (4, 4), type = oper, isherm = True\n",
       "Qobj data =\n",
       "[[ 0.   -0.25 -0.25  0.  ]\n",
       " [-0.25  0.    0.   -0.25]\n",
       " [-0.25  0.    0.   -0.25]\n",
       " [ 0.   -0.25 -0.25  0.  ]]"
      ]
     },
     "execution_count": 35,
     "metadata": {},
     "output_type": "execute_result"
    }
   ],
   "source": [
    "(tensor(rho_minus, rho_minus) - tensor(rho_plus, rho_plus)).unit()"
   ]
  },
  {
   "cell_type": "code",
   "execution_count": 36,
   "metadata": {},
   "outputs": [
    {
     "data": {
      "text/latex": [
       "Quantum object: dims = [[[2, 2], [2, 2]], [1]], shape = (16, 1), type = operator-ket\\begin{equation*}\\left(\\begin{array}{*{11}c}0.250\\\\0.250\\\\-0.250\\\\-0.250\\\\0.250\\\\\\vdots\\\\0.250\\\\-0.250\\\\-0.250\\\\0.250\\\\0.250\\\\\\end{array}\\right)\\end{equation*}"
      ],
      "text/plain": [
       "Quantum object: dims = [[[2, 2], [2, 2]], [1]], shape = (16, 1), type = operator-ket\n",
       "Qobj data =\n",
       "[[ 0.25]\n",
       " [ 0.25]\n",
       " [-0.25]\n",
       " [-0.25]\n",
       " [ 0.25]\n",
       " [ 0.25]\n",
       " [-0.25]\n",
       " [-0.25]\n",
       " [-0.25]\n",
       " [-0.25]\n",
       " [ 0.25]\n",
       " [ 0.25]\n",
       " [-0.25]\n",
       " [-0.25]\n",
       " [ 0.25]\n",
       " [ 0.25]]"
      ]
     },
     "execution_count": 36,
     "metadata": {},
     "output_type": "execute_result"
    }
   ],
   "source": [
    "operator_to_vector(tensor(rho_minus, rho_plus))"
   ]
  },
  {
   "cell_type": "code",
   "execution_count": 161,
   "metadata": {},
   "outputs": [
    {
     "data": {
      "text/latex": [
       "Quantum object: dims = [[2, 2], [1, 1]], shape = (4, 1), type = ket\\begin{equation*}\\left(\\begin{array}{*{11}c}0.707\\\\0.0\\\\0.0\\\\-0.707\\\\\\end{array}\\right)\\end{equation*}"
      ],
      "text/plain": [
       "Quantum object: dims = [[2, 2], [1, 1]], shape = (4, 1), type = ket\n",
       "Qobj data =\n",
       "[[ 0.70710678]\n",
       " [ 0.        ]\n",
       " [ 0.        ]\n",
       " [-0.70710678]]"
      ]
     },
     "execution_count": 161,
     "metadata": {},
     "output_type": "execute_result"
    }
   ],
   "source": [
    "bell_state(state='01')"
   ]
  },
  {
   "cell_type": "markdown",
   "metadata": {},
   "source": [
    "## 3 Qubits"
   ]
  },
  {
   "cell_type": "code",
   "execution_count": 80,
   "metadata": {},
   "outputs": [
    {
     "name": "stdout",
     "output_type": "stream",
     "text": [
      "m:  (0,)\n",
      "p:  (0,)  phi:  0\n",
      "p:  (1,)  phi:  0\n",
      "p:  (2,)  phi:  0\n",
      "p:  (0, 1)  phi:  0\n",
      "p:  (0, 2)  phi:  0\n",
      "p:  (1, 2)  phi:  0\n",
      "p:  (0, 1, 2)  phi:  0\n",
      "m:  (1,)\n",
      "p:  (0,)  phi:  0\n",
      "p:  (1,)  phi:  0\n",
      "p:  (2,)  phi:  0\n",
      "p:  (0, 1)  phi:  0\n",
      "p:  (0, 2)  phi:  0\n",
      "p:  (1, 2)  phi:  0\n",
      "p:  (0, 1, 2)  phi:  0\n",
      "m:  (2,)\n",
      "p:  (0,)  phi:  0\n",
      "p:  (1,)  phi:  0\n",
      "p:  (2,)  phi:  0\n",
      "p:  (0, 1)  phi:  0\n",
      "p:  (0, 2)  phi:  0\n",
      "p:  (1, 2)  phi:  0\n",
      "p:  (0, 1, 2)  phi:  0\n",
      "m:  (0, 1)\n",
      "p:  (0,)  phi:  0\n",
      "p:  (1,)  phi:  0.438722\n",
      "p:  (2,)  phi:  0.438722\n",
      "p:  (0, 1)  phi:  0.219361\n",
      "p:  (0, 2)  phi:  0.219361\n",
      "p:  (1, 2)  phi:  0.658083\n",
      "p:  (0, 1, 2)  phi:  0.329041\n",
      "m:  (0, 2)\n",
      "p:  (0,)  phi:  0\n",
      "p:  (1,)  phi:  0.438722\n",
      "p:  (2,)  phi:  0.438722\n",
      "p:  (0, 1)  phi:  0.219361\n",
      "p:  (0, 2)  phi:  0.219361\n",
      "p:  (1, 2)  phi:  0.658083\n",
      "p:  (0, 1, 2)  phi:  0.329041\n",
      "m:  (1, 2)\n",
      "p:  (0,)  phi:  0\n",
      "p:  (1,)  phi:  0\n",
      "p:  (2,)  phi:  0\n",
      "p:  (0, 1)  phi:  0\n",
      "p:  (0, 2)  phi:  0\n",
      "p:  (1, 2)  phi:  0\n",
      "p:  (0, 1, 2)  phi:  0\n",
      "m:  (0, 1, 2)\n",
      "p:  (0,)  phi:  1.0\n",
      "p:  (1,)  phi:  0.415037\n",
      "p:  (2,)  phi:  0.415037\n",
      "p:  (0, 1)  phi:  1.415037\n",
      "p:  (0, 2)  phi:  1.415037\n",
      "p:  (1, 2)  phi:  0.830075\n",
      "p:  (0, 1, 2)  phi:  1.830075\n"
     ]
    }
   ],
   "source": [
    "qgate = tensor(qeye(2), cnot())\n",
    "#qgate = tensor(qeye(2),qeye(2),qeye(2))"
   ]
  },
  {
   "cell_type": "code",
   "execution_count": 81,
   "metadata": {},
   "outputs": [
    {
     "data": {
      "text/latex": [
       "Quantum object: dims = [[2, 2, 2], [2, 2, 2]], shape = (8, 8), type = oper, isherm = True\\begin{equation*}\\left(\\begin{array}{*{11}c}0.500 & 0.0 & 0.0 & 0.0 & 0.0 & 0.0 & 0.0 & 0.500\\\\0.0 & 0.0 & 0.0 & 0.0 & 0.0 & 0.0 & 0.0 & 0.0\\\\0.0 & 0.0 & 0.0 & 0.0 & 0.0 & 0.0 & 0.0 & 0.0\\\\0.0 & 0.0 & 0.0 & 0.0 & 0.0 & 0.0 & 0.0 & 0.0\\\\0.0 & 0.0 & 0.0 & 0.0 & 0.0 & 0.0 & 0.0 & 0.0\\\\0.0 & 0.0 & 0.0 & 0.0 & 0.0 & 0.0 & 0.0 & 0.0\\\\0.0 & 0.0 & 0.0 & 0.0 & 0.0 & 0.0 & 0.0 & 0.0\\\\0.500 & 0.0 & 0.0 & 0.0 & 0.0 & 0.0 & 0.0 & 0.500\\\\\\end{array}\\right)\\end{equation*}"
      ],
      "text/plain": [
       "Quantum object: dims = [[2], [2]], shape = (2, 2), type = oper, isherm = True\n",
       "Qobj data =\n",
       "[[0.5 0.  0.  0.  0.  0.  0.  0.5]\n",
       " [0.  0.  0.  0.  0.  0.  0.  0. ]\n",
       " [0.  0.  0.  0.  0.  0.  0.  0. ]\n",
       " [0.  0.  0.  0.  0.  0.  0.  0. ]\n",
       " [0.  0.  0.  0.  0.  0.  0.  0. ]\n",
       " [0.  0.  0.  0.  0.  0.  0.  0. ]\n",
       " [0.  0.  0.  0.  0.  0.  0.  0. ]\n",
       " [0.5 0.  0.  0.  0.  0.  0.  0.5]]"
      ]
     },
     "execution_count": 81,
     "metadata": {},
     "output_type": "execute_result"
    }
   ],
   "source": [
    "#rho = tensor(rho_bell, rho_zero)\n",
    "rho = rho_GHZ\n",
    "#rho = ket2dm(GHZ2)\n",
    "rho"
   ]
  },
  {
   "cell_type": "code",
   "execution_count": 82,
   "metadata": {},
   "outputs": [
    {
     "data": {
      "text/latex": [
       "Quantum object: dims = [[2, 2, 2], [2, 2, 2]], shape = (8, 8), type = oper, isherm = True\\begin{equation*}\\left(\\begin{array}{*{11}c}0.500 & 0.0 & 0.0 & 0.0 & 0.0 & 0.0 & 0.500 & 0.0\\\\0.0 & 0.0 & 0.0 & 0.0 & 0.0 & 0.0 & 0.0 & 0.0\\\\0.0 & 0.0 & 0.0 & 0.0 & 0.0 & 0.0 & 0.0 & 0.0\\\\0.0 & 0.0 & 0.0 & 0.0 & 0.0 & 0.0 & 0.0 & 0.0\\\\0.0 & 0.0 & 0.0 & 0.0 & 0.0 & 0.0 & 0.0 & 0.0\\\\0.0 & 0.0 & 0.0 & 0.0 & 0.0 & 0.0 & 0.0 & 0.0\\\\0.500 & 0.0 & 0.0 & 0.0 & 0.0 & 0.0 & 0.500 & 0.0\\\\0.0 & 0.0 & 0.0 & 0.0 & 0.0 & 0.0 & 0.0 & 0.0\\\\\\end{array}\\right)\\end{equation*}"
      ],
      "text/plain": [
       "Quantum object: dims = [[2, 2, 2], [2, 2, 2]], shape = (8, 8), type = oper, isherm = True\n",
       "Qobj data =\n",
       "[[0.5 0.  0.  0.  0.  0.  0.5 0. ]\n",
       " [0.  0.  0.  0.  0.  0.  0.  0. ]\n",
       " [0.  0.  0.  0.  0.  0.  0.  0. ]\n",
       " [0.  0.  0.  0.  0.  0.  0.  0. ]\n",
       " [0.  0.  0.  0.  0.  0.  0.  0. ]\n",
       " [0.  0.  0.  0.  0.  0.  0.  0. ]\n",
       " [0.5 0.  0.  0.  0.  0.  0.5 0. ]\n",
       " [0.  0.  0.  0.  0.  0.  0.  0. ]]"
      ]
     },
     "execution_count": 82,
     "metadata": {},
     "output_type": "execute_result"
    }
   ],
   "source": [
    "rho_e = evolve_unitary(rho, qgate, 'effect')\n",
    "rho_e"
   ]
  },
  {
   "cell_type": "code",
   "execution_count": 83,
   "metadata": {},
   "outputs": [
    {
     "data": {
      "text/latex": [
       "Quantum object: dims = [[2, 2], [2, 2]], shape = (4, 4), type = oper, isherm = True\\begin{equation*}\\left(\\begin{array}{*{11}c}0.500 & 0.0 & 0.0 & 0.500\\\\0.0 & 0.0 & 0.0 & 0.0\\\\0.0 & 0.0 & 0.0 & 0.0\\\\0.500 & 0.0 & 0.0 & 0.500\\\\\\end{array}\\right)\\end{equation*}"
      ],
      "text/plain": [
       "Quantum object: dims = [[2, 2], [2, 2]], shape = (4, 4), type = oper, isherm = True\n",
       "Qobj data =\n",
       "[[0.5 0.  0.  0.5]\n",
       " [0.  0.  0.  0. ]\n",
       " [0.  0.  0.  0. ]\n",
       " [0.5 0.  0.  0.5]]"
      ]
     },
     "execution_count": 83,
     "metadata": {},
     "output_type": "execute_result"
    }
   ],
   "source": [
    "rho_e.ptrace([0,1])"
   ]
  },
  {
   "cell_type": "code",
   "execution_count": 68,
   "metadata": {},
   "outputs": [
    {
     "data": {
      "text/plain": [
       "[(0, 1, 2)]"
      ]
     },
     "execution_count": 68,
     "metadata": {},
     "output_type": "execute_result"
    }
   ],
   "source": [
    "entanglement_partition(rho_e)"
   ]
  },
  {
   "cell_type": "code",
   "execution_count": 69,
   "metadata": {},
   "outputs": [
    {
     "name": "stdout",
     "output_type": "stream",
     "text": [
      "m:  (0,)\n",
      "p:  (0,)  phi:  0\n",
      "p:  (1,)  phi:  0\n",
      "p:  (2,)  phi:  0\n",
      "p:  (0, 1)  phi:  0\n",
      "p:  (0, 2)  phi:  0\n",
      "p:  (1, 2)  phi:  0\n",
      "p:  (0, 1, 2)  phi:  0\n",
      "m:  (1,)\n",
      "p:  (0,)  phi:  0\n",
      "p:  (1,)  phi:  0\n",
      "p:  (2,)  phi:  0\n",
      "p:  (0, 1)  phi:  0\n",
      "p:  (0, 2)  phi:  0\n",
      "p:  (1, 2)  phi:  0\n",
      "p:  (0, 1, 2)  phi:  0\n",
      "m:  (2,)\n",
      "p:  (0,)  phi:  0\n",
      "p:  (1,)  phi:  0\n",
      "p:  (2,)  phi:  0\n",
      "p:  (0, 1)  phi:  0\n",
      "p:  (0, 2)  phi:  0\n",
      "p:  (1, 2)  phi:  0\n",
      "p:  (0, 1, 2)  phi:  0\n",
      "m:  (0, 1)\n",
      "p:  (0,)  phi:  0\n",
      "p:  (1,)  phi:  0\n",
      "p:  (2,)  phi:  0\n",
      "p:  (0, 1)  phi:  0\n",
      "p:  (0, 2)  phi:  0\n",
      "p:  (1, 2)  phi:  0\n",
      "p:  (0, 1, 2)  phi:  0\n",
      "m:  (0, 2)\n",
      "p:  (0,)  phi:  0\n",
      "p:  (1,)  phi:  0\n",
      "p:  (2,)  phi:  0\n",
      "p:  (0, 1)  phi:  0\n",
      "p:  (0, 2)  phi:  0\n",
      "p:  (1, 2)  phi:  0\n",
      "p:  (0, 1, 2)  phi:  0\n",
      "m:  (1, 2)\n",
      "p:  (0,)  phi:  0\n",
      "p:  (1,)  phi:  0\n",
      "p:  (2,)  phi:  0\n",
      "p:  (0, 1)  phi:  0\n",
      "p:  (0, 2)  phi:  0\n",
      "p:  (1, 2)  phi:  0\n",
      "p:  (0, 1, 2)  phi:  0\n",
      "m:  (0, 1, 2)\n",
      "p:  (0,)  phi:  0\n",
      "p:  (1,)  phi:  0\n",
      "p:  (2,)  phi:  0\n",
      "p:  (0, 1)  phi:  0.5\n",
      "p:  (0, 2)  phi:  0.5\n",
      "p:  (1, 2)  phi:  0.5\n",
      "p:  (0, 1, 2)  phi:  3.0\n"
     ]
    }
   ],
   "source": [
    "result = compute_ces(rho, qgate, direction = 'effect')"
   ]
  },
  {
   "cell_type": "code",
   "execution_count": 70,
   "metadata": {},
   "outputs": [
    {
     "data": {
      "text/plain": [
       "[{'mech': (0, 1, 2),\n",
       "  'purview': (0, 1, 2),\n",
       "  'phi': 3.0,\n",
       "  'mip':  ∅      ∅     0,1,2\n",
       "  ─── ✕ ───── ✕ ─────\n",
       "   ∅    0,1,2     ∅  ,\n",
       "  'state': [array([0.70710678+0.j, 0.        +0.j, 0.        +0.j, 0.        +0.j,\n",
       "          0.        +0.j, 0.        +0.j, 0.        +0.j, 0.70710678+0.j])]}]"
      ]
     },
     "execution_count": 70,
     "metadata": {},
     "output_type": "execute_result"
    }
   ],
   "source": [
    "result"
   ]
  },
  {
   "cell_type": "code",
   "execution_count": 43,
   "metadata": {},
   "outputs": [
    {
     "name": "stdout",
     "output_type": "stream",
     "text": [
      "m:  (0,)\n",
      "p:  (0,)  phi:  0\n",
      "p:  (1,)  phi:  0\n",
      "p:  (2,)  phi:  0\n",
      "p:  (0, 1)  phi:  0\n",
      "p:  (0, 2)  phi:  0\n",
      "p:  (1, 2)  phi:  0\n",
      "p:  (0, 1, 2)  phi:  0\n",
      "m:  (1,)\n",
      "p:  (0,)  phi:  0\n",
      "p:  (1,)  phi:  0\n",
      "p:  (2,)  phi:  0\n",
      "p:  (0, 1)  phi:  0\n",
      "p:  (0, 2)  phi:  0\n",
      "p:  (1, 2)  phi:  0\n",
      "p:  (0, 1, 2)  phi:  0\n",
      "m:  (2,)\n",
      "p:  (0,)  phi:  0\n",
      "p:  (1,)  phi:  0\n",
      "p:  (2,)  phi:  0\n",
      "p:  (0, 1)  phi:  0\n",
      "p:  (0, 2)  phi:  0\n",
      "p:  (1, 2)  phi:  0.5\n",
      "p:  (0, 1, 2)  phi:  0.25\n",
      "m:  (0, 1)\n",
      "p:  (0,)  phi:  0\n",
      "p:  (1,)  phi:  0\n",
      "p:  (2,)  phi:  0\n",
      "p:  (0, 1)  phi:  0.5\n",
      "p:  (0, 2)  phi:  0\n",
      "p:  (1, 2)  phi:  0\n",
      "p:  (0, 1, 2)  phi:  1.0\n",
      "m:  (0, 2)\n",
      "p:  (0,)  phi:  0\n",
      "p:  (1,)  phi:  0\n",
      "p:  (2,)  phi:  0\n",
      "p:  (0, 1)  phi:  0\n",
      "p:  (0, 2)  phi:  0\n",
      "p:  (1, 2)  phi:  0\n",
      "p:  (0, 1, 2)  phi:  0\n",
      "m:  (1, 2)\n",
      "p:  (0,)  phi:  0\n",
      "p:  (1,)  phi:  0\n",
      "p:  (2,)  phi:  0\n",
      "p:  (0, 1)  phi:  0\n",
      "p:  (0, 2)  phi:  0\n",
      "p:  (1, 2)  phi:  0\n",
      "p:  (0, 1, 2)  phi:  0\n",
      "m:  (0, 1, 2)\n",
      "p:  (0,)  phi:  0\n",
      "p:  (1,)  phi:  0\n",
      "p:  (2,)  phi:  0\n",
      "p:  (0, 1)  phi:  0\n",
      "p:  (0, 2)  phi:  0\n",
      "p:  (1, 2)  phi:  0\n",
      "p:  (0, 1, 2)  phi:  1.0\n"
     ]
    }
   ],
   "source": [
    "result_cause = compute_ces(rho_e, qgate, direction = 'cause')"
   ]
  },
  {
   "cell_type": "code",
   "execution_count": 44,
   "metadata": {},
   "outputs": [
    {
     "data": {
      "text/plain": [
       "[{'mech': (2,),\n",
       "  'purview': (1, 2),\n",
       "  'phi': 0.5,\n",
       "  'mip':  ∅     ∅     2 \n",
       "  ─── ✕ ─── ✕ ───\n",
       "   ∅    1,2    ∅ ,\n",
       "  'state': [array([1.+0.j, 0.+0.j, 0.+0.j, 0.+0.j]),\n",
       "   array([0.+0.j, 0.+0.j, 0.+0.j, 1.+0.j])]},\n",
       " {'mech': (0, 1),\n",
       "  'purview': (0, 1, 2),\n",
       "  'phi': 1.0,\n",
       "  'mip':  ∅      ∅     0,1\n",
       "  ─── ✕ ───── ✕ ───\n",
       "   ∅    0,1,2    ∅ ,\n",
       "  'state': [array([0.70710678+0.j, 0.        +0.j, 0.        +0.j, 0.        +0.j,\n",
       "          0.        +0.j, 0.        +0.j, 0.        +0.j, 0.70710678+0.j]),\n",
       "   array([0.        +0.j, 0.70710678+0.j, 0.        +0.j, 0.        +0.j,\n",
       "          0.        +0.j, 0.        +0.j, 0.70710678+0.j, 0.        +0.j])]},\n",
       " {'mech': (0, 1, 2),\n",
       "  'purview': (0, 1, 2),\n",
       "  'phi': 1.0,\n",
       "  'mip':  ∅     0,1     2 \n",
       "  ─── ✕ ───── ✕ ───\n",
       "   ∅    0,1,2    ∅ ,\n",
       "  'state': [array([0.70710678+0.j, 0.        +0.j, 0.        +0.j, 0.        +0.j,\n",
       "          0.        +0.j, 0.        +0.j, 0.        +0.j, 0.70710678+0.j])]}]"
      ]
     },
     "execution_count": 44,
     "metadata": {},
     "output_type": "execute_result"
    }
   ],
   "source": [
    "result_cause"
   ]
  },
  {
   "cell_type": "code",
   "execution_count": 112,
   "metadata": {},
   "outputs": [
    {
     "data": {
      "text/latex": [
       "Quantum object: dims = [[2], [2]], shape = (2, 2), type = oper, isherm = True\\begin{equation*}\\left(\\begin{array}{*{11}c}0.667 & 0.0\\\\0.0 & 0.333\\\\\\end{array}\\right)\\end{equation*}"
      ],
      "text/plain": [
       "Quantum object: dims = [[2], [2]], shape = (2, 2), type = oper, isherm = True\n",
       "Qobj data =\n",
       "[[0.66666667 0.        ]\n",
       " [0.         0.33333333]]"
      ]
     },
     "execution_count": 112,
     "metadata": {},
     "output_type": "execute_result"
    }
   ],
   "source": [
    "rho_W.ptrace([0,])"
   ]
  },
  {
   "cell_type": "code",
   "execution_count": 88,
   "metadata": {},
   "outputs": [
    {
     "data": {
      "text/plain": [
       "array([0.        +0.j, 0.70710678+0.j, 0.        +0.j, 0.        +0.j,\n",
       "       0.        +0.j, 0.        +0.j, 0.70710678+0.j, 0.        +0.j])"
      ]
     },
     "execution_count": 88,
     "metadata": {},
     "output_type": "execute_result"
    }
   ],
   "source": [
    "result_cause[1]['state'][1]"
   ]
  },
  {
   "cell_type": "code",
   "execution_count": 85,
   "metadata": {},
   "outputs": [
    {
     "data": {
      "text/latex": [
       "Quantum object: dims = [[2, 2, 2, 2, 2, 2, 2, 2], [1, 1, 1, 1, 1, 1, 1, 1]], shape = (256, 1), type = ket\\begin{equation*}\\left(\\begin{array}{*{11}c}1.0\\\\0.0\\\\0.0\\\\0.0\\\\0.0\\\\\\vdots\\\\0.0\\\\0.0\\\\0.0\\\\0.0\\\\0.0\\\\\\end{array}\\right)\\end{equation*}"
      ],
      "text/plain": [
       "Quantum object: dims = [[2, 2, 2, 2, 2, 2, 2, 2], [1, 1, 1, 1, 1, 1, 1, 1]], shape = (256, 1), type = ket\n",
       "Qobj data =\n",
       "[[1.]\n",
       " [0.]\n",
       " [0.]\n",
       " [0.]\n",
       " [0.]\n",
       " [0.]\n",
       " [0.]\n",
       " [0.]\n",
       " [0.]\n",
       " [0.]\n",
       " [0.]\n",
       " [0.]\n",
       " [0.]\n",
       " [0.]\n",
       " [0.]\n",
       " [0.]\n",
       " [0.]\n",
       " [0.]\n",
       " [0.]\n",
       " [0.]\n",
       " [0.]\n",
       " [0.]\n",
       " [0.]\n",
       " [0.]\n",
       " [0.]\n",
       " [0.]\n",
       " [0.]\n",
       " [0.]\n",
       " [0.]\n",
       " [0.]\n",
       " [0.]\n",
       " [0.]\n",
       " [0.]\n",
       " [0.]\n",
       " [0.]\n",
       " [0.]\n",
       " [0.]\n",
       " [0.]\n",
       " [0.]\n",
       " [0.]\n",
       " [0.]\n",
       " [0.]\n",
       " [0.]\n",
       " [0.]\n",
       " [0.]\n",
       " [0.]\n",
       " [0.]\n",
       " [0.]\n",
       " [0.]\n",
       " [0.]\n",
       " [0.]\n",
       " [0.]\n",
       " [0.]\n",
       " [0.]\n",
       " [0.]\n",
       " [0.]\n",
       " [0.]\n",
       " [0.]\n",
       " [0.]\n",
       " [0.]\n",
       " [0.]\n",
       " [0.]\n",
       " [0.]\n",
       " [0.]\n",
       " [0.]\n",
       " [0.]\n",
       " [0.]\n",
       " [0.]\n",
       " [0.]\n",
       " [0.]\n",
       " [0.]\n",
       " [0.]\n",
       " [0.]\n",
       " [0.]\n",
       " [0.]\n",
       " [0.]\n",
       " [0.]\n",
       " [0.]\n",
       " [0.]\n",
       " [0.]\n",
       " [0.]\n",
       " [0.]\n",
       " [0.]\n",
       " [0.]\n",
       " [0.]\n",
       " [0.]\n",
       " [0.]\n",
       " [0.]\n",
       " [0.]\n",
       " [0.]\n",
       " [0.]\n",
       " [0.]\n",
       " [0.]\n",
       " [0.]\n",
       " [0.]\n",
       " [0.]\n",
       " [0.]\n",
       " [0.]\n",
       " [0.]\n",
       " [0.]\n",
       " [0.]\n",
       " [0.]\n",
       " [0.]\n",
       " [0.]\n",
       " [0.]\n",
       " [0.]\n",
       " [0.]\n",
       " [0.]\n",
       " [0.]\n",
       " [0.]\n",
       " [0.]\n",
       " [0.]\n",
       " [0.]\n",
       " [0.]\n",
       " [0.]\n",
       " [0.]\n",
       " [0.]\n",
       " [0.]\n",
       " [0.]\n",
       " [0.]\n",
       " [0.]\n",
       " [0.]\n",
       " [0.]\n",
       " [0.]\n",
       " [0.]\n",
       " [0.]\n",
       " [0.]\n",
       " [0.]\n",
       " [0.]\n",
       " [0.]\n",
       " [0.]\n",
       " [0.]\n",
       " [0.]\n",
       " [0.]\n",
       " [0.]\n",
       " [0.]\n",
       " [0.]\n",
       " [0.]\n",
       " [0.]\n",
       " [0.]\n",
       " [0.]\n",
       " [0.]\n",
       " [0.]\n",
       " [0.]\n",
       " [0.]\n",
       " [0.]\n",
       " [0.]\n",
       " [0.]\n",
       " [0.]\n",
       " [0.]\n",
       " [0.]\n",
       " [0.]\n",
       " [0.]\n",
       " [0.]\n",
       " [0.]\n",
       " [0.]\n",
       " [0.]\n",
       " [0.]\n",
       " [0.]\n",
       " [0.]\n",
       " [0.]\n",
       " [0.]\n",
       " [0.]\n",
       " [0.]\n",
       " [0.]\n",
       " [0.]\n",
       " [0.]\n",
       " [0.]\n",
       " [0.]\n",
       " [0.]\n",
       " [0.]\n",
       " [0.]\n",
       " [0.]\n",
       " [0.]\n",
       " [0.]\n",
       " [0.]\n",
       " [0.]\n",
       " [0.]\n",
       " [0.]\n",
       " [0.]\n",
       " [0.]\n",
       " [0.]\n",
       " [0.]\n",
       " [0.]\n",
       " [0.]\n",
       " [0.]\n",
       " [0.]\n",
       " [0.]\n",
       " [0.]\n",
       " [0.]\n",
       " [0.]\n",
       " [0.]\n",
       " [0.]\n",
       " [0.]\n",
       " [0.]\n",
       " [0.]\n",
       " [0.]\n",
       " [0.]\n",
       " [0.]\n",
       " [0.]\n",
       " [0.]\n",
       " [0.]\n",
       " [0.]\n",
       " [0.]\n",
       " [0.]\n",
       " [0.]\n",
       " [0.]\n",
       " [0.]\n",
       " [0.]\n",
       " [0.]\n",
       " [0.]\n",
       " [0.]\n",
       " [0.]\n",
       " [0.]\n",
       " [0.]\n",
       " [0.]\n",
       " [0.]\n",
       " [0.]\n",
       " [0.]\n",
       " [0.]\n",
       " [0.]\n",
       " [0.]\n",
       " [0.]\n",
       " [0.]\n",
       " [0.]\n",
       " [0.]\n",
       " [0.]\n",
       " [0.]\n",
       " [0.]\n",
       " [0.]\n",
       " [0.]\n",
       " [0.]\n",
       " [0.]\n",
       " [0.]\n",
       " [0.]\n",
       " [0.]\n",
       " [0.]\n",
       " [0.]\n",
       " [0.]\n",
       " [0.]\n",
       " [0.]\n",
       " [0.]\n",
       " [0.]\n",
       " [0.]\n",
       " [0.]\n",
       " [0.]\n",
       " [0.]\n",
       " [0.]\n",
       " [0.]\n",
       " [0.]\n",
       " [0.]\n",
       " [0.]\n",
       " [0.]\n",
       " [0.]\n",
       " [0.]\n",
       " [0.]]"
      ]
     },
     "execution_count": 85,
     "metadata": {},
     "output_type": "execute_result"
    }
   ],
   "source": [
    "state"
   ]
  },
  {
   "cell_type": "code",
   "execution_count": 92,
   "metadata": {},
   "outputs": [
    {
     "data": {
      "text/latex": [
       "Quantum object: dims = [[2, 2, 2], [2, 2, 2]], shape = (8, 8), type = oper, isherm = True\\begin{equation*}\\left(\\begin{array}{*{11}c}0.250 & 0.0 & 0.0 & 0.0 & 0.0 & 0.0 & 0.0 & 0.250\\\\0.0 & 0.250 & 0.0 & 0.0 & 0.0 & 0.0 & 0.250 & 0.0\\\\0.0 & 0.0 & 0.0 & 0.0 & 0.0 & 0.0 & 0.0 & 0.0\\\\0.0 & 0.0 & 0.0 & 0.0 & 0.0 & 0.0 & 0.0 & 0.0\\\\0.0 & 0.0 & 0.0 & 0.0 & 0.0 & 0.0 & 0.0 & 0.0\\\\0.0 & 0.0 & 0.0 & 0.0 & 0.0 & 0.0 & 0.0 & 0.0\\\\0.0 & 0.250 & 0.0 & 0.0 & 0.0 & 0.0 & 0.250 & 0.0\\\\0.250 & 0.0 & 0.0 & 0.0 & 0.0 & 0.0 & 0.0 & 0.250\\\\\\end{array}\\right)\\end{equation*}"
      ],
      "text/plain": [
       "Quantum object: dims = [[2, 2, 2], [2, 2, 2]], shape = (8, 8), type = oper, isherm = True\n",
       "Qobj data =\n",
       "[[0.25 0.   0.   0.   0.   0.   0.   0.25]\n",
       " [0.   0.25 0.   0.   0.   0.   0.25 0.  ]\n",
       " [0.   0.   0.   0.   0.   0.   0.   0.  ]\n",
       " [0.   0.   0.   0.   0.   0.   0.   0.  ]\n",
       " [0.   0.   0.   0.   0.   0.   0.   0.  ]\n",
       " [0.   0.   0.   0.   0.   0.   0.   0.  ]\n",
       " [0.   0.25 0.   0.   0.   0.   0.25 0.  ]\n",
       " [0.25 0.   0.   0.   0.   0.   0.   0.25]]"
      ]
     },
     "execution_count": 92,
     "metadata": {},
     "output_type": "execute_result"
    }
   ],
   "source": [
    "(tensor(rho_bell, rho_plus) + tensor(ket2dm((ket('00') - ket('11')).unit()), rho_minus)).unit()"
   ]
  },
  {
   "cell_type": "code",
   "execution_count": 90,
   "metadata": {},
   "outputs": [
    {
     "data": {
      "text/latex": [
       "Quantum object: dims = [[2, 2], [2, 2]], shape = (4, 4), type = oper, isherm = True\\begin{equation*}\\left(\\begin{array}{*{11}c}0.500 & 0.0 & 0.0 & -0.500\\\\0.0 & 0.0 & 0.0 & 0.0\\\\0.0 & 0.0 & 0.0 & 0.0\\\\-0.500 & 0.0 & 0.0 & 0.500\\\\\\end{array}\\right)\\end{equation*}"
      ],
      "text/plain": [
       "Quantum object: dims = [[2, 2], [2, 2]], shape = (4, 4), type = oper, isherm = True\n",
       "Qobj data =\n",
       "[[ 0.5  0.   0.  -0.5]\n",
       " [ 0.   0.   0.   0. ]\n",
       " [ 0.   0.   0.   0. ]\n",
       " [-0.5  0.   0.   0.5]]"
      ]
     },
     "execution_count": 90,
     "metadata": {},
     "output_type": "execute_result"
    }
   ],
   "source": [
    "ket2dm((ket('00') - ket('11')).unit())"
   ]
  },
  {
   "cell_type": "code",
   "execution_count": 103,
   "metadata": {},
   "outputs": [
    {
     "data": {
      "text/plain": [
       "(0.5, [array([0.+0.j, 0.+0.j, 0.+0.j, 1.+0.j])])"
      ]
     },
     "execution_count": 103,
     "metadata": {},
     "output_type": "execute_result"
    }
   ],
   "source": [
    "intrinsic_difference(rho_GHZ.ptrace([0,1]), rho_test) "
   ]
  },
  {
   "cell_type": "code",
   "execution_count": 102,
   "metadata": {},
   "outputs": [],
   "source": [
    "rho_test = 1/2 * ket2dm(ket('00')) + 1/4* ket2dm(ket('01')) + 1/4* ket2dm(ket('11'))"
   ]
  },
  {
   "cell_type": "code",
   "execution_count": null,
   "metadata": {},
   "outputs": [],
   "source": []
  }
 ],
 "metadata": {
  "interpreter": {
   "hash": "4bf9d181db4ce6ac350460a925b0a6d42e04d8febba218abd55fece0461021fd"
  },
  "kernelspec": {
   "display_name": "Python 3.7.11 64-bit ('quantum': conda)",
   "name": "python3"
  },
  "language_info": {
   "codemirror_mode": {
    "name": "ipython",
    "version": 3
   },
   "file_extension": ".py",
   "mimetype": "text/x-python",
   "name": "python",
   "nbconvert_exporter": "python",
   "pygments_lexer": "ipython3",
   "version": "3.10.0"
  },
  "orig_nbformat": 4
 },
 "nbformat": 4,
 "nbformat_minor": 2
}
