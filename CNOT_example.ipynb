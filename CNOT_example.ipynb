{
 "cells": [
  {
   "cell_type": "code",
   "execution_count": 2,
   "metadata": {},
   "outputs": [],
   "source": [
    "import numpy as np\n",
    "import pyphi\n",
    "\n",
    "from qutip import *\n",
    "from qutip_qip.operations import *\n",
    "from intrinsic_difference import intrinsic_difference\n",
    "from utils import *\n",
    "from compute_ces import *"
   ]
  },
  {
   "cell_type": "code",
   "execution_count": 3,
   "metadata": {},
   "outputs": [],
   "source": [
    "%load_ext autoreload\n",
    "%autoreload 2"
   ]
  },
  {
   "cell_type": "markdown",
   "metadata": {},
   "source": [
    "# Define states and matrices"
   ]
  },
  {
   "cell_type": "code",
   "execution_count": 4,
   "metadata": {},
   "outputs": [],
   "source": [
    "# Basis states (for both classical and quantum)\n",
    "zero = basis(2,0)\n",
    "one = basis(2,1)\n",
    "\n",
    "# Normalized fully general quantum state\n",
    "plus = (zero + one).unit()\n",
    "minus = (zero - one).unit()\n",
    "\n",
    "# Density matrix representations of the states\n",
    "rho_zero = zero * zero.dag() # could also be fock_dm(2,0)\n",
    "rho_one = one * one.dag()\n",
    "rho_plus = plus * plus.dag()\n",
    "rho_minus = minus * minus.dag()\n",
    "rho_mm = 0.5 * rho_zero + 0.5 * rho_one"
   ]
  },
  {
   "cell_type": "code",
   "execution_count": 5,
   "metadata": {},
   "outputs": [],
   "source": [
    "pyphi.config.MEASURE = 'ID'\n",
    "pyphi.config.PARTITION_TYPE = 'ALL'\n",
    "pyphi.config.PICK_SMALLEST_PURVIEW = False"
   ]
  },
  {
   "cell_type": "code",
   "execution_count": 6,
   "metadata": {},
   "outputs": [
    {
     "name": "stdout",
     "output_type": "stream",
     "text": [
      "ID |0> :  (1.0, [array([-1.+0.j, -0.+0.j])])\n",
      "ID |+> :  (1.0, [array([0.70710678+0.j, 0.70710678+0.j])])\n"
     ]
    }
   ],
   "source": [
    "print('ID |0> : ', intrinsic_difference(rho_zero, rho_mm))\n",
    "print('ID |+> : ', intrinsic_difference(rho_plus, rho_mm))"
   ]
  },
  {
   "cell_type": "markdown",
   "metadata": {},
   "source": [
    "# 2 Qubits - CNOT"
   ]
  },
  {
   "cell_type": "code",
   "execution_count": 7,
   "metadata": {},
   "outputs": [
    {
     "data": {
      "text/latex": [
       "Quantum object: dims = [[2, 2], [2, 2]], shape = (4, 4), type = oper, isherm = True\\begin{equation*}\\left(\\begin{array}{*{11}c}1.0 & 0.0 & 0.0 & 0.0\\\\0.0 & 1.0 & 0.0 & 0.0\\\\0.0 & 0.0 & 0.0 & 1.0\\\\0.0 & 0.0 & 1.0 & 0.0\\\\\\end{array}\\right)\\end{equation*}"
      ],
      "text/plain": [
       "Quantum object: dims = [[2, 2], [2, 2]], shape = (4, 4), type = oper, isherm = True\n",
       "Qobj data =\n",
       "[[1. 0. 0. 0.]\n",
       " [0. 1. 0. 0.]\n",
       " [0. 0. 0. 1.]\n",
       " [0. 0. 1. 0.]]"
      ]
     },
     "execution_count": 7,
     "metadata": {},
     "output_type": "execute_result"
    }
   ],
   "source": [
    "cnot()"
   ]
  },
  {
   "cell_type": "markdown",
   "metadata": {},
   "source": [
    "## Classical results"
   ]
  },
  {
   "cell_type": "code",
   "execution_count": 8,
   "metadata": {},
   "outputs": [
    {
     "name": "stdout",
     "output_type": "stream",
     "text": [
      "{ 'ACTUAL_CAUSATION_MEASURE': 'PMI',\n",
      "  'ASSUME_CUTS_CANNOT_CREATE_NEW_CONCEPTS': False,\n",
      "  'CACHE_POTENTIAL_PURVIEWS': True,\n",
      "  'CACHE_REPERTOIRES': True,\n",
      "  'CACHE_SIAS': False,\n",
      "  'CACHING_BACKEND': 'fs',\n",
      "  'CLEAR_SUBSYSTEM_CACHES_AFTER_COMPUTING_SIA': False,\n",
      "  'CUT_ONE_APPROXIMATION': False,\n",
      "  'FS_CACHE_DIRECTORY': '__pyphi_cache__',\n",
      "  'FS_CACHE_VERBOSITY': 0,\n",
      "  'LOG_FILE': 'pyphi.log',\n",
      "  'LOG_FILE_LEVEL': 'INFO',\n",
      "  'LOG_STDOUT_LEVEL': 'WARNING',\n",
      "  'MAXIMUM_CACHE_MEMORY_PERCENTAGE': 50,\n",
      "  'MEASURE': 'ID',\n",
      "  'MONGODB_CONFIG': { 'collection_name': 'cache',\n",
      "                      'database_name': 'pyphi',\n",
      "                      'host': 'localhost',\n",
      "                      'port': 27017},\n",
      "  'NUMBER_OF_CORES': -1,\n",
      "  'PARALLEL_COMPLEX_EVALUATION': False,\n",
      "  'PARALLEL_CONCEPT_EVALUATION': False,\n",
      "  'PARALLEL_CUT_EVALUATION': True,\n",
      "  'PARTITION_TYPE': 'ALL',\n",
      "  'PICK_SMALLEST_PURVIEW': False,\n",
      "  'PRECISION': 6,\n",
      "  'PRINT_FRACTIONS': True,\n",
      "  'PROGRESS_BARS': True,\n",
      "  'REDIS_CACHE': False,\n",
      "  'REDIS_CONFIG': {'db': 0, 'host': 'localhost', 'port': 6379, 'test_db': 1},\n",
      "  'REPR_VERBOSITY': 2,\n",
      "  'SINGLE_MICRO_NODES_WITH_SELFLOOPS_HAVE_PHI': False,\n",
      "  'SYSTEM_CUTS': '3.0_STYLE',\n",
      "  'USE_SMALL_PHI_DIFFERENCE_FOR_CES_DISTANCE': False,\n",
      "  'VALIDATE_CONDITIONAL_INDEPENDENCE': True,\n",
      "  'VALIDATE_SUBSYSTEM_STATES': True,\n",
      "  'WELCOME_OFF': False}\n"
     ]
    }
   ],
   "source": [
    "print(pyphi.config)"
   ]
  },
  {
   "cell_type": "code",
   "execution_count": 9,
   "metadata": {},
   "outputs": [],
   "source": [
    "CNOT_tpm = cnot().data.toarray()\n",
    "#CNOT_tpm = pyphi.convert.le2be_state_by_state(CNOT_tpm.real)"
   ]
  },
  {
   "cell_type": "code",
   "execution_count": 10,
   "metadata": {},
   "outputs": [
    {
     "data": {
      "text/plain": [
       "array([[1., 0., 0., 0.],\n",
       "       [0., 1., 0., 0.],\n",
       "       [0., 0., 0., 1.],\n",
       "       [0., 0., 1., 0.]])"
      ]
     },
     "execution_count": 10,
     "metadata": {},
     "output_type": "execute_result"
    }
   ],
   "source": [
    "CNOT_tpm.real"
   ]
  },
  {
   "cell_type": "code",
   "execution_count": 11,
   "metadata": {},
   "outputs": [],
   "source": [
    "# pyphi convention for state ordering is little endian\n",
    "CNOT_tpm = pyphi.convert.be2le_state_by_state(CNOT_tpm.real)"
   ]
  },
  {
   "cell_type": "code",
   "execution_count": 12,
   "metadata": {},
   "outputs": [],
   "source": [
    "CNOT_tpm = pyphi.convert.to_2dimensional(pyphi.convert.state_by_state2state_by_node(CNOT_tpm.real))"
   ]
  },
  {
   "cell_type": "code",
   "execution_count": 13,
   "metadata": {},
   "outputs": [],
   "source": [
    "network = pyphi.Network(CNOT_tpm)\n",
    "subsystem = pyphi.Subsystem(network, (1,0))"
   ]
  },
  {
   "cell_type": "code",
   "execution_count": 14,
   "metadata": {},
   "outputs": [
    {
     "name": "stderr",
     "output_type": "stream",
     "text": []
    }
   ],
   "source": [
    "ces = pyphi.compute.ces(subsystem)"
   ]
  },
  {
   "cell_type": "code",
   "execution_count": 13,
   "metadata": {},
   "outputs": [
    {
     "data": {
      "text/plain": [
       "════════════════════════════════════════════════════════════\n",
       "            Cause-effect structure (2 concepts)             \n",
       "════════════════════════════════════════════════════════════\n",
       "  ━━━━━━━━━━━━━━━━━━━━━━━━━━━━━━━━━━━━━━━━━━━━━━━━━━━━━━━━  \n",
       "              Concept: Mechanism = [n0], φ = 1              \n",
       "  ━━━━━━━━━━━━━━━━━━━━━━━━━━━━━━━━━━━━━━━━━━━━━━━━━━━━━━━━  \n",
       "              MIC                         MIE               \n",
       "  ┌──────────────────────────┐┌──────────────────────────┐  \n",
       "  │  φ = 1                   ││  φ = 1                   │  \n",
       "  │  Purview = [n0]          ││  Purview = [n0]          │  \n",
       "  │  MIP:                    ││  MIP:                    │  \n",
       "  │    n0     ∅              ││    n0     ∅              │  \n",
       "  │    ─── ✕ ───             ││    ─── ✕ ───             │  \n",
       "  │     ∅    n0              ││     ∅    n0              │  \n",
       "  │  Repertoire:             ││  Repertoire:             │  \n",
       "  │    ┌─────────────┐       ││    ┌─────────────┐       │  \n",
       "  │    │ S    Pr(S)  │       ││    │ S    Pr(S)  │       │  \n",
       "  │    │ ╴╴╴╴╴╴╴╴╴╴╴ │       ││    │ ╴╴╴╴╴╴╴╴╴╴╴ │       │  \n",
       "  │    │ 0    0      │       ││    │ 0    0      │       │  \n",
       "  │    │ 1    1      │       ││    │ 1    1      │       │  \n",
       "  │    └─────────────┘       ││    └─────────────┘       │  \n",
       "  │  Partitioned repertoire: ││  Partitioned repertoire: │  \n",
       "  │    ┌─────────────┐       ││    ┌─────────────┐       │  \n",
       "  │    │ S    Pr(S)  │       ││    │ S    Pr(S)  │       │  \n",
       "  │    │ ╴╴╴╴╴╴╴╴╴╴╴ │       ││    │ ╴╴╴╴╴╴╴╴╴╴╴ │       │  \n",
       "  │    │ 0    1/2    │       ││    │ 0    1/2    │       │  \n",
       "  │    │ 1    1/2    │       ││    │ 1    1/2    │       │  \n",
       "  │    └─────────────┘       ││    └─────────────┘       │  \n",
       "  └──────────────────────────┘└──────────────────────────┘  \n",
       "    \n",
       "  ━━━━━━━━━━━━━━━━━━━━━━━━━━━━━━━━━━━━━━━━━━━━━━━━━━━━━━━━  \n",
       "            Concept: Mechanism = [n0, n1], φ = 1            \n",
       "  ━━━━━━━━━━━━━━━━━━━━━━━━━━━━━━━━━━━━━━━━━━━━━━━━━━━━━━━━  \n",
       "              MIC                         MIE               \n",
       "  ┌──────────────────────────┐┌──────────────────────────┐  \n",
       "  │  φ = 1                   ││  φ = 1                   │  \n",
       "  │  Purview = [n0, n1]      ││  Purview = [n0, n1]      │  \n",
       "  │  MIP:                    ││  MIP:                    │  \n",
       "  │     n0     n1     ∅      ││     n0     n1     ∅      │  \n",
       "  │    ───── ✕ ─── ✕ ───     ││    ───── ✕ ─── ✕ ───     │  \n",
       "  │    n0,n1    ∅     ∅      ││    n0,n1    ∅     ∅      │  \n",
       "  │  Repertoire:             ││  Repertoire:             │  \n",
       "  │    ┌──────────────┐      ││    ┌──────────────┐      │  \n",
       "  │    │ S     Pr(S)  │      ││    │ S     Pr(S)  │      │  \n",
       "  │    │ ╴╴╴╴╴╴╴╴╴╴╴╴ │      ││    │ ╴╴╴╴╴╴╴╴╴╴╴╴ │      │  \n",
       "  │    │ 00    0      │      ││    │ 00    0      │      │  \n",
       "  │    │ 10    0      │      ││    │ 10    0      │      │  \n",
       "  │    │ 01    0      │      ││    │ 01    0      │      │  \n",
       "  │    │ 11    1      │      ││    │ 11    1      │      │  \n",
       "  │    └──────────────┘      ││    └──────────────┘      │  \n",
       "  │  Partitioned repertoire: ││  Partitioned repertoire: │  \n",
       "  │    ┌──────────────┐      ││    ┌──────────────┐      │  \n",
       "  │    │ S     Pr(S)  │      ││    │ S     Pr(S)  │      │  \n",
       "  │    │ ╴╴╴╴╴╴╴╴╴╴╴╴ │      ││    │ ╴╴╴╴╴╴╴╴╴╴╴╴ │      │  \n",
       "  │    │ 00    0      │      ││    │ 00    0      │      │  \n",
       "  │    │ 10    1/2    │      ││    │ 10    1/2    │      │  \n",
       "  │    │ 01    0      │      ││    │ 01    0      │      │  \n",
       "  │    │ 11    1/2    │      ││    │ 11    1/2    │      │  \n",
       "  │    └──────────────┘      ││    └──────────────┘      │  \n",
       "  └──────────────────────────┘└──────────────────────────┘  \n",
       "    "
      ]
     },
     "execution_count": 13,
     "metadata": {},
     "output_type": "execute_result"
    }
   ],
   "source": [
    "ces"
   ]
  },
  {
   "cell_type": "markdown",
   "metadata": {},
   "source": [
    "## Quantum results"
   ]
  },
  {
   "cell_type": "code",
   "execution_count": 15,
   "metadata": {},
   "outputs": [],
   "source": [
    "rho = tensor(rho_plus, rho_zero)"
   ]
  },
  {
   "cell_type": "code",
   "execution_count": 16,
   "metadata": {},
   "outputs": [
    {
     "data": {
      "text/latex": [
       "Quantum object: dims = [[2, 2], [2, 2]], shape = (4, 4), type = oper, isherm = True\\begin{equation*}\\left(\\begin{array}{*{11}c}0.500 & 0.0 & 0.500 & 0.0\\\\0.0 & 0.0 & 0.0 & 0.0\\\\0.500 & 0.0 & 0.500 & 0.0\\\\0.0 & 0.0 & 0.0 & 0.0\\\\\\end{array}\\right)\\end{equation*}"
      ],
      "text/plain": [
       "Quantum object: dims = [[2, 2], [2, 2]], shape = (4, 4), type = oper, isherm = True\n",
       "Qobj data =\n",
       "[[0.5 0.  0.5 0. ]\n",
       " [0.  0.  0.  0. ]\n",
       " [0.5 0.  0.5 0. ]\n",
       " [0.  0.  0.  0. ]]"
      ]
     },
     "execution_count": 16,
     "metadata": {},
     "output_type": "execute_result"
    }
   ],
   "source": [
    "rho"
   ]
  },
  {
   "cell_type": "code",
   "execution_count": 17,
   "metadata": {},
   "outputs": [
    {
     "data": {
      "text/latex": [
       "Quantum object: dims = [[2, 2], [2, 2]], shape = (4, 4), type = oper, isherm = True\\begin{equation*}\\left(\\begin{array}{*{11}c}0.500 & 0.0 & 0.0 & 0.500\\\\0.0 & 0.0 & 0.0 & 0.0\\\\0.0 & 0.0 & 0.0 & 0.0\\\\0.500 & 0.0 & 0.0 & 0.500\\\\\\end{array}\\right)\\end{equation*}"
      ],
      "text/plain": [
       "Quantum object: dims = [[2, 2], [2, 2]], shape = (4, 4), type = oper, isherm = True\n",
       "Qobj data =\n",
       "[[0.5 0.  0.  0.5]\n",
       " [0.  0.  0.  0. ]\n",
       " [0.  0.  0.  0. ]\n",
       " [0.5 0.  0.  0.5]]"
      ]
     },
     "execution_count": 17,
     "metadata": {},
     "output_type": "execute_result"
    }
   ],
   "source": [
    "rho_e = evolve(rho, cnot(), 'effect')\n",
    "rho_e"
   ]
  },
  {
   "cell_type": "code",
   "execution_count": 13,
   "metadata": {},
   "outputs": [
    {
     "name": "stdout",
     "output_type": "stream",
     "text": [
      "m:  (0,)\n",
      "p:  (0,)  phi:  0\n",
      "p:  (1,)  phi:  0\n",
      "p:  (0, 1)  phi:  0\n",
      "m:  (1,)\n",
      "p:  (0,)  phi:  0\n",
      "p:  (1,)  phi:  0\n",
      "p:  (0, 1)  phi:  0\n",
      "m:  (0, 1)\n",
      "p:  (0,)  phi:  1.0\n",
      "p:  (1,)  phi:  1.0\n",
      "p:  (0, 1)  phi:  2.0\n"
     ]
    }
   ],
   "source": [
    "# Provide entanglement input, entangled -> ent_partition=[(0,1)]\n",
    "# Not entangled, no input required\n",
    "result = compute_ces(rho, cnot(), ent_partition=[(0,1)])\n",
    "#result = compute_ces(rho, rho_e)"
   ]
  },
  {
   "cell_type": "code",
   "execution_count": 15,
   "metadata": {},
   "outputs": [
    {
     "data": {
      "text/plain": [
       "[{'mech': (0, 1),\n",
       "  'purview': (0, 1),\n",
       "  'phi': 2.0,\n",
       "  'mip': 0,1    ∅ \n",
       "  ─── ✕ ───\n",
       "   ∅    0,1,\n",
       "  'state': [array([-0.70710678-0.j,  0.        +0.j, -0.70710678+0.j,  0.        +0.j])]}]"
      ]
     },
     "execution_count": 15,
     "metadata": {},
     "output_type": "execute_result"
    }
   ],
   "source": [
    "result"
   ]
  },
  {
   "cell_type": "code",
   "execution_count": 65,
   "metadata": {},
   "outputs": [],
   "source": [
    "# Diagonalize matrix\n",
    "def diagonalize_matrix(rho):\n",
    "    evals, evecs = rho.eigenstates()\n",
    "    rho_D = rho.transform(evecs)\n",
    "    return rho_D, evecs"
   ]
  },
  {
   "cell_type": "code",
   "execution_count": 84,
   "metadata": {},
   "outputs": [],
   "source": [
    "rho_D, evecs = diagonalize_matrix(rho_e)"
   ]
  },
  {
   "cell_type": "code",
   "execution_count": 86,
   "metadata": {},
   "outputs": [
    {
     "data": {
      "text/latex": [
       "Quantum object: dims = [[2], [2]], shape = (2, 2), type = oper, isherm = True\\begin{equation*}\\left(\\begin{array}{*{11}c}0.0 & 0.0\\\\0.0 & 1.0\\\\\\end{array}\\right)\\end{equation*}"
      ],
      "text/plain": [
       "Quantum object: dims = [[2], [2]], shape = (2, 2), type = oper, isherm = True\n",
       "Qobj data =\n",
       "[[0. 0.]\n",
       " [0. 1.]]"
      ]
     },
     "execution_count": 86,
     "metadata": {},
     "output_type": "execute_result"
    }
   ],
   "source": [
    "rho_D.ptrace(0)"
   ]
  },
  {
   "cell_type": "code",
   "execution_count": 87,
   "metadata": {},
   "outputs": [
    {
     "data": {
      "text/plain": [
       "array([Quantum object: dims = [[2, 2], [1, 1]], shape = (4, 1), type = ket\n",
       "       Qobj data =\n",
       "       [[ 0.70710678]\n",
       "        [ 0.        ]\n",
       "        [ 0.        ]\n",
       "        [-0.70710678]]                                                    ,\n",
       "       Quantum object: dims = [[2, 2], [1, 1]], shape = (4, 1), type = ket\n",
       "       Qobj data =\n",
       "       [[ 0.        ]\n",
       "        [-0.70710678]\n",
       "        [ 0.70710678]\n",
       "        [ 0.        ]]                                                    ,\n",
       "       Quantum object: dims = [[2, 2], [1, 1]], shape = (4, 1), type = ket\n",
       "       Qobj data =\n",
       "       [[-0.70710678]\n",
       "        [ 0.        ]\n",
       "        [ 0.        ]\n",
       "        [-0.70710678]]                                                    ,\n",
       "       Quantum object: dims = [[2, 2], [1, 1]], shape = (4, 1), type = ket\n",
       "       Qobj data =\n",
       "       [[ 0.        ]\n",
       "        [-0.70710678]\n",
       "        [-0.70710678]\n",
       "        [ 0.        ]]                                                    ],\n",
       "      dtype=object)"
      ]
     },
     "execution_count": 87,
     "metadata": {},
     "output_type": "execute_result"
    }
   ],
   "source": [
    "evecs"
   ]
  },
  {
   "cell_type": "code",
   "execution_count": 54,
   "metadata": {},
   "outputs": [
    {
     "data": {
      "text/latex": [
       "Quantum object: dims = [[2, 2], [2, 2]], shape = (4, 4), type = oper, isherm = True\\begin{equation*}\\left(\\begin{array}{*{11}c}0.250 & -0.250 & -0.250 & 0.250\\\\-0.250 & 0.250 & 0.250 & -0.250\\\\-0.250 & 0.250 & 0.250 & -0.250\\\\0.250 & -0.250 & -0.250 & 0.250\\\\\\end{array}\\right)\\end{equation*}"
      ],
      "text/plain": [
       "Quantum object: dims = [[2, 2], [2, 2]], shape = (4, 4), type = oper, isherm = True\n",
       "Qobj data =\n",
       "[[ 0.25 -0.25 -0.25  0.25]\n",
       " [-0.25  0.25  0.25 -0.25]\n",
       " [-0.25  0.25  0.25 -0.25]\n",
       " [ 0.25 -0.25 -0.25  0.25]]"
      ]
     },
     "execution_count": 54,
     "metadata": {},
     "output_type": "execute_result"
    }
   ],
   "source": [
    "rho1 = evolve(tensor(rho_plus, rho_plus), cnot(), 'effect')\n",
    "rho2 = evolve(tensor(rho_plus, rho_minus), cnot(), 'effect')\n",
    "rho2"
   ]
  },
  {
   "cell_type": "code",
   "execution_count": 55,
   "metadata": {},
   "outputs": [
    {
     "data": {
      "text/latex": [
       "Quantum object: dims = [[2, 2], [2, 2]], shape = (4, 4), type = oper, isherm = True\\begin{equation*}\\left(\\begin{array}{*{11}c}0.250 & 0.0 & 0.0 & 0.250\\\\0.0 & 0.250 & 0.250 & 0.0\\\\0.0 & 0.250 & 0.250 & 0.0\\\\0.250 & 0.0 & 0.0 & 0.250\\\\\\end{array}\\right)\\end{equation*}"
      ],
      "text/plain": [
       "Quantum object: dims = [[2, 2], [2, 2]], shape = (4, 4), type = oper, isherm = True\n",
       "Qobj data =\n",
       "[[0.25 0.   0.   0.25]\n",
       " [0.   0.25 0.25 0.  ]\n",
       " [0.   0.25 0.25 0.  ]\n",
       " [0.25 0.   0.   0.25]]"
      ]
     },
     "execution_count": 55,
     "metadata": {},
     "output_type": "execute_result"
    }
   ],
   "source": [
    "rho_e = rho1 + rho2\n",
    "rho_e = rho_e.unit()\n",
    "rho_e"
   ]
  },
  {
   "cell_type": "code",
   "execution_count": 58,
   "metadata": {},
   "outputs": [
    {
     "data": {
      "text/latex": [
       "Quantum object: dims = [[2, 2], [2, 2]], shape = (4, 4), type = oper, isherm = True\\begin{equation*}\\left(\\begin{array}{*{11}c}0.250 & 0.0 & 0.0 & 0.250\\\\0.0 & 0.250 & 0.250 & 0.0\\\\0.0 & 0.250 & 0.250 & 0.0\\\\0.250 & 0.0 & 0.0 & 0.250\\\\\\end{array}\\right)\\end{equation*}"
      ],
      "text/plain": [
       "Quantum object: dims = [[2, 2], [2, 2]], shape = (4, 4), type = oper, isherm = True\n",
       "Qobj data =\n",
       "[[0.25 0.   0.   0.25]\n",
       " [0.   0.25 0.25 0.  ]\n",
       " [0.   0.25 0.25 0.  ]\n",
       " [0.25 0.   0.   0.25]]"
      ]
     },
     "execution_count": 58,
     "metadata": {},
     "output_type": "execute_result"
    }
   ],
   "source": [
    "0.5*(tensor(rho_plus, rho_plus) + tensor(rho_minus, rho_minus))"
   ]
  },
  {
   "cell_type": "code",
   "execution_count": 57,
   "metadata": {},
   "outputs": [
    {
     "data": {
      "text/latex": [
       "Quantum object: dims = [[2, 2], [2, 2]], shape = (4, 4), type = oper, isherm = True\\begin{equation*}\\left(\\begin{array}{*{11}c}0.250 & -0.250 & -0.250 & 0.250\\\\-0.250 & 0.250 & 0.250 & -0.250\\\\-0.250 & 0.250 & 0.250 & -0.250\\\\0.250 & -0.250 & -0.250 & 0.250\\\\\\end{array}\\right)\\end{equation*}"
      ],
      "text/plain": [
       "Quantum object: dims = [[2, 2], [2, 2]], shape = (4, 4), type = oper, isherm = True\n",
       "Qobj data =\n",
       "[[ 0.25 -0.25 -0.25  0.25]\n",
       " [-0.25  0.25  0.25 -0.25]\n",
       " [-0.25  0.25  0.25 -0.25]\n",
       " [ 0.25 -0.25 -0.25  0.25]]"
      ]
     },
     "execution_count": 57,
     "metadata": {},
     "output_type": "execute_result"
    }
   ],
   "source": [
    "tensor(rho_minus, rho_minus)"
   ]
  },
  {
   "cell_type": "code",
   "execution_count": 72,
   "metadata": {},
   "outputs": [
    {
     "data": {
      "text/plain": [
       "0.9999999999999991"
      ]
     },
     "execution_count": 72,
     "metadata": {},
     "output_type": "execute_result"
    }
   ],
   "source": [
    "tensor(rho_minus, rho_minus).ptrace(1).purity()"
   ]
  },
  {
   "cell_type": "code",
   "execution_count": 68,
   "metadata": {},
   "outputs": [
    {
     "data": {
      "text/plain": [
       "array([Quantum object: dims = [[2, 2], [1, 1]], shape = (4, 1), type = ket\n",
       "       Qobj data =\n",
       "       [[ 0.        ]\n",
       "        [ 0.        ]\n",
       "        [-0.70710678]\n",
       "        [ 0.70710678]]                                                    ,\n",
       "       Quantum object: dims = [[2, 2], [1, 1]], shape = (4, 1), type = ket\n",
       "       Qobj data =\n",
       "       [[ 0.        ]\n",
       "        [ 0.81649658]\n",
       "        [-0.40824829]\n",
       "        [-0.40824829]]                                                    ,\n",
       "       Quantum object: dims = [[2, 2], [1, 1]], shape = (4, 1), type = ket\n",
       "       Qobj data =\n",
       "       [[ 0.8660254 ]\n",
       "        [-0.28867513]\n",
       "        [-0.28867513]\n",
       "        [-0.28867513]]                                                    ,\n",
       "       Quantum object: dims = [[2, 2], [1, 1]], shape = (4, 1), type = ket\n",
       "       Qobj data =\n",
       "       [[0.5]\n",
       "        [0.5]\n",
       "        [0.5]\n",
       "        [0.5]]                                                            ],\n",
       "      dtype=object)"
      ]
     },
     "execution_count": 68,
     "metadata": {},
     "output_type": "execute_result"
    }
   ],
   "source": [
    "evacs"
   ]
  },
  {
   "cell_type": "code",
   "execution_count": null,
   "metadata": {},
   "outputs": [],
   "source": []
  }
 ],
 "metadata": {
  "interpreter": {
   "hash": "4bf9d181db4ce6ac350460a925b0a6d42e04d8febba218abd55fece0461021fd"
  },
  "kernelspec": {
   "display_name": "Python 3.7.11 64-bit ('quantum': conda)",
   "name": "python3"
  },
  "language_info": {
   "codemirror_mode": {
    "name": "ipython",
    "version": 3
   },
   "file_extension": ".py",
   "mimetype": "text/x-python",
   "name": "python",
   "nbconvert_exporter": "python",
   "pygments_lexer": "ipython3",
   "version": "3.7.11"
  },
  "orig_nbformat": 4
 },
 "nbformat": 4,
 "nbformat_minor": 2
}
