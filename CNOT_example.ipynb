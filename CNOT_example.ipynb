{
 "cells": [
  {
   "cell_type": "code",
   "execution_count": null,
   "metadata": {},
   "outputs": [],
   "source": [
    "import numpy as np\n",
    "import pyphi\n",
    "\n",
    "from qutip import *\n",
    "from qutip_qip.operations import *\n",
    "from intrinsic_difference import intrinsic_difference\n",
    "from utils import *\n",
    "from compute_ces import *"
   ]
  },
  {
   "cell_type": "code",
   "execution_count": 2,
   "metadata": {},
   "outputs": [],
   "source": [
    "%load_ext autoreload\n",
    "%autoreload 2"
   ]
  },
  {
   "cell_type": "markdown",
   "metadata": {},
   "source": [
    "# Define states and matrices"
   ]
  },
  {
   "cell_type": "code",
   "execution_count": 3,
   "metadata": {},
   "outputs": [],
   "source": [
    "# Basis states (for both classical and quantum)\n",
    "zero = basis(2,0)\n",
    "one = basis(2,1)\n",
    "\n",
    "# Normalized fully general quantum state\n",
    "plus = (zero + one).unit()\n",
    "minus = (zero - one).unit()\n",
    "superposition = (1/3*zero + 2/3*one).unit()\n",
    "\n",
    "# Density matrix representations of the states\n",
    "rho_zero = zero * zero.dag() # could also be fock_dm(2,0)\n",
    "rho_one = one * one.dag()\n",
    "rho_plus = plus * plus.dag()\n",
    "rho_minus = minus * minus.dag()\n",
    "rho_sp = superposition * superposition.dag()\n",
    "rho_mm = 0.5 * rho_zero + 0.5 * rho_one\n",
    "\n",
    "rho_bell = ket2dm(bell_state(state = '00'))\n",
    "rho_GHZ = ket2dm(ghz_state(N=3))\n",
    "rho_W = ket2dm(w_state(N=3))\n",
    "rho_bellmix = 1/3*(tensor(rho_bell, rho_zero) + tensor(rho_zero, rho_bell) + tensor(rho_zero, rho_bell).permute([1,0,2]))\n",
    "\n",
    "rho_bennet = 1/(3-4)*(1-(tensor(rho_zero, rho_one, rho_plus) + tensor(rho_one, rho_plus, rho_zero) \n",
    "                        + tensor(rho_plus, rho_zero, rho_one) + tensor(rho_minus, rho_minus, rho_minus)))\n"
   ]
  },
  {
   "cell_type": "code",
   "execution_count": 4,
   "metadata": {},
   "outputs": [
    {
     "data": {
      "text/latex": [
       "Quantum object: dims = [[2], [2]], shape = (2, 2), type = oper, isherm = True\\begin{equation*}\\left(\\begin{array}{*{11}c}0.500 & 0.500\\\\0.500 & 0.500\\\\\\end{array}\\right)\\end{equation*}"
      ],
      "text/plain": [
       "Quantum object: dims = [[2], [2]], shape = (2, 2), type = oper, isherm = True\n",
       "Qobj data =\n",
       "[[0.5 0.5]\n",
       " [0.5 0.5]]"
      ]
     },
     "execution_count": 4,
     "metadata": {},
     "output_type": "execute_result"
    }
   ],
   "source": [
    "rho_plus"
   ]
  },
  {
   "cell_type": "code",
   "execution_count": 5,
   "metadata": {},
   "outputs": [],
   "source": [
    "pyphi.config.MEASURE = 'ID'\n",
    "pyphi.config.PARTITION_TYPE = 'ALL'\n",
    "pyphi.config.PICK_SMALLEST_PURVIEW = True"
   ]
  },
  {
   "cell_type": "code",
   "execution_count": 6,
   "metadata": {},
   "outputs": [
    {
     "name": "stdout",
     "output_type": "stream",
     "text": [
      "ID |0> :  (1.0, [array([-1.+0.j, -0.+0.j])])\n",
      "ID |+> :  (1.0, [array([0.70710678+0.j, 0.70710678+0.j])])\n"
     ]
    }
   ],
   "source": [
    "print('ID |0> : ', intrinsic_difference(rho_zero, rho_mm))\n",
    "print('ID |+> : ', intrinsic_difference(rho_plus, rho_mm))"
   ]
  },
  {
   "cell_type": "markdown",
   "metadata": {},
   "source": [
    "# 2 Qubits - CNOT"
   ]
  },
  {
   "cell_type": "code",
   "execution_count": 11,
   "metadata": {},
   "outputs": [
    {
     "data": {
      "text/latex": [
       "Quantum object: dims = [[2, 2], [2, 2]], shape = (4, 4), type = oper, isherm = True\\begin{equation*}\\left(\\begin{array}{*{11}c}1.0 & 0.0 & 0.0 & 0.0\\\\0.0 & 1.0 & 0.0 & 0.0\\\\0.0 & 0.0 & 0.0 & 1.0\\\\0.0 & 0.0 & 1.0 & 0.0\\\\\\end{array}\\right)\\end{equation*}"
      ],
      "text/plain": [
       "Quantum object: dims = [[2, 2], [2, 2]], shape = (4, 4), type = oper, isherm = True\n",
       "Qobj data =\n",
       "[[1. 0. 0. 0.]\n",
       " [0. 1. 0. 0.]\n",
       " [0. 0. 0. 1.]\n",
       " [0. 0. 1. 0.]]"
      ]
     },
     "execution_count": 11,
     "metadata": {},
     "output_type": "execute_result"
    }
   ],
   "source": [
    "cnot()"
   ]
  },
  {
   "cell_type": "markdown",
   "metadata": {},
   "source": [
    "## Classical results"
   ]
  },
  {
   "cell_type": "code",
   "execution_count": 7,
   "metadata": {},
   "outputs": [
    {
     "name": "stdout",
     "output_type": "stream",
     "text": [
      "{ 'ACTUAL_CAUSATION_MEASURE': 'PMI',\n",
      "  'ASSUME_CUTS_CANNOT_CREATE_NEW_CONCEPTS': False,\n",
      "  'CACHE_POTENTIAL_PURVIEWS': True,\n",
      "  'CACHE_REPERTOIRES': True,\n",
      "  'CACHE_SIAS': False,\n",
      "  'CACHING_BACKEND': 'fs',\n",
      "  'CLEAR_SUBSYSTEM_CACHES_AFTER_COMPUTING_SIA': False,\n",
      "  'CUT_ONE_APPROXIMATION': False,\n",
      "  'FS_CACHE_DIRECTORY': '__pyphi_cache__',\n",
      "  'FS_CACHE_VERBOSITY': 0,\n",
      "  'LOG_FILE': 'pyphi.log',\n",
      "  'LOG_FILE_LEVEL': 'INFO',\n",
      "  'LOG_STDOUT_LEVEL': 'WARNING',\n",
      "  'MAXIMUM_CACHE_MEMORY_PERCENTAGE': 50,\n",
      "  'MEASURE': 'ID',\n",
      "  'MONGODB_CONFIG': { 'collection_name': 'cache',\n",
      "                      'database_name': 'pyphi',\n",
      "                      'host': 'localhost',\n",
      "                      'port': 27017},\n",
      "  'NUMBER_OF_CORES': -1,\n",
      "  'PARALLEL_COMPLEX_EVALUATION': False,\n",
      "  'PARALLEL_CONCEPT_EVALUATION': False,\n",
      "  'PARALLEL_CUT_EVALUATION': True,\n",
      "  'PARTITION_TYPE': 'ALL',\n",
      "  'PICK_SMALLEST_PURVIEW': False,\n",
      "  'PRECISION': 6,\n",
      "  'PRINT_FRACTIONS': True,\n",
      "  'PROGRESS_BARS': True,\n",
      "  'REDIS_CACHE': False,\n",
      "  'REDIS_CONFIG': {'db': 0, 'host': 'localhost', 'port': 6379, 'test_db': 1},\n",
      "  'REPR_VERBOSITY': 2,\n",
      "  'SINGLE_MICRO_NODES_WITH_SELFLOOPS_HAVE_PHI': False,\n",
      "  'SYSTEM_CUTS': '3.0_STYLE',\n",
      "  'USE_SMALL_PHI_DIFFERENCE_FOR_CES_DISTANCE': False,\n",
      "  'VALIDATE_CONDITIONAL_INDEPENDENCE': True,\n",
      "  'VALIDATE_SUBSYSTEM_STATES': True,\n",
      "  'WELCOME_OFF': False}\n"
     ]
    }
   ],
   "source": [
    "print(pyphi.config)"
   ]
  },
  {
   "cell_type": "code",
   "execution_count": 83,
   "metadata": {},
   "outputs": [],
   "source": [
    "CNOT_tpm = cnot().data.toarray()\n",
    "#CNOT_tpm = pyphi.convert.le2be_state_by_state(CNOT_tpm.real)"
   ]
  },
  {
   "cell_type": "code",
   "execution_count": 84,
   "metadata": {},
   "outputs": [
    {
     "data": {
      "text/plain": [
       "array([[1., 0., 0., 0.],\n",
       "       [0., 1., 0., 0.],\n",
       "       [0., 0., 0., 1.],\n",
       "       [0., 0., 1., 0.]])"
      ]
     },
     "execution_count": 84,
     "metadata": {},
     "output_type": "execute_result"
    }
   ],
   "source": [
    "CNOT_tpm.real"
   ]
  },
  {
   "cell_type": "code",
   "execution_count": 85,
   "metadata": {},
   "outputs": [],
   "source": [
    "# pyphi convention for state ordering is little endian\n",
    "CNOT_tpm = pyphi.convert.be2le_state_by_state(CNOT_tpm.real)"
   ]
  },
  {
   "cell_type": "code",
   "execution_count": 86,
   "metadata": {},
   "outputs": [],
   "source": [
    "network = pyphi.Network(CNOT_tpm)\n",
    "subsystem = pyphi.Subsystem(network, (1,0))"
   ]
  },
  {
   "cell_type": "code",
   "execution_count": 14,
   "metadata": {},
   "outputs": [
    {
     "name": "stderr",
     "output_type": "stream",
     "text": []
    }
   ],
   "source": [
    "ces = pyphi.compute.ces(subsystem)"
   ]
  },
  {
   "cell_type": "code",
   "execution_count": 15,
   "metadata": {},
   "outputs": [
    {
     "data": {
      "text/plain": [
       "════════════════════════════════════════════════════════════\n",
       "            Cause-effect structure (2 concepts)             \n",
       "════════════════════════════════════════════════════════════\n",
       "  ━━━━━━━━━━━━━━━━━━━━━━━━━━━━━━━━━━━━━━━━━━━━━━━━━━━━━━━━  \n",
       "              Concept: Mechanism = [n0], φ = 1              \n",
       "  ━━━━━━━━━━━━━━━━━━━━━━━━━━━━━━━━━━━━━━━━━━━━━━━━━━━━━━━━  \n",
       "              MIC                         MIE               \n",
       "  ┌──────────────────────────┐┌──────────────────────────┐  \n",
       "  │  φ = 1                   ││  φ = 1                   │  \n",
       "  │  Purview = [n0]          ││  Purview = [n0]          │  \n",
       "  │  MIP:                    ││  MIP:                    │  \n",
       "  │    n0     ∅              ││    n0     ∅              │  \n",
       "  │    ─── ✕ ───             ││    ─── ✕ ───             │  \n",
       "  │     ∅    n0              ││     ∅    n0              │  \n",
       "  │  Repertoire:             ││  Repertoire:             │  \n",
       "  │    ┌─────────────┐       ││    ┌─────────────┐       │  \n",
       "  │    │ S    Pr(S)  │       ││    │ S    Pr(S)  │       │  \n",
       "  │    │ ╴╴╴╴╴╴╴╴╴╴╴ │       ││    │ ╴╴╴╴╴╴╴╴╴╴╴ │       │  \n",
       "  │    │ 0    0      │       ││    │ 0    0      │       │  \n",
       "  │    │ 1    1      │       ││    │ 1    1      │       │  \n",
       "  │    └─────────────┘       ││    └─────────────┘       │  \n",
       "  │  Partitioned repertoire: ││  Partitioned repertoire: │  \n",
       "  │    ┌─────────────┐       ││    ┌─────────────┐       │  \n",
       "  │    │ S    Pr(S)  │       ││    │ S    Pr(S)  │       │  \n",
       "  │    │ ╴╴╴╴╴╴╴╴╴╴╴ │       ││    │ ╴╴╴╴╴╴╴╴╴╴╴ │       │  \n",
       "  │    │ 0    1/2    │       ││    │ 0    1/2    │       │  \n",
       "  │    │ 1    1/2    │       ││    │ 1    1/2    │       │  \n",
       "  │    └─────────────┘       ││    └─────────────┘       │  \n",
       "  └──────────────────────────┘└──────────────────────────┘  \n",
       "    \n",
       "  ━━━━━━━━━━━━━━━━━━━━━━━━━━━━━━━━━━━━━━━━━━━━━━━━━━━━━━━━  \n",
       "            Concept: Mechanism = [n0, n1], φ = 1            \n",
       "  ━━━━━━━━━━━━━━━━━━━━━━━━━━━━━━━━━━━━━━━━━━━━━━━━━━━━━━━━  \n",
       "              MIC                         MIE               \n",
       "  ┌──────────────────────────┐┌──────────────────────────┐  \n",
       "  │  φ = 1                   ││  φ = 1                   │  \n",
       "  │  Purview = [n0, n1]      ││  Purview = [n0, n1]      │  \n",
       "  │  MIP:                    ││  MIP:                    │  \n",
       "  │     n0     n1     ∅      ││     n0     n1     ∅      │  \n",
       "  │    ───── ✕ ─── ✕ ───     ││    ───── ✕ ─── ✕ ───     │  \n",
       "  │    n0,n1    ∅     ∅      ││    n0,n1    ∅     ∅      │  \n",
       "  │  Repertoire:             ││  Repertoire:             │  \n",
       "  │    ┌──────────────┐      ││    ┌──────────────┐      │  \n",
       "  │    │ S     Pr(S)  │      ││    │ S     Pr(S)  │      │  \n",
       "  │    │ ╴╴╴╴╴╴╴╴╴╴╴╴ │      ││    │ ╴╴╴╴╴╴╴╴╴╴╴╴ │      │  \n",
       "  │    │ 00    0      │      ││    │ 00    0      │      │  \n",
       "  │    │ 10    0      │      ││    │ 10    0      │      │  \n",
       "  │    │ 01    0      │      ││    │ 01    0      │      │  \n",
       "  │    │ 11    1      │      ││    │ 11    1      │      │  \n",
       "  │    └──────────────┘      ││    └──────────────┘      │  \n",
       "  │  Partitioned repertoire: ││  Partitioned repertoire: │  \n",
       "  │    ┌──────────────┐      ││    ┌──────────────┐      │  \n",
       "  │    │ S     Pr(S)  │      ││    │ S     Pr(S)  │      │  \n",
       "  │    │ ╴╴╴╴╴╴╴╴╴╴╴╴ │      ││    │ ╴╴╴╴╴╴╴╴╴╴╴╴ │      │  \n",
       "  │    │ 00    0      │      ││    │ 00    0      │      │  \n",
       "  │    │ 10    1/2    │      ││    │ 10    1/2    │      │  \n",
       "  │    │ 01    0      │      ││    │ 01    0      │      │  \n",
       "  │    │ 11    1/2    │      ││    │ 11    1/2    │      │  \n",
       "  │    └──────────────┘      ││    └──────────────┘      │  \n",
       "  └──────────────────────────┘└──────────────────────────┘  \n",
       "    "
      ]
     },
     "execution_count": 15,
     "metadata": {},
     "output_type": "execute_result"
    }
   ],
   "source": [
    "ces"
   ]
  },
  {
   "cell_type": "markdown",
   "metadata": {},
   "source": [
    "## Quantum results"
   ]
  },
  {
   "cell_type": "code",
   "execution_count": 25,
   "metadata": {},
   "outputs": [],
   "source": [
    "qgate = cnot()\n",
    "#qgate = tensor(qeye(2),qeye(2),qeye(2)) "
   ]
  },
  {
   "cell_type": "code",
   "execution_count": 8,
   "metadata": {},
   "outputs": [],
   "source": [
    "#rho = 0.5*tensor(rho_one, rho_one) + 0.5*tensor(rho_zero, rho_zero)\n",
    "#rho = tensor(rho_one, rho_zero)\n",
    "rho = rho_W"
   ]
  },
  {
   "cell_type": "code",
   "execution_count": 16,
   "metadata": {},
   "outputs": [
    {
     "data": {
      "text/latex": [
       "Quantum object: dims = [[2, 2, 2], [2, 2, 2]], shape = (8, 8), type = oper, isherm = True\\begin{equation*}\\left(\\begin{array}{*{11}c}0.0 & 0.0 & 0.0 & 0.0 & 0.0 & 0.0 & 0.0 & 0.0\\\\0.0 & 0.333 & 0.333 & 0.0 & 0.333 & 0.0 & 0.0 & 0.0\\\\0.0 & 0.333 & 0.333 & 0.0 & 0.333 & 0.0 & 0.0 & 0.0\\\\0.0 & 0.0 & 0.0 & 0.0 & 0.0 & 0.0 & 0.0 & 0.0\\\\0.0 & 0.333 & 0.333 & 0.0 & 0.333 & 0.0 & 0.0 & 0.0\\\\0.0 & 0.0 & 0.0 & 0.0 & 0.0 & 0.0 & 0.0 & 0.0\\\\0.0 & 0.0 & 0.0 & 0.0 & 0.0 & 0.0 & 0.0 & 0.0\\\\0.0 & 0.0 & 0.0 & 0.0 & 0.0 & 0.0 & 0.0 & 0.0\\\\\\end{array}\\right)\\end{equation*}"
      ],
      "text/plain": [
       "Quantum object: dims = [[2, 2, 2], [2, 2, 2]], shape = (8, 8), type = oper, isherm = True\n",
       "Qobj data =\n",
       "[[0.         0.         0.         0.         0.         0.\n",
       "  0.         0.        ]\n",
       " [0.         0.33333333 0.33333333 0.         0.33333333 0.\n",
       "  0.         0.        ]\n",
       " [0.         0.33333333 0.33333333 0.         0.33333333 0.\n",
       "  0.         0.        ]\n",
       " [0.         0.         0.         0.         0.         0.\n",
       "  0.         0.        ]\n",
       " [0.         0.33333333 0.33333333 0.         0.33333333 0.\n",
       "  0.         0.        ]\n",
       " [0.         0.         0.         0.         0.         0.\n",
       "  0.         0.        ]\n",
       " [0.         0.         0.         0.         0.         0.\n",
       "  0.         0.        ]\n",
       " [0.         0.         0.         0.         0.         0.\n",
       "  0.         0.        ]]"
      ]
     },
     "execution_count": 16,
     "metadata": {},
     "output_type": "execute_result"
    }
   ],
   "source": [
    "rho"
   ]
  },
  {
   "cell_type": "code",
   "execution_count": 12,
   "metadata": {},
   "outputs": [
    {
     "name": "stdout",
     "output_type": "stream",
     "text": [
      "Quantum object: dims = [[2, 2, 2], [2, 2, 2]], shape = (8, 8), type = oper, isherm = True\n",
      "Qobj data =\n",
      "[[0.         0.         0.         0.         0.         0.\n",
      "  0.         0.        ]\n",
      " [0.         0.33333333 0.         0.33333333 0.33333333 0.\n",
      "  0.         0.        ]\n",
      " [0.         0.         0.         0.         0.         0.\n",
      "  0.         0.        ]\n",
      " [0.         0.33333333 0.         0.33333333 0.33333333 0.\n",
      "  0.         0.        ]\n",
      " [0.         0.33333333 0.         0.33333333 0.33333333 0.\n",
      "  0.         0.        ]\n",
      " [0.         0.         0.         0.         0.         0.\n",
      "  0.         0.        ]\n",
      " [0.         0.         0.         0.         0.         0.\n",
      "  0.         0.        ]\n",
      " [0.         0.         0.         0.         0.         0.\n",
      "  0.         0.        ]]\n"
     ]
    }
   ],
   "source": [
    "rho_e = evolve_unitary(rho, qgate, 'effect')\n",
    "print(rho_e)"
   ]
  },
  {
   "cell_type": "code",
   "execution_count": 13,
   "metadata": {},
   "outputs": [
    {
     "data": {
      "text/latex": [
       "Quantum object: dims = [[2], [2]], shape = (2, 2), type = oper, isherm = True\\begin{equation*}\\left(\\begin{array}{*{11}c}0.667 & 0.0\\\\0.0 & 0.333\\\\\\end{array}\\right)\\end{equation*}"
      ],
      "text/plain": [
       "Quantum object: dims = [[2], [2]], shape = (2, 2), type = oper, isherm = True\n",
       "Qobj data =\n",
       "[[0.66666667 0.        ]\n",
       " [0.         0.33333333]]"
      ]
     },
     "execution_count": 13,
     "metadata": {},
     "output_type": "execute_result"
    }
   ],
   "source": [
    "rho_e.ptrace(0)"
   ]
  },
  {
   "cell_type": "code",
   "execution_count": 14,
   "metadata": {},
   "outputs": [
    {
     "name": "stdout",
     "output_type": "stream",
     "text": [
      "m:  (0,)\n",
      "p:  (0,)  phi:  0.276692\n",
      "p:  (1,)  phi:  0\n",
      "p:  (2,)  phi:  0\n",
      "p:  (0, 1)  phi:  0.138346\n",
      "p:  (0, 2)  phi:  0.138346\n",
      "p:  (1, 2)  phi:  0\n",
      "p:  (0, 1, 2)  phi:  0.069173\n",
      "m:  (1,)\n",
      "p:  (0,)  phi:  0\n",
      "p:  (1,)  phi:  0.276692\n",
      "p:  (2,)  phi:  0\n",
      "p:  (0, 1)  phi:  0.138346\n",
      "p:  (0, 2)  phi:  0\n",
      "p:  (1, 2)  phi:  0.138346\n",
      "p:  (0, 1, 2)  phi:  0.069173\n",
      "m:  (2,)\n",
      "p:  (0,)  phi:  0\n",
      "p:  (1,)  phi:  0\n",
      "p:  (2,)  phi:  0\n",
      "p:  (0, 1)  phi:  0\n",
      "p:  (0, 2)  phi:  0\n",
      "p:  (1, 2)  phi:  0\n",
      "p:  (0, 1, 2)  phi:  0\n",
      "m:  (0, 1)\n",
      "p:  (0,)  phi:  0\n",
      "p:  (1,)  phi:  0\n",
      "p:  (2,)  phi:  0\n",
      "p:  (0, 1)  phi:  0\n",
      "p:  (0, 2)  phi:  0\n",
      "p:  (1, 2)  phi:  0\n",
      "p:  (0, 1, 2)  phi:  0\n",
      "m:  (0, 2)\n",
      "p:  (0,)  phi:  0\n",
      "p:  (1,)  phi:  0\n",
      "p:  (2,)  phi:  0\n",
      "p:  (0, 1)  phi:  0\n",
      "p:  (0, 2)  phi:  0\n",
      "p:  (1, 2)  phi:  0\n",
      "p:  (0, 1, 2)  phi:  0\n",
      "m:  (1, 2)\n",
      "p:  (0,)  phi:  0\n",
      "p:  (1,)  phi:  0.580224\n",
      "p:  (2,)  phi:  0.276692\n",
      "p:  (0, 1)  phi:  0.290112\n",
      "p:  (0, 2)  phi:  0.138346\n",
      "p:  (1, 2)  phi:  0.628278\n",
      "p:  (0, 1, 2)  phi:  0.314139\n",
      "m:  (0, 1, 2)\n",
      "p:  (0,)  phi:  0\n",
      "p:  (1,)  phi:  0\n",
      "p:  (2,)  phi:  0\n",
      "p:  (0, 1)  phi:  0.321338\n",
      "p:  (0, 2)  phi:  1.33191\n",
      "p:  (1, 2)  phi:  0.321338\n",
      "p:  (0, 1, 2)  phi:  2.386639\n"
     ]
    }
   ],
   "source": [
    "result = compute_ces(rho, qgate, direction = 'effect')"
   ]
  },
  {
   "cell_type": "code",
   "execution_count": 15,
   "metadata": {},
   "outputs": [
    {
     "data": {
      "text/plain": [
       "[{'mech': (0,),\n",
       "  'purview': (0,),\n",
       "  'phi': 0.276692,\n",
       "  'mip':  0     ∅ \n",
       "  ─── ✕ ───\n",
       "   ∅     0 ,\n",
       "  'state': [array([-1.+0.j, -0.+0.j])]},\n",
       " {'mech': (1,),\n",
       "  'purview': (1,),\n",
       "  'phi': 0.276692,\n",
       "  'mip':  1     ∅ \n",
       "  ─── ✕ ───\n",
       "   ∅     1 ,\n",
       "  'state': [array([-1.+0.j, -0.+0.j])]},\n",
       " {'mech': (1, 2),\n",
       "  'purview': (1, 2),\n",
       "  'phi': 0.628278,\n",
       "  'mip':  1     2     ∅ \n",
       "  ─── ✕ ─── ✕ ───\n",
       "  1,2    ∅     ∅ ,\n",
       "  'state': [array([ 0.00000000e+00+0.j, -8.50650808e-01+0.j,  2.22044605e-16+0.j,\n",
       "          -5.25731112e-01-0.j])]},\n",
       " {'mech': (0, 1, 2),\n",
       "  'purview': (0, 1, 2),\n",
       "  'phi': 2.386639,\n",
       "  'mip':  0    1,2    ∅ \n",
       "  ─── ✕ ─── ✕ ───\n",
       "   0    1,2    ∅ ,\n",
       "  'state': [array([ 0.        +0.j, -0.57735027-0.j,  0.        +0.j, -0.57735027+0.j,\n",
       "          -0.57735027+0.j,  0.        +0.j,  0.        +0.j,  0.        +0.j])]}]"
      ]
     },
     "execution_count": 15,
     "metadata": {},
     "output_type": "execute_result"
    }
   ],
   "source": [
    "result"
   ]
  },
  {
   "cell_type": "code",
   "execution_count": 41,
   "metadata": {},
   "outputs": [
    {
     "name": "stdout",
     "output_type": "stream",
     "text": [
      "m:  (0,)\n",
      "p:  (0,)  phi:  0\n",
      "p:  (1,)  phi:  0\n",
      "p:  (0, 1)  phi:  0.5\n",
      "m:  (1,)\n",
      "p:  (0,)  phi:  0\n",
      "p:  (1,)  phi:  0\n",
      "p:  (0, 1)  phi:  0.5\n",
      "m:  (0, 1)\n",
      "p:  (0,)  phi:  0\n",
      "p:  (1,)  phi:  0\n",
      "p:  (0, 1)  phi:  1.0\n"
     ]
    }
   ],
   "source": [
    "result_cause = compute_ces(rho_e, qgate, direction = 'cause')"
   ]
  },
  {
   "cell_type": "code",
   "execution_count": 42,
   "metadata": {},
   "outputs": [
    {
     "data": {
      "text/plain": [
       "[{'mech': (0,),\n",
       "  'purview': (0, 1),\n",
       "  'phi': 0.5,\n",
       "  'mip':  0     ∅ \n",
       "  ─── ✕ ───\n",
       "   ∅    0,1,\n",
       "  'state': [array([-0.70710678-0.j,  0.        +0.j,  0.        +0.j, -0.70710678+0.j]),\n",
       "   array([ 0.        +0.j, -0.70710678+0.j, -0.70710678+0.j,  0.        +0.j])]},\n",
       " {'mech': (1,),\n",
       "  'purview': (0, 1),\n",
       "  'phi': 0.5,\n",
       "  'mip':  1     ∅ \n",
       "  ─── ✕ ───\n",
       "   ∅    0,1,\n",
       "  'state': [array([1.+0.j, 0.+0.j, 0.+0.j, 0.+0.j]),\n",
       "   array([0.+0.j, 0.+0.j, 0.+0.j, 1.+0.j])]},\n",
       " {'mech': (0, 1),\n",
       "  'purview': (0, 1),\n",
       "  'phi': 1.0,\n",
       "  'mip':  0     1     ∅ \n",
       "  ─── ✕ ─── ✕ ───\n",
       "  0,1    ∅     ∅ ,\n",
       "  'state': [array([-0.70710678-0.j,  0.        +0.j,  0.        +0.j, -0.70710678+0.j])]}]"
      ]
     },
     "execution_count": 42,
     "metadata": {},
     "output_type": "execute_result"
    }
   ],
   "source": [
    "result_cause"
   ]
  },
  {
   "cell_type": "markdown",
   "metadata": {},
   "source": [
    "# 3 Qubits"
   ]
  },
  {
   "cell_type": "code",
   "execution_count": 34,
   "metadata": {},
   "outputs": [],
   "source": [
    "#qgate = tensor(qeye(2), cnot())\n",
    "qgate = fredkin()"
   ]
  },
  {
   "cell_type": "code",
   "execution_count": 56,
   "metadata": {},
   "outputs": [
    {
     "name": "stdout",
     "output_type": "stream",
     "text": [
      "Quantum object: dims = [[2, 2, 2], [2, 2, 2]], shape = (8, 8), type = oper, isherm = True\n",
      "Qobj data =\n",
      "[[0.  0.  0.  0.  0.  0.  0.  0. ]\n",
      " [0.  0.5 0.  0.  0.  0.  0.5 0. ]\n",
      " [0.  0.  0.  0.  0.  0.  0.  0. ]\n",
      " [0.  0.  0.  0.  0.  0.  0.  0. ]\n",
      " [0.  0.  0.  0.  0.  0.  0.  0. ]\n",
      " [0.  0.  0.  0.  0.  0.  0.  0. ]\n",
      " [0.  0.5 0.  0.  0.  0.  0.5 0. ]\n",
      " [0.  0.  0.  0.  0.  0.  0.  0. ]]\n"
     ]
    }
   ],
   "source": [
    "#rho = tensor(rho_plus, rho_one, rho_plus)\n",
    "rho = ket2dm((ket((1,1,0)) + ket((0,0,1))).unit())\n",
    "print(rho)"
   ]
  },
  {
   "cell_type": "code",
   "execution_count": 57,
   "metadata": {},
   "outputs": [
    {
     "name": "stdout",
     "output_type": "stream",
     "text": [
      "Quantum object: dims = [[2, 2, 2], [2, 2, 2]], shape = (8, 8), type = oper, isherm = True\n",
      "Qobj data =\n",
      "[[0.  0.  0.  0.  0.  0.  0.  0. ]\n",
      " [0.  0.5 0.  0.  0.  0.5 0.  0. ]\n",
      " [0.  0.  0.  0.  0.  0.  0.  0. ]\n",
      " [0.  0.  0.  0.  0.  0.  0.  0. ]\n",
      " [0.  0.  0.  0.  0.  0.  0.  0. ]\n",
      " [0.  0.5 0.  0.  0.  0.5 0.  0. ]\n",
      " [0.  0.  0.  0.  0.  0.  0.  0. ]\n",
      " [0.  0.  0.  0.  0.  0.  0.  0. ]]\n"
     ]
    }
   ],
   "source": [
    "rho_e = evolve_unitary(rho, qgate, 'effect')\n",
    "print(rho_e)"
   ]
  },
  {
   "cell_type": "code",
   "execution_count": 58,
   "metadata": {},
   "outputs": [
    {
     "name": "stdout",
     "output_type": "stream",
     "text": [
      "m:  (0,)\n",
      "p:  (0,)  phi:  0\n",
      "p:  (1,)  phi:  0\n",
      "p:  (2,)  phi:  0\n",
      "p:  (0, 1)  phi:  0\n",
      "p:  (0, 2)  phi:  0\n",
      "p:  (1, 2)  phi:  0\n",
      "p:  (0, 1, 2)  phi:  0\n",
      "m:  (1,)\n",
      "p:  (0,)  phi:  0\n",
      "p:  (1,)  phi:  0\n",
      "p:  (2,)  phi:  0\n",
      "p:  (0, 1)  phi:  0\n",
      "p:  (0, 2)  phi:  0\n",
      "p:  (1, 2)  phi:  0\n",
      "p:  (0, 1, 2)  phi:  0\n",
      "m:  (2,)\n",
      "p:  (0,)  phi:  0\n",
      "p:  (1,)  phi:  0\n",
      "p:  (2,)  phi:  0\n",
      "p:  (0, 1)  phi:  0\n",
      "p:  (0, 2)  phi:  0\n",
      "p:  (1, 2)  phi:  0\n",
      "p:  (0, 1, 2)  phi:  0\n",
      "m:  (0, 1)\n",
      "p:  (0,)  phi:  0\n",
      "p:  (1,)  phi:  0.438722\n",
      "p:  (2,)  phi:  0.438722\n",
      "p:  (0, 1)  phi:  0.219361\n",
      "p:  (0, 2)  phi:  0.219361\n",
      "p:  (1, 2)  phi:  0.658083\n",
      "p:  (0, 1, 2)  phi:  0.329041\n",
      "m:  (0, 2)\n",
      "p:  (0,)  phi:  0\n",
      "p:  (1,)  phi:  0.438722\n",
      "p:  (2,)  phi:  0.438722\n",
      "p:  (0, 1)  phi:  0.219361\n",
      "p:  (0, 2)  phi:  0.219361\n",
      "p:  (1, 2)  phi:  0.658083\n",
      "p:  (0, 1, 2)  phi:  0.329041\n",
      "m:  (1, 2)\n",
      "p:  (0,)  phi:  0\n",
      "p:  (1,)  phi:  0\n",
      "p:  (2,)  phi:  0\n",
      "p:  (0, 1)  phi:  0\n",
      "p:  (0, 2)  phi:  0\n",
      "p:  (1, 2)  phi:  0\n",
      "p:  (0, 1, 2)  phi:  0\n",
      "m:  (0, 1, 2)\n",
      "p:  (0,)  phi:  1.0\n",
      "p:  (1,)  phi:  0.415037\n",
      "p:  (2,)  phi:  0.415037\n",
      "p:  (0, 1)  phi:  1.415037\n",
      "p:  (0, 2)  phi:  1.415037\n",
      "p:  (1, 2)  phi:  0.830075\n",
      "p:  (0, 1, 2)  phi:  1.830075\n"
     ]
    }
   ],
   "source": [
    "result = compute_ces(rho, qgate, direction = 'effect')"
   ]
  },
  {
   "cell_type": "code",
   "execution_count": 59,
   "metadata": {},
   "outputs": [
    {
     "data": {
      "text/plain": [
       "[{'mech': (0, 1),\n",
       "  'purview': (1, 2),\n",
       "  'phi': 0.658083,\n",
       "  'mip': 0,1    ∅ \n",
       "  ─── ✕ ───\n",
       "   ∅    1,2,\n",
       "  'state': [array([0.+0.j, 1.+0.j, 0.+0.j, 0.+0.j])]},\n",
       " {'mech': (0, 2),\n",
       "  'purview': (1, 2),\n",
       "  'phi': 0.658083,\n",
       "  'mip': 0,2    ∅ \n",
       "  ─── ✕ ───\n",
       "   ∅    1,2,\n",
       "  'state': [array([0.+0.j, 1.+0.j, 0.+0.j, 0.+0.j])]},\n",
       " {'mech': (0, 1, 2),\n",
       "  'purview': (0, 1, 2),\n",
       "  'phi': 1.830075,\n",
       "  'mip':  0,1     2     ∅ \n",
       "  ───── ✕ ─── ✕ ───\n",
       "  0,1,2    ∅     ∅ ,\n",
       "  'state': [array([ 0.        +0.j, -0.70710678-0.j,  0.        +0.j,  0.        +0.j,\n",
       "           0.        +0.j, -0.70710678+0.j,  0.        +0.j,  0.        +0.j])]}]"
      ]
     },
     "execution_count": 59,
     "metadata": {},
     "output_type": "execute_result"
    }
   ],
   "source": [
    "result"
   ]
  },
  {
   "cell_type": "markdown",
   "metadata": {},
   "source": [
    "# Measurement"
   ]
  },
  {
   "cell_type": "code",
   "execution_count": 110,
   "metadata": {},
   "outputs": [],
   "source": [
    "qgate = [tensor(rho_zero, qeye(2)), tensor(rho_one, qeye(2))]\n",
    "#qgate = tensor(rho_zero, qeye(2))"
   ]
  },
  {
   "cell_type": "code",
   "execution_count": 111,
   "metadata": {},
   "outputs": [
    {
     "data": {
      "text/plain": [
       "[Quantum object: dims = [[2, 2], [2, 2]], shape = (4, 4), type = oper, isherm = True\n",
       " Qobj data =\n",
       " [[1. 0. 0. 0.]\n",
       "  [0. 1. 0. 0.]\n",
       "  [0. 0. 0. 0.]\n",
       "  [0. 0. 0. 0.]],\n",
       " Quantum object: dims = [[2, 2], [2, 2]], shape = (4, 4), type = oper, isherm = True\n",
       " Qobj data =\n",
       " [[0. 0. 0. 0.]\n",
       "  [0. 0. 0. 0.]\n",
       "  [0. 0. 1. 0.]\n",
       "  [0. 0. 0. 1.]]]"
      ]
     },
     "execution_count": 111,
     "metadata": {},
     "output_type": "execute_result"
    }
   ],
   "source": [
    "qgate"
   ]
  },
  {
   "cell_type": "code",
   "execution_count": 119,
   "metadata": {},
   "outputs": [
    {
     "data": {
      "text/latex": [
       "Quantum object: dims = [[2, 2], [2, 2]], shape = (4, 4), type = oper, isherm = True\\begin{equation*}\\left(\\begin{array}{*{11}c}0.100 & 0.0 & 0.200 & 0.0\\\\0.0 & 0.100 & 0.0 & 0.200\\\\0.200 & 0.0 & 0.400 & 0.0\\\\0.0 & 0.200 & 0.0 & 0.400\\\\\\end{array}\\right)\\end{equation*}"
      ],
      "text/plain": [
       "Quantum object: dims = [[2, 2], [2, 2]], shape = (4, 4), type = oper, isherm = True\n",
       "Qobj data =\n",
       "[[0.1 0.  0.2 0. ]\n",
       " [0.  0.1 0.  0.2]\n",
       " [0.2 0.  0.4 0. ]\n",
       " [0.  0.2 0.  0.4]]"
      ]
     },
     "execution_count": 119,
     "metadata": {},
     "output_type": "execute_result"
    }
   ],
   "source": [
    "rho = tensor(rho_sp, rho_mm)\n",
    "#rho = rho_bell\n",
    "rho"
   ]
  },
  {
   "cell_type": "code",
   "execution_count": 120,
   "metadata": {},
   "outputs": [
    {
     "data": {
      "text/plain": [
       "True"
      ]
     },
     "execution_count": 120,
     "metadata": {},
     "output_type": "execute_result"
    }
   ],
   "source": [
    "kraus_to_super(qgate).iscptp"
   ]
  },
  {
   "cell_type": "code",
   "execution_count": 134,
   "metadata": {},
   "outputs": [
    {
     "data": {
      "text/latex": [
       "Quantum object: dims = [[2], [2]], shape = (2, 2), type = oper, isherm = True\\begin{equation*}\\left(\\begin{array}{*{11}c}0.200 & 0.0\\\\0.0 & 0.800\\\\\\end{array}\\right)\\end{equation*}"
      ],
      "text/plain": [
       "Quantum object: dims = [[2], [2]], shape = (2, 2), type = oper, isherm = True\n",
       "Qobj data =\n",
       "[[0.2 0. ]\n",
       " [0.  0.8]]"
      ]
     },
     "execution_count": 134,
     "metadata": {},
     "output_type": "execute_result"
    }
   ],
   "source": [
    "rho_m = evolve_cptp(rho, qgate, 'effect')\n",
    "rho_m.ptrace(0)"
   ]
  },
  {
   "cell_type": "code",
   "execution_count": 122,
   "metadata": {},
   "outputs": [
    {
     "data": {
      "text/latex": [
       "Quantum object: dims = [[2, 2], [2, 2]], shape = (4, 4), type = oper, isherm = True\\begin{equation*}\\left(\\begin{array}{*{11}c}0.100 & 0.0 & 0.0 & 0.0\\\\0.0 & 0.100 & 0.0 & 0.0\\\\0.0 & 0.0 & 0.400 & 0.0\\\\0.0 & 0.0 & 0.0 & 0.400\\\\\\end{array}\\right)\\end{equation*}"
      ],
      "text/plain": [
       "Quantum object: dims = [[2, 2], [2, 2]], shape = (4, 4), type = oper, isherm = True\n",
       "Qobj data =\n",
       "[[0.1 0.  0.  0. ]\n",
       " [0.  0.1 0.  0. ]\n",
       " [0.  0.  0.4 0. ]\n",
       " [0.  0.  0.  0.4]]"
      ]
     },
     "execution_count": 122,
     "metadata": {},
     "output_type": "execute_result"
    }
   ],
   "source": [
    "evolve_cptp(rho_m, qgate, 'cause')"
   ]
  },
  {
   "cell_type": "code",
   "execution_count": 135,
   "metadata": {},
   "outputs": [
    {
     "name": "stdout",
     "output_type": "stream",
     "text": [
      "m:  (0,)\n",
      "p:  (0,)  phi:  1.0\n",
      "p:  (1,)  phi:  0\n",
      "p:  (0, 1)  phi:  0.5\n",
      "m:  (1,)\n",
      "p:  (0,)  phi:  0\n",
      "p:  (1,)  phi:  0\n",
      "p:  (0, 1)  phi:  0\n",
      "m:  (0, 1)\n",
      "p:  (0,)  phi:  0\n",
      "p:  (1,)  phi:  0\n",
      "p:  (0, 1)  phi:  0\n"
     ]
    }
   ],
   "source": [
    "result = compute_ces(tensor(rho_one, rho_mm), qgate, direction = 'effect')"
   ]
  },
  {
   "cell_type": "code",
   "execution_count": 136,
   "metadata": {},
   "outputs": [
    {
     "data": {
      "text/plain": [
       "[{'mech': (0,),\n",
       "  'purview': (0,),\n",
       "  'phi': 1.0,\n",
       "  'mip':  0     ∅ \n",
       "  ─── ✕ ───\n",
       "   ∅     0 ,\n",
       "  'state': [array([0.+0.j, 1.+0.j])]}]"
      ]
     },
     "execution_count": 136,
     "metadata": {},
     "output_type": "execute_result"
    }
   ],
   "source": [
    "result"
   ]
  },
  {
   "cell_type": "code",
   "execution_count": 103,
   "metadata": {},
   "outputs": [
    {
     "name": "stdout",
     "output_type": "stream",
     "text": [
      "m:  (0,)\n",
      "p:  (0,)  phi:  0.542458\n",
      "p:  (1,)  phi:  0\n",
      "p:  (0, 1)  phi:  0.271229\n",
      "m:  (1,)\n",
      "p:  (0,)  phi:  0\n",
      "p:  (1,)  phi:  0\n",
      "p:  (0, 1)  phi:  0\n",
      "m:  (0, 1)\n",
      "p:  (0,)  phi:  0\n",
      "p:  (1,)  phi:  0\n",
      "p:  (0, 1)  phi:  0\n"
     ]
    }
   ],
   "source": [
    "result_c = compute_ces(rho_m, qgate, direction = 'cause')"
   ]
  },
  {
   "cell_type": "code",
   "execution_count": 104,
   "metadata": {},
   "outputs": [
    {
     "data": {
      "text/plain": [
       "[{'mech': (0,),\n",
       "  'purview': (0,),\n",
       "  'phi': 0.542458,\n",
       "  'mip':  0     ∅ \n",
       "  ─── ✕ ───\n",
       "   ∅     0 ,\n",
       "  'state': [array([0.+0.j, 1.+0.j])]}]"
      ]
     },
     "execution_count": 104,
     "metadata": {},
     "output_type": "execute_result"
    }
   ],
   "source": [
    "result_c"
   ]
  },
  {
   "cell_type": "code",
   "execution_count": 132,
   "metadata": {},
   "outputs": [
    {
     "data": {
      "text/latex": [
       "Quantum object: dims = [[2], [2]], shape = (2, 2), type = oper, isherm = True\\begin{equation*}\\left(\\begin{array}{*{11}c}0.200 & 0.400\\\\0.400 & 0.800\\\\\\end{array}\\right)\\end{equation*}"
      ],
      "text/plain": [
       "Quantum object: dims = [[2], [2]], shape = (2, 2), type = oper, isherm = True\n",
       "Qobj data =\n",
       "[[0.2 0.4]\n",
       " [0.4 0.8]]"
      ]
     },
     "execution_count": 132,
     "metadata": {},
     "output_type": "execute_result"
    }
   ],
   "source": [
    "rho_sp"
   ]
  },
  {
   "cell_type": "code",
   "execution_count": 133,
   "metadata": {},
   "outputs": [
    {
     "data": {
      "text/plain": [
       "([Quantum object: dims = [[2, 2], [2, 2]], shape = (4, 4), type = oper, isherm = True\n",
       "  Qobj data =\n",
       "  [[0.5 0.  0.  0. ]\n",
       "   [0.  0.5 0.  0. ]\n",
       "   [0.  0.  0.  0. ]\n",
       "   [0.  0.  0.  0. ]],\n",
       "  Quantum object: dims = [[2, 2], [2, 2]], shape = (4, 4), type = oper, isherm = True\n",
       "  Qobj data =\n",
       "  [[0.  0.  0.  0. ]\n",
       "   [0.  0.  0.  0. ]\n",
       "   [0.  0.  0.5 0. ]\n",
       "   [0.  0.  0.  0.5]]],\n",
       " [0.19999999999999998, 0.7999999999999999])"
      ]
     },
     "execution_count": 133,
     "metadata": {},
     "output_type": "execute_result"
    }
   ],
   "source": [
    "measurement_statistics(rho, qgate)"
   ]
  },
  {
   "cell_type": "code",
   "execution_count": null,
   "metadata": {},
   "outputs": [],
   "source": []
  }
 ],
 "metadata": {
  "interpreter": {
   "hash": "4bf9d181db4ce6ac350460a925b0a6d42e04d8febba218abd55fece0461021fd"
  },
  "kernelspec": {
   "display_name": "Python 3.7.11 64-bit ('quantum': conda)",
   "name": "python3"
  },
  "language_info": {
   "codemirror_mode": {
    "name": "ipython",
    "version": 3
   },
   "file_extension": ".py",
   "mimetype": "text/x-python",
   "name": "python",
   "nbconvert_exporter": "python",
   "pygments_lexer": "ipython3",
   "version": "3.7.11"
  },
  "orig_nbformat": 4
 },
 "nbformat": 4,
 "nbformat_minor": 2
}
