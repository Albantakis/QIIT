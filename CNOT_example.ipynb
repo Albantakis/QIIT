{
 "cells": [
  {
   "cell_type": "code",
   "execution_count": 3,
   "metadata": {},
   "outputs": [],
   "source": [
    "import numpy as np\n",
    "import pyphi\n",
    "# from pip install \"git+https://github.com/wmayner/pyphi@feature/iit-4.0#egg=pyphi\"\n",
    "from qutip import * #4.7.1\n",
    "from qutip_qip.operations import *\n",
    "from intrinsic_difference import intrinsic_difference\n",
    "from utils import *\n",
    "from compute_ces import *"
   ]
  },
  {
   "cell_type": "code",
   "execution_count": 4,
   "metadata": {},
   "outputs": [
    {
     "name": "stdout",
     "output_type": "stream",
     "text": [
      "The autoreload extension is already loaded. To reload it, use:\n",
      "  %reload_ext autoreload\n"
     ]
    }
   ],
   "source": [
    "%load_ext autoreload\n",
    "%autoreload 2"
   ]
  },
  {
   "cell_type": "code",
   "execution_count": 5,
   "metadata": {},
   "outputs": [],
   "source": [
    "pyphi.config.PROGRESS_BARS = False\n",
    "\n",
    "pyphi.config.PARALLEL_COMPLEX_EVALUATION = False\n",
    "pyphi.config.PARALLEL_CONCEPT_EVALUATION = False\n",
    "pyphi.config.PARALLEL_CONCEPT_EVALUATION = False\n",
    "pyphi.config.PARALLEL_CUT_EVALUATION = False\n",
    "pyphi.config.PARALLEL_PURVIEW_EVALUATION = 4.0\n",
    "pyphi.config.PARALLEL_MECHANISM_PARTITION_EVALUATION = False"
   ]
  },
  {
   "cell_type": "markdown",
   "metadata": {},
   "source": [
    "# Define states and matrices"
   ]
  },
  {
   "cell_type": "code",
   "execution_count": 6,
   "metadata": {},
   "outputs": [],
   "source": [
    "# Basis states (for both classical and quantum)\n",
    "zero = basis(2,0)\n",
    "one = basis(2,1)\n",
    "\n",
    "# Normalized fully general quantum state\n",
    "plus = (zero + one).unit()\n",
    "minus = (zero - one).unit()\n",
    "superposition = (1/3*zero + 2/3*one).unit()\n",
    "\n",
    "# Density matrix representations of the states\n",
    "rho_zero = zero * zero.dag() # could also be fock_dm(2,0)\n",
    "rho_one = one * one.dag()\n",
    "rho_plus = plus * plus.dag()\n",
    "rho_minus = minus * minus.dag()\n",
    "rho_sp = superposition * superposition.dag()\n",
    "rho_mm = 0.5 * rho_zero + 0.5 * rho_one\n",
    "\n",
    "rho_mix = 0.5*(tensor(rho_zero, rho_zero) + tensor(rho_one, rho_one))\n",
    "rho_bell = ket2dm(bell_state(state = '00'))\n",
    "rho_GHZ = ket2dm(ghz_state(N=3))\n",
    "rho_W = ket2dm(w_state(N=3))\n",
    "rho_bellmix = 1/3*(tensor(rho_bell, rho_zero) + tensor(rho_zero, rho_bell) + tensor(rho_zero, rho_bell).permute([1,0,2]))\n",
    "\n",
    "rho_bennet = 1/(3-4)*(1-(tensor(rho_zero, rho_one, rho_plus) + tensor(rho_one, rho_plus, rho_zero) \n",
    "                        + tensor(rho_plus, rho_zero, rho_one) + tensor(rho_minus, rho_minus, rho_minus)))\n"
   ]
  },
  {
   "cell_type": "code",
   "execution_count": 7,
   "metadata": {},
   "outputs": [
    {
     "name": "stdout",
     "output_type": "stream",
     "text": [
      "ID |0> :  (1.0, [array([1.+0.j, 0.+0.j])])\n",
      "ID |+> :  (1.0, [array([0.70710678+0.j, 0.70710678+0.j])])\n"
     ]
    }
   ],
   "source": [
    "print('ID |0> : ', intrinsic_difference(rho_zero, rho_mm))\n",
    "print('ID |+> : ', intrinsic_difference(rho_plus, rho_mm))"
   ]
  },
  {
   "cell_type": "markdown",
   "metadata": {},
   "source": [
    "# Classical results"
   ]
  },
  {
   "cell_type": "code",
   "execution_count": 8,
   "metadata": {},
   "outputs": [],
   "source": [
    "qgate = cnot()\n",
    "state = (1,0)\n",
    "node_labels = (\"A\", \"B\")\n",
    "Qtpm = qgate.data.toarray()"
   ]
  },
  {
   "cell_type": "code",
   "execution_count": 9,
   "metadata": {},
   "outputs": [
    {
     "data": {
      "text/plain": [
       "array([[1., 0., 0., 0.],\n",
       "       [0., 1., 0., 0.],\n",
       "       [0., 0., 0., 1.],\n",
       "       [0., 0., 1., 0.]])"
      ]
     },
     "execution_count": 9,
     "metadata": {},
     "output_type": "execute_result"
    }
   ],
   "source": [
    "Qtpm.real"
   ]
  },
  {
   "cell_type": "code",
   "execution_count": 10,
   "metadata": {},
   "outputs": [],
   "source": [
    "# pyphi convention for state ordering is little endian\n",
    "Qtpm = pyphi.convert.be2le_state_by_state(Qtpm.real)"
   ]
  },
  {
   "cell_type": "code",
   "execution_count": 11,
   "metadata": {},
   "outputs": [],
   "source": [
    "network = pyphi.Network(Qtpm, node_labels=node_labels)\n",
    "subsystem = pyphi.Subsystem(network, state)"
   ]
  },
  {
   "cell_type": "code",
   "execution_count": 12,
   "metadata": {},
   "outputs": [
    {
     "name": "stdout",
     "output_type": "stream",
     "text": [
      "(0, 0): [0. 0.]\n",
      "(1, 0): [1. 1.]\n",
      "(0, 1): [0. 1.]\n",
      "(1, 1): [1. 0.]\n"
     ]
    }
   ],
   "source": [
    "network.tpm.print()"
   ]
  },
  {
   "cell_type": "code",
   "execution_count": 13,
   "metadata": {},
   "outputs": [
    {
     "data": {
      "text/plain": [
       "══════════════════════════════════════════════════════════════════════════════════\n",
       "                     Cause-effect structure (2 distinctions)                      \n",
       "══════════════════════════════════════════════════════════════════════════════════\n",
       "  ━━━━━━━━━━━━━━━━━━━━━━━━━━━━━━━━━━━━━━━━━━━━━━━━━━━━━━━━━━━━━━━━━━━━━━━━━━━━━━  \n",
       "                    Distinction: mechanism = [A], state = [1]                     \n",
       "                                      φ = 1                                       \n",
       "  ━━━━━━━━━━━━━━━━━━━━━━━━━━━━━━━━━━━━━━━━━━━━━━━━━━━━━━━━━━━━━━━━━━━━━━━━━━━━━━  \n",
       "  ┌─────────────────────────────────────┐┌─────────────────────────────────────┐  \n",
       "  │  Maximally-irreducible cause        ││  Maximally-irreducible effect       │  \n",
       "  │    φ = 1                            ││    φ = 1                            │  \n",
       "  │    Normalized φ = 1                 ││    Normalized φ = 1                 │  \n",
       "  │    Mechanism: [A]                   ││    Mechanism: [A]                   │  \n",
       "  │    Purview: [A]                     ││    Purview: [A]                     │  \n",
       "  │    Specified state:                 ││    Specified state:                 │  \n",
       "  │    ┌─────────────────┐              ││    ┌──────────────────┐             │  \n",
       "  │    │ Specified CAUSE │              ││    │ Specified EFFECT │             │  \n",
       "  │    │  ╍╍╍╍╍╍╍╍╍╍╍╍╍  │              ││    │  ╍╍╍╍╍╍╍╍╍╍╍╍╍╍  │             │  \n",
       "  │    │  CAUSE:  (1,)   │              ││    │  EFFECT:  (1,)   │             │  \n",
       "  │    │   II_c: 1.0     │              ││    │    II_e: 1.0     │             │  \n",
       "  │    └─────────────────┘              ││    └──────────────────┘             │  \n",
       "  │    Direction: CAUSE                 ││    Direction: EFFECT                │  \n",
       "  │    MIP:                             ││    MIP:                             │  \n",
       "  │       A     ∅                       ││       A     ∅                       │  \n",
       "  │      ─── ✕ ───                      ││      ─── ✕ ───                      │  \n",
       "  │       ∅     A                       ││       ∅     A                       │  \n",
       "  │    Forward probability:             ││    Forward probability:             │  \n",
       "  │        1.0                          ││        1.0                          │  \n",
       "  │    Partitioned forward probability: ││    Partitioned forward probability: │  \n",
       "  │        0.5                          ││        0.5                          │  \n",
       "  │    #(state ties): 0                 ││    #(state ties): 0                 │  \n",
       "  │    #(partition ties): 0             ││    #(partition ties): 0             │  \n",
       "  │    #(purview ties): 0               ││    #(purview ties): 0               │  \n",
       "  └─────────────────────────────────────┘└─────────────────────────────────────┘  \n",
       "                                                                                  \n",
       "  ━━━━━━━━━━━━━━━━━━━━━━━━━━━━━━━━━━━━━━━━━━━━━━━━━━━━━━━━━━━━━━━━━━━━━━━━━━━━━━  \n",
       "                  Distinction: mechanism = [A,B], state = [1, 0]                  \n",
       "                                      φ = 1                                       \n",
       "  ━━━━━━━━━━━━━━━━━━━━━━━━━━━━━━━━━━━━━━━━━━━━━━━━━━━━━━━━━━━━━━━━━━━━━━━━━━━━━━  \n",
       "  ┌─────────────────────────────────────┐┌─────────────────────────────────────┐  \n",
       "  │  Maximally-irreducible cause        ││  Maximally-irreducible effect       │  \n",
       "  │    φ = 1                            ││    φ = 1                            │  \n",
       "  │    Normalized φ = 1/3               ││    Normalized φ = 1/2               │  \n",
       "  │    Mechanism: [A,B]                 ││    Mechanism: [A,B]                 │  \n",
       "  │    Purview: [A,B]                   ││    Purview: [B]                     │  \n",
       "  │    Specified state:                 ││    Specified state:                 │  \n",
       "  │    ┌─────────────────┐              ││    ┌──────────────────┐             │  \n",
       "  │    │ Specified CAUSE │              ││    │ Specified EFFECT │             │  \n",
       "  │    │ ╍╍╍╍╍╍╍╍╍╍╍╍╍╍╍ │              ││    │  ╍╍╍╍╍╍╍╍╍╍╍╍╍╍  │             │  \n",
       "  │    │ CAUSE:  (1, 1)  │              ││    │  EFFECT:  (1,)   │             │  \n",
       "  │    │  II_c: 2.0      │              ││    │    II_e: 1.0     │             │  \n",
       "  │    └─────────────────┘              ││    └──────────────────┘             │  \n",
       "  │    Direction: CAUSE                 ││    Direction: EFFECT                │  \n",
       "  │    MIP:                             ││    MIP:                             │  \n",
       "  │       A     B     ∅                 ││      A,B    ∅                       │  \n",
       "  │      ─── ✕ ─── ✕ ───                ││      ─── ✕ ───                      │  \n",
       "  │       A     ∅     B                 ││       ∅     B                       │  \n",
       "  │    Forward probability:             ││    Forward probability:             │  \n",
       "  │        1.0                          ││        1.0                          │  \n",
       "  │    Partitioned forward probability: ││    Partitioned forward probability: │  \n",
       "  │        0.5                          ││        0.5                          │  \n",
       "  │    #(state ties): 0                 ││    #(state ties): 0                 │  \n",
       "  │    #(partition ties): 0             ││    #(partition ties): 1             │  \n",
       "  │    #(purview ties): 0               ││    #(purview ties): 1               │  \n",
       "  └─────────────────────────────────────┘└─────────────────────────────────────┘  \n",
       "                                                                                  \n",
       "                                                                                  "
      ]
     },
     "execution_count": 13,
     "metadata": {},
     "output_type": "execute_result"
    }
   ],
   "source": [
    "ces = pyphi.new_big_phi.phi_structure(subsystem, parallel = False)\n",
    "ces.distinctions"
   ]
  },
  {
   "cell_type": "code",
   "execution_count": 14,
   "metadata": {},
   "outputs": [
    {
     "data": {
      "text/plain": [
       "(Maximally-irreducible effect\n",
       "   φ = 1\n",
       "   Normalized φ = 1/2\n",
       "   Mechanism: [A,B]\n",
       "   Purview: [B]\n",
       "   Specified state:\n",
       "   ┌──────────────────┐\n",
       "   │ Specified EFFECT │\n",
       "   │  ╍╍╍╍╍╍╍╍╍╍╍╍╍╍  │\n",
       "   │  EFFECT:  (1,)   │\n",
       "   │    II_e: 1.0     │\n",
       "   └──────────────────┘\n",
       "   Direction: EFFECT\n",
       "   MIP:\n",
       "     A,B    ∅ \n",
       "     ─── ✕ ───\n",
       "      ∅     B \n",
       "   Forward probability: \n",
       "       1.0\n",
       "   Partitioned forward probability:\n",
       "       0.5\n",
       "   #(state ties): 0\n",
       "   #(partition ties): 1\n",
       "   #(purview ties): 1,\n",
       " Maximally-irreducible effect\n",
       "   φ = 1\n",
       "   Normalized φ = 1/3\n",
       "   Mechanism: [A,B]\n",
       "   Purview: [A,B]\n",
       "   Specified state:\n",
       "   ┌──────────────────┐\n",
       "   │ Specified EFFECT │\n",
       "   │ ╍╍╍╍╍╍╍╍╍╍╍╍╍╍╍╍ │\n",
       "   │ EFFECT:  (1, 1)  │\n",
       "   │   II_e: 2.0      │\n",
       "   └──────────────────┘\n",
       "   Direction: EFFECT\n",
       "   MIP:\n",
       "      A     B     ∅ \n",
       "     ─── ✕ ─── ✕ ───\n",
       "      A     ∅     B \n",
       "   Forward probability: \n",
       "       1.0\n",
       "   Partitioned forward probability:\n",
       "       0.5\n",
       "   #(state ties): 0\n",
       "   #(partition ties): 0\n",
       "   #(purview ties): 1)"
      ]
     },
     "execution_count": 14,
     "metadata": {},
     "output_type": "execute_result"
    }
   ],
   "source": [
    "# Compute effect of mechanism (A, B) and show ties in purview --> we select the largest purview\n",
    "subsystem.mie((0, 1)).purview_ties"
   ]
  },
  {
   "cell_type": "code",
   "execution_count": 15,
   "metadata": {},
   "outputs": [
    {
     "data": {
      "text/plain": [
       "Maximally-irreducible cause\n",
       "  φ = 1/2\n",
       "  Normalized φ = 1/4\n",
       "  Mechanism: [B]\n",
       "  Purview: [A,B]\n",
       "  Specified state:\n",
       "  ┌─────────────────┐\n",
       "  │ Specified CAUSE │\n",
       "  │ ╍╍╍╍╍╍╍╍╍╍╍╍╍╍╍ │\n",
       "  │ CAUSE:  (0, 0)  │\n",
       "  │  II_c: 0.5      │\n",
       "  └─────────────────┘\n",
       "  Direction: CAUSE\n",
       "  MIP:\n",
       "     B     ∅ \n",
       "    ─── ✕ ───\n",
       "     ∅    A,B\n",
       "  Forward probability: \n",
       "      1.0\n",
       "  Partitioned forward probability:\n",
       "      0.5\n",
       "  #(state ties): 1\n",
       "  #(partition ties): 0\n",
       "  #(purview ties): 0"
      ]
     },
     "execution_count": 15,
     "metadata": {},
     "output_type": "execute_result"
    }
   ],
   "source": [
    "# find cause of mechanism B\n",
    "# since mechanism B has a cause but no effect is was not included in the cause-effect structure above\n",
    "subsystem.find_mice(pyphi.direction.Direction.CAUSE, (1,))"
   ]
  },
  {
   "cell_type": "markdown",
   "metadata": {},
   "source": [
    "# Quantum results"
   ]
  },
  {
   "cell_type": "markdown",
   "metadata": {},
   "source": [
    "## 2 Qubit"
   ]
  },
  {
   "cell_type": "code",
   "execution_count": 15,
   "metadata": {},
   "outputs": [],
   "source": [
    "qgate = cnot()"
   ]
  },
  {
   "cell_type": "code",
   "execution_count": 16,
   "metadata": {},
   "outputs": [],
   "source": [
    "# Figure 3\n",
    "rho = tensor(rho_one, rho_zero)\n",
    "# rho = tensor(rho_minus, rho_plus)\n",
    "# rho = tensor(rho_plus, rho_zero)\n",
    "# rho = tensor(rho_zero, rho_plus)\n",
    "\n",
    "# Figure 4\n",
    "# rho = rho_mix"
   ]
  },
  {
   "cell_type": "code",
   "execution_count": 17,
   "metadata": {},
   "outputs": [
    {
     "data": {
      "text/latex": [
       "Quantum object: dims = [[2, 2], [2, 2]], shape = (4, 4), type = oper, isherm = True $ \\\\ \\left(\\begin{matrix}0.0 & 0.0 & 0.0 & 0.0\\\\0.0 & 0.0 & 0.0 & 0.0\\\\0.0 & 0.0 & 1.0 & 0.0\\\\0.0 & 0.0 & 0.0 & 0.0\\\\\\end{matrix}\\right)$"
      ],
      "text/plain": [
       "Quantum object: dims = [[2, 2], [2, 2]], shape = (4, 4), type = oper, isherm = True\n",
       "Qobj data =\n",
       "[[0. 0. 0. 0.]\n",
       " [0. 0. 0. 0.]\n",
       " [0. 0. 1. 0.]\n",
       " [0. 0. 0. 0.]]"
      ]
     },
     "execution_count": 17,
     "metadata": {},
     "output_type": "execute_result"
    }
   ],
   "source": [
    "rho"
   ]
  },
  {
   "cell_type": "code",
   "execution_count": 18,
   "metadata": {},
   "outputs": [
    {
     "data": {
      "text/latex": [
       "Quantum object: dims = [[2, 2], [2, 2]], shape = (4, 4), type = oper, isherm = True $ \\\\ \\left(\\begin{matrix}0.0 & 0.0 & 0.0 & 0.0\\\\0.0 & 0.0 & 0.0 & 0.0\\\\0.0 & 0.0 & 0.0 & 0.0\\\\0.0 & 0.0 & 0.0 & 1.0\\\\\\end{matrix}\\right)$"
      ],
      "text/plain": [
       "Quantum object: dims = [[2, 2], [2, 2]], shape = (4, 4), type = oper, isherm = True\n",
       "Qobj data =\n",
       "[[0. 0. 0. 0.]\n",
       " [0. 0. 0. 0.]\n",
       " [0. 0. 0. 0.]\n",
       " [0. 0. 0. 1.]]"
      ]
     },
     "execution_count": 18,
     "metadata": {},
     "output_type": "execute_result"
    }
   ],
   "source": [
    "rho_e = evolve_unitary(rho, qgate, 'effect')\n",
    "rho_e"
   ]
  },
  {
   "cell_type": "code",
   "execution_count": 19,
   "metadata": {},
   "outputs": [
    {
     "data": {
      "text/latex": [
       "Quantum object: dims = [[2], [2]], shape = (2, 2), type = oper, isherm = True $ \\\\ \\left(\\begin{matrix}0.0 & 0.0\\\\0.0 & 1.0\\\\\\end{matrix}\\right)$"
      ],
      "text/plain": [
       "Quantum object: dims = [[2], [2]], shape = (2, 2), type = oper, isherm = True\n",
       "Qobj data =\n",
       "[[0. 0.]\n",
       " [0. 1.]]"
      ]
     },
     "execution_count": 19,
     "metadata": {},
     "output_type": "execute_result"
    }
   ],
   "source": [
    "rho_e.ptrace([1,])"
   ]
  },
  {
   "cell_type": "code",
   "execution_count": 20,
   "metadata": {},
   "outputs": [
    {
     "name": "stdout",
     "output_type": "stream",
     "text": [
      "m:  (0,)\n",
      "p:  (0,)  phi:  1.0\n",
      "p:  (1,)  phi:  0\n",
      "p:  (0, 1)  phi:  0.5\n",
      "m:  (1,)\n",
      "p:  (0,)  phi:  0\n",
      "p:  (1,)  phi:  0\n",
      "p:  (0, 1)  phi:  0\n",
      "m:  (0, 1)\n",
      "p:  (0,)  phi:  0\n",
      "p:  (1,)  phi:  1.0\n",
      "p:  (0, 1)  phi:  1.0\n"
     ]
    }
   ],
   "source": [
    "result_effect = compute_ces(rho, qgate, direction = 'effect')"
   ]
  },
  {
   "cell_type": "code",
   "execution_count": 21,
   "metadata": {},
   "outputs": [
    {
     "name": "stdout",
     "output_type": "stream",
     "text": [
      "mechanism:  (0,) ; purview:  (0,) ; phi =  1.0\n",
      "mip: \n",
      " 0     ∅ \n",
      "─── ✕ ───\n",
      " ∅     0 \n",
      "[Quantum object: dims = [[2], [1]], shape = (2, 1), type = ket\n",
      "Qobj data =\n",
      "[[0.]\n",
      " [1.]]]\n",
      "\n",
      "mechanism:  (0, 1) ; purview:  (0, 1) ; phi =  1.0\n",
      "mip: \n",
      " 0     1     ∅ \n",
      "─── ✕ ─── ✕ ───\n",
      " 0     ∅     1 \n",
      "[Quantum object: dims = [[4], [1]], shape = (4, 1), type = ket\n",
      "Qobj data =\n",
      "[[0.]\n",
      " [0.]\n",
      " [0.]\n",
      " [1.]]]\n",
      "\n"
     ]
    }
   ],
   "source": [
    "print_QIIT_results(result_effect)"
   ]
  },
  {
   "cell_type": "code",
   "execution_count": 22,
   "metadata": {},
   "outputs": [
    {
     "name": "stdout",
     "output_type": "stream",
     "text": [
      "m:  (0,)\n",
      "p:  (0,)  phi:  1.0\n",
      "p:  (1,)  phi:  0\n",
      "p:  (0, 1)  phi:  0.5\n",
      "m:  (1,)\n",
      "p:  (0,)  phi:  0\n",
      "p:  (1,)  phi:  0\n",
      "p:  (0, 1)  phi:  0.5\n",
      "m:  (0, 1)\n",
      "p:  (0,)  phi:  0\n",
      "p:  (1,)  phi:  0\n",
      "p:  (0, 1)  phi:  1.0\n"
     ]
    }
   ],
   "source": [
    "result_cause = compute_ces(rho_e, qgate, direction = 'cause')"
   ]
  },
  {
   "cell_type": "code",
   "execution_count": 23,
   "metadata": {},
   "outputs": [
    {
     "name": "stdout",
     "output_type": "stream",
     "text": [
      "mechanism:  (0,) ; purview:  (0,) ; phi =  1.0\n",
      "mip: \n",
      " 0     ∅ \n",
      "─── ✕ ───\n",
      " ∅     0 \n",
      "[Quantum object: dims = [[2], [1]], shape = (2, 1), type = ket\n",
      "Qobj data =\n",
      "[[0.]\n",
      " [1.]]]\n",
      "\n",
      "mechanism:  (1,) ; purview:  (0, 1) ; phi =  0.5\n",
      "mip: \n",
      " 1     ∅ \n",
      "─── ✕ ───\n",
      " ∅    0,1\n",
      "[Quantum object: dims = [[4], [1]], shape = (4, 1), type = ket\n",
      "Qobj data =\n",
      "[[0.]\n",
      " [1.]\n",
      " [0.]\n",
      " [0.]], Quantum object: dims = [[4], [1]], shape = (4, 1), type = ket\n",
      "Qobj data =\n",
      "[[0.]\n",
      " [0.]\n",
      " [1.]\n",
      " [0.]]]\n",
      "\n",
      "mechanism:  (0, 1) ; purview:  (0, 1) ; phi =  1.0\n",
      "mip: \n",
      " 0     1     ∅ \n",
      "─── ✕ ─── ✕ ───\n",
      " 0     ∅     1 \n",
      "[Quantum object: dims = [[4], [1]], shape = (4, 1), type = ket\n",
      "Qobj data =\n",
      "[[0.]\n",
      " [0.]\n",
      " [1.]\n",
      " [0.]]]\n",
      "\n"
     ]
    }
   ],
   "source": [
    "print_QIIT_results(result_cause)"
   ]
  },
  {
   "cell_type": "markdown",
   "metadata": {},
   "source": [
    "## 3 Qubits"
   ]
  },
  {
   "cell_type": "code",
   "execution_count": 24,
   "metadata": {},
   "outputs": [],
   "source": [
    "# Figure 4\n",
    "qgate = tensor(qeye(2), cnot())"
   ]
  },
  {
   "cell_type": "code",
   "execution_count": 25,
   "metadata": {},
   "outputs": [
    {
     "data": {
      "text/latex": [
       "Quantum object: dims = [[2, 2, 2], [2, 2, 2]], shape = (8, 8), type = oper, isherm = True $ \\\\ \\left(\\begin{matrix}0.500 & 0.0 & 0.0 & 0.0 & 0.0 & 0.0 & 0.0 & 0.500\\\\0.0 & 0.0 & 0.0 & 0.0 & 0.0 & 0.0 & 0.0 & 0.0\\\\0.0 & 0.0 & 0.0 & 0.0 & 0.0 & 0.0 & 0.0 & 0.0\\\\0.0 & 0.0 & 0.0 & 0.0 & 0.0 & 0.0 & 0.0 & 0.0\\\\0.0 & 0.0 & 0.0 & 0.0 & 0.0 & 0.0 & 0.0 & 0.0\\\\0.0 & 0.0 & 0.0 & 0.0 & 0.0 & 0.0 & 0.0 & 0.0\\\\0.0 & 0.0 & 0.0 & 0.0 & 0.0 & 0.0 & 0.0 & 0.0\\\\0.500 & 0.0 & 0.0 & 0.0 & 0.0 & 0.0 & 0.0 & 0.500\\\\\\end{matrix}\\right)$"
      ],
      "text/plain": [
       "Quantum object: dims = [[2, 2, 2], [2, 2, 2]], shape = (8, 8), type = oper, isherm = True\n",
       "Qobj data =\n",
       "[[0.5 0.  0.  0.  0.  0.  0.  0.5]\n",
       " [0.  0.  0.  0.  0.  0.  0.  0. ]\n",
       " [0.  0.  0.  0.  0.  0.  0.  0. ]\n",
       " [0.  0.  0.  0.  0.  0.  0.  0. ]\n",
       " [0.  0.  0.  0.  0.  0.  0.  0. ]\n",
       " [0.  0.  0.  0.  0.  0.  0.  0. ]\n",
       " [0.  0.  0.  0.  0.  0.  0.  0. ]\n",
       " [0.5 0.  0.  0.  0.  0.  0.  0.5]]"
      ]
     },
     "execution_count": 25,
     "metadata": {},
     "output_type": "execute_result"
    }
   ],
   "source": [
    "rho = rho_GHZ\n",
    "rho"
   ]
  },
  {
   "cell_type": "code",
   "execution_count": 26,
   "metadata": {},
   "outputs": [
    {
     "data": {
      "text/latex": [
       "Quantum object: dims = [[2, 2, 2], [2, 2, 2]], shape = (8, 8), type = oper, isherm = True $ \\\\ \\left(\\begin{matrix}0.500 & 0.0 & 0.0 & 0.0 & 0.0 & 0.0 & 0.500 & 0.0\\\\0.0 & 0.0 & 0.0 & 0.0 & 0.0 & 0.0 & 0.0 & 0.0\\\\0.0 & 0.0 & 0.0 & 0.0 & 0.0 & 0.0 & 0.0 & 0.0\\\\0.0 & 0.0 & 0.0 & 0.0 & 0.0 & 0.0 & 0.0 & 0.0\\\\0.0 & 0.0 & 0.0 & 0.0 & 0.0 & 0.0 & 0.0 & 0.0\\\\0.0 & 0.0 & 0.0 & 0.0 & 0.0 & 0.0 & 0.0 & 0.0\\\\0.500 & 0.0 & 0.0 & 0.0 & 0.0 & 0.0 & 0.500 & 0.0\\\\0.0 & 0.0 & 0.0 & 0.0 & 0.0 & 0.0 & 0.0 & 0.0\\\\\\end{matrix}\\right)$"
      ],
      "text/plain": [
       "Quantum object: dims = [[2, 2, 2], [2, 2, 2]], shape = (8, 8), type = oper, isherm = True\n",
       "Qobj data =\n",
       "[[0.5 0.  0.  0.  0.  0.  0.5 0. ]\n",
       " [0.  0.  0.  0.  0.  0.  0.  0. ]\n",
       " [0.  0.  0.  0.  0.  0.  0.  0. ]\n",
       " [0.  0.  0.  0.  0.  0.  0.  0. ]\n",
       " [0.  0.  0.  0.  0.  0.  0.  0. ]\n",
       " [0.  0.  0.  0.  0.  0.  0.  0. ]\n",
       " [0.5 0.  0.  0.  0.  0.  0.5 0. ]\n",
       " [0.  0.  0.  0.  0.  0.  0.  0. ]]"
      ]
     },
     "execution_count": 26,
     "metadata": {},
     "output_type": "execute_result"
    }
   ],
   "source": [
    "rho_e = evolve_unitary(rho, qgate, 'effect')\n",
    "rho_e"
   ]
  },
  {
   "cell_type": "code",
   "execution_count": 27,
   "metadata": {},
   "outputs": [
    {
     "data": {
      "text/latex": [
       "Quantum object: dims = [[2, 2], [2, 2]], shape = (4, 4), type = oper, isherm = True $ \\\\ \\left(\\begin{matrix}0.500 & 0.0 & 0.0 & 0.500\\\\0.0 & 0.0 & 0.0 & 0.0\\\\0.0 & 0.0 & 0.0 & 0.0\\\\0.500 & 0.0 & 0.0 & 0.500\\\\\\end{matrix}\\right)$"
      ],
      "text/plain": [
       "Quantum object: dims = [[2, 2], [2, 2]], shape = (4, 4), type = oper, isherm = True\n",
       "Qobj data =\n",
       "[[0.5 0.  0.  0.5]\n",
       " [0.  0.  0.  0. ]\n",
       " [0.  0.  0.  0. ]\n",
       " [0.5 0.  0.  0.5]]"
      ]
     },
     "execution_count": 27,
     "metadata": {},
     "output_type": "execute_result"
    }
   ],
   "source": [
    "rho_e.ptrace([0,1])"
   ]
  },
  {
   "cell_type": "code",
   "execution_count": 28,
   "metadata": {},
   "outputs": [
    {
     "data": {
      "text/plain": [
       "[(0, 1, 2)]"
      ]
     },
     "execution_count": 28,
     "metadata": {},
     "output_type": "execute_result"
    }
   ],
   "source": [
    "entanglement_partition(rho)"
   ]
  },
  {
   "cell_type": "code",
   "execution_count": 29,
   "metadata": {},
   "outputs": [
    {
     "data": {
      "text/plain": [
       "[(2,), (0, 1)]"
      ]
     },
     "execution_count": 29,
     "metadata": {},
     "output_type": "execute_result"
    }
   ],
   "source": [
    "entanglement_partition(rho_e)"
   ]
  },
  {
   "cell_type": "code",
   "execution_count": 30,
   "metadata": {},
   "outputs": [
    {
     "name": "stdout",
     "output_type": "stream",
     "text": [
      "m:  (0,)\n",
      "p:  (0,)  phi:  0\n",
      "p:  (1,)  phi:  0\n",
      "p:  (2,)  phi:  0\n",
      "p:  (0, 1)  phi:  0\n",
      "p:  (0, 2)  phi:  0\n",
      "p:  (1, 2)  phi:  0\n",
      "p:  (0, 1, 2)  phi:  0\n",
      "m:  (1,)\n",
      "p:  (0,)  phi:  0\n",
      "p:  (1,)  phi:  0\n",
      "p:  (2,)  phi:  0\n",
      "p:  (0, 1)  phi:  0\n",
      "p:  (0, 2)  phi:  0\n",
      "p:  (1, 2)  phi:  0\n",
      "p:  (0, 1, 2)  phi:  0\n",
      "m:  (2,)\n",
      "p:  (0,)  phi:  0\n",
      "p:  (1,)  phi:  0\n",
      "p:  (2,)  phi:  0\n",
      "p:  (0, 1)  phi:  0\n",
      "p:  (0, 2)  phi:  0\n",
      "p:  (1, 2)  phi:  0\n",
      "p:  (0, 1, 2)  phi:  0\n",
      "m:  (0, 1)\n",
      "p:  (0,)  phi:  0\n",
      "p:  (1,)  phi:  0\n",
      "p:  (2,)  phi:  0\n",
      "p:  (0, 1)  phi:  0\n",
      "p:  (0, 2)  phi:  0\n",
      "p:  (1, 2)  phi:  0\n",
      "p:  (0, 1, 2)  phi:  0\n",
      "m:  (0, 2)\n",
      "p:  (0,)  phi:  0\n",
      "p:  (1,)  phi:  0\n",
      "p:  (2,)  phi:  0\n",
      "p:  (0, 1)  phi:  0\n",
      "p:  (0, 2)  phi:  0\n",
      "p:  (1, 2)  phi:  0\n",
      "p:  (0, 1, 2)  phi:  0\n",
      "m:  (1, 2)\n",
      "p:  (0,)  phi:  0\n",
      "p:  (1,)  phi:  0\n",
      "p:  (2,)  phi:  1.0\n",
      "p:  (0, 1)  phi:  0\n",
      "p:  (0, 2)  phi:  0.5\n",
      "p:  (1, 2)  phi:  0.5\n",
      "p:  (0, 1, 2)  phi:  0.25\n",
      "m:  (0, 1, 2)\n",
      "p:  (0,)  phi:  0\n",
      "p:  (1,)  phi:  0\n",
      "p:  (2,)  phi:  0\n",
      "p:  (0, 1)  phi:  2.0\n",
      "p:  (0, 2)  phi:  0\n",
      "p:  (1, 2)  phi:  0\n",
      "p:  (0, 1, 2)  phi:  2.0\n"
     ]
    }
   ],
   "source": [
    "result_effect = compute_ces(rho, qgate, direction = 'effect')"
   ]
  },
  {
   "cell_type": "code",
   "execution_count": 31,
   "metadata": {},
   "outputs": [
    {
     "name": "stdout",
     "output_type": "stream",
     "text": [
      "mechanism:  (1, 2) ; purview:  (2,) ; phi =  1.0\n",
      "mip: \n",
      "1,2    ∅ \n",
      "─── ✕ ───\n",
      " ∅     2 \n",
      "[Quantum object: dims = [[2], [1]], shape = (2, 1), type = ket\n",
      "Qobj data =\n",
      "[[1.]\n",
      " [0.]]]\n",
      "\n",
      "mechanism:  (0, 1, 2) ; purview:  (0, 1, 2) ; phi =  2.0\n",
      "mip: \n",
      " 0    1,2    ∅ \n",
      "─── ✕ ─── ✕ ───\n",
      " ∅     2    0,1\n",
      "[Quantum object: dims = [[8], [1]], shape = (8, 1), type = ket\n",
      "Qobj data =\n",
      "[[0.70710678]\n",
      " [0.        ]\n",
      " [0.        ]\n",
      " [0.        ]\n",
      " [0.        ]\n",
      " [0.        ]\n",
      " [0.70710678]\n",
      " [0.        ]]]\n",
      "\n"
     ]
    }
   ],
   "source": [
    "print_QIIT_results(result_effect)"
   ]
  },
  {
   "cell_type": "code",
   "execution_count": 32,
   "metadata": {},
   "outputs": [
    {
     "name": "stdout",
     "output_type": "stream",
     "text": [
      "m:  (0,)\n",
      "p:  (0,)  phi:  0\n",
      "p:  (1,)  phi:  0\n",
      "p:  (2,)  phi:  0\n",
      "p:  (0, 1)  phi:  0\n",
      "p:  (0, 2)  phi:  0\n",
      "p:  (1, 2)  phi:  0\n",
      "p:  (0, 1, 2)  phi:  0\n",
      "m:  (1,)\n",
      "p:  (0,)  phi:  0\n",
      "p:  (1,)  phi:  0\n",
      "p:  (2,)  phi:  0\n",
      "p:  (0, 1)  phi:  0\n",
      "p:  (0, 2)  phi:  0\n",
      "p:  (1, 2)  phi:  0\n",
      "p:  (0, 1, 2)  phi:  0\n",
      "m:  (2,)\n",
      "p:  (0,)  phi:  0\n",
      "p:  (1,)  phi:  0\n",
      "p:  (2,)  phi:  0\n",
      "p:  (0, 1)  phi:  0\n",
      "p:  (0, 2)  phi:  0\n",
      "p:  (1, 2)  phi:  0.5\n",
      "p:  (0, 1, 2)  phi:  0.25\n",
      "m:  (0, 1)\n",
      "p:  (0,)  phi:  0\n",
      "p:  (1,)  phi:  0\n",
      "p:  (2,)  phi:  0\n",
      "p:  (0, 1)  phi:  0.5\n",
      "p:  (0, 2)  phi:  0\n",
      "p:  (1, 2)  phi:  0\n",
      "p:  (0, 1, 2)  phi:  1.0\n",
      "m:  (0, 2)\n",
      "p:  (0,)  phi:  0\n",
      "p:  (1,)  phi:  0\n",
      "p:  (2,)  phi:  0\n",
      "p:  (0, 1)  phi:  0\n",
      "p:  (0, 2)  phi:  0\n",
      "p:  (1, 2)  phi:  0\n",
      "p:  (0, 1, 2)  phi:  0\n",
      "m:  (1, 2)\n",
      "p:  (0,)  phi:  0\n",
      "p:  (1,)  phi:  0\n",
      "p:  (2,)  phi:  0\n",
      "p:  (0, 1)  phi:  0\n",
      "p:  (0, 2)  phi:  0\n",
      "p:  (1, 2)  phi:  0\n",
      "p:  (0, 1, 2)  phi:  0\n",
      "m:  (0, 1, 2)\n",
      "p:  (0,)  phi:  0\n",
      "p:  (1,)  phi:  0\n",
      "p:  (2,)  phi:  0\n",
      "p:  (0, 1)  phi:  0\n",
      "p:  (0, 2)  phi:  0\n",
      "p:  (1, 2)  phi:  0\n",
      "p:  (0, 1, 2)  phi:  2.0\n"
     ]
    }
   ],
   "source": [
    "result_cause = compute_ces(rho_e, qgate, direction = 'cause')"
   ]
  },
  {
   "cell_type": "code",
   "execution_count": 34,
   "metadata": {},
   "outputs": [
    {
     "name": "stdout",
     "output_type": "stream",
     "text": [
      "mechanism:  (2,) ; purview:  (1, 2) ; phi =  0.5\n",
      "mip: \n",
      " 2     ∅ \n",
      "─── ✕ ───\n",
      " ∅    1,2\n",
      "[Quantum object: dims = [[4], [1]], shape = (4, 1), type = ket\n",
      "Qobj data =\n",
      "[[1.]\n",
      " [0.]\n",
      " [0.]\n",
      " [0.]], Quantum object: dims = [[4], [1]], shape = (4, 1), type = ket\n",
      "Qobj data =\n",
      "[[0.]\n",
      " [0.]\n",
      " [0.]\n",
      " [1.]]]\n",
      "\n",
      "mechanism:  (0, 1) ; purview:  (0, 1, 2) ; phi =  1.0\n",
      "mip: \n",
      "0,1     ∅  \n",
      "─── ✕ ─────\n",
      " ∅    0,1,2\n",
      "[Quantum object: dims = [[8], [1]], shape = (8, 1), type = ket\n",
      "Qobj data =\n",
      "[[0.70710678]\n",
      " [0.        ]\n",
      " [0.        ]\n",
      " [0.        ]\n",
      " [0.        ]\n",
      " [0.        ]\n",
      " [0.        ]\n",
      " [0.70710678]], Quantum object: dims = [[8], [1]], shape = (8, 1), type = ket\n",
      "Qobj data =\n",
      "[[0.        ]\n",
      " [0.70710678]\n",
      " [0.        ]\n",
      " [0.        ]\n",
      " [0.        ]\n",
      " [0.        ]\n",
      " [0.70710678]\n",
      " [0.        ]]]\n",
      "\n",
      "mechanism:  (0, 1, 2) ; purview:  (0, 1, 2) ; phi =  2.0\n",
      "mip: \n",
      "0,1    2     ∅ \n",
      "─── ✕ ─── ✕ ───\n",
      " ∅    1,2    0 \n",
      "[Quantum object: dims = [[8], [1]], shape = (8, 1), type = ket\n",
      "Qobj data =\n",
      "[[0.70710678]\n",
      " [0.        ]\n",
      " [0.        ]\n",
      " [0.        ]\n",
      " [0.        ]\n",
      " [0.        ]\n",
      " [0.        ]\n",
      " [0.70710678]]]\n",
      "\n"
     ]
    }
   ],
   "source": [
    "print_QIIT_results(result_cause)"
   ]
  },
  {
   "attachments": {},
   "cell_type": "markdown",
   "metadata": {},
   "source": [
    "## 3 Qubit Identity"
   ]
  },
  {
   "cell_type": "code",
   "execution_count": 35,
   "metadata": {},
   "outputs": [],
   "source": [
    "# Figure 5\n",
    "qgate = tensor(qeye(2),qeye(2),qeye(2))"
   ]
  },
  {
   "cell_type": "code",
   "execution_count": 36,
   "metadata": {},
   "outputs": [
    {
     "data": {
      "text/latex": [
       "Quantum object: dims = [[2, 2, 2], [2, 2, 2]], shape = (8, 8), type = oper, isherm = True $ \\\\ \\left(\\begin{matrix}0.0 & 0.0 & 0.0 & 0.0 & 0.0 & 0.0 & 0.0 & 0.0\\\\0.0 & 0.333 & 0.333 & 0.0 & 0.333 & 0.0 & 0.0 & 0.0\\\\0.0 & 0.333 & 0.333 & 0.0 & 0.333 & 0.0 & 0.0 & 0.0\\\\0.0 & 0.0 & 0.0 & 0.0 & 0.0 & 0.0 & 0.0 & 0.0\\\\0.0 & 0.333 & 0.333 & 0.0 & 0.333 & 0.0 & 0.0 & 0.0\\\\0.0 & 0.0 & 0.0 & 0.0 & 0.0 & 0.0 & 0.0 & 0.0\\\\0.0 & 0.0 & 0.0 & 0.0 & 0.0 & 0.0 & 0.0 & 0.0\\\\0.0 & 0.0 & 0.0 & 0.0 & 0.0 & 0.0 & 0.0 & 0.0\\\\\\end{matrix}\\right)$"
      ],
      "text/plain": [
       "Quantum object: dims = [[2, 2, 2], [2, 2, 2]], shape = (8, 8), type = oper, isherm = True\n",
       "Qobj data =\n",
       "[[0.         0.         0.         0.         0.         0.\n",
       "  0.         0.        ]\n",
       " [0.         0.33333333 0.33333333 0.         0.33333333 0.\n",
       "  0.         0.        ]\n",
       " [0.         0.33333333 0.33333333 0.         0.33333333 0.\n",
       "  0.         0.        ]\n",
       " [0.         0.         0.         0.         0.         0.\n",
       "  0.         0.        ]\n",
       " [0.         0.33333333 0.33333333 0.         0.33333333 0.\n",
       "  0.         0.        ]\n",
       " [0.         0.         0.         0.         0.         0.\n",
       "  0.         0.        ]\n",
       " [0.         0.         0.         0.         0.         0.\n",
       "  0.         0.        ]\n",
       " [0.         0.         0.         0.         0.         0.\n",
       "  0.         0.        ]]"
      ]
     },
     "execution_count": 36,
     "metadata": {},
     "output_type": "execute_result"
    }
   ],
   "source": [
    "# rho = tensor(rho_zero, rho_zero, rho_zero)\n",
    "# rho = rho_GHZ\n",
    "rho = rho_W\n",
    "rho"
   ]
  },
  {
   "cell_type": "code",
   "execution_count": 37,
   "metadata": {},
   "outputs": [
    {
     "name": "stdout",
     "output_type": "stream",
     "text": [
      "m:  (0,)\n",
      "p:  (0,)  phi:  0.276692\n",
      "p:  (1,)  phi:  0\n",
      "p:  (2,)  phi:  0\n",
      "p:  (0, 1)  phi:  0.138346\n",
      "p:  (0, 2)  phi:  0.138346\n",
      "p:  (1, 2)  phi:  0\n",
      "p:  (0, 1, 2)  phi:  0.069173\n",
      "m:  (1,)\n",
      "p:  (0,)  phi:  0\n",
      "p:  (1,)  phi:  0.276692\n",
      "p:  (2,)  phi:  0\n",
      "p:  (0, 1)  phi:  0.138346\n",
      "p:  (0, 2)  phi:  0\n",
      "p:  (1, 2)  phi:  0.138346\n",
      "p:  (0, 1, 2)  phi:  0.069173\n",
      "m:  (2,)\n",
      "p:  (0,)  phi:  0\n",
      "p:  (1,)  phi:  0\n",
      "p:  (2,)  phi:  0.276692\n",
      "p:  (0, 1)  phi:  0\n",
      "p:  (0, 2)  phi:  0.138346\n",
      "p:  (1, 2)  phi:  0.138346\n",
      "p:  (0, 1, 2)  phi:  0.069173\n",
      "m:  (0, 1)\n",
      "p:  (0,)  phi:  0\n",
      "p:  (1,)  phi:  0\n",
      "p:  (2,)  phi:  0\n",
      "p:  (0, 1)  phi:  0.943358\n",
      "p:  (0, 2)  phi:  0\n",
      "p:  (1, 2)  phi:  0\n",
      "p:  (0, 1, 2)  phi:  0.471679\n",
      "m:  (0, 2)\n",
      "p:  (0,)  phi:  0\n",
      "p:  (1,)  phi:  0\n",
      "p:  (2,)  phi:  0\n",
      "p:  (0, 1)  phi:  0\n",
      "p:  (0, 2)  phi:  0.943358\n",
      "p:  (1, 2)  phi:  0\n",
      "p:  (0, 1, 2)  phi:  0.471679\n",
      "m:  (1, 2)\n",
      "p:  (0,)  phi:  0\n",
      "p:  (1,)  phi:  0\n",
      "p:  (2,)  phi:  0\n",
      "p:  (0, 1)  phi:  0\n",
      "p:  (0, 2)  phi:  0\n",
      "p:  (1, 2)  phi:  0.943358\n",
      "p:  (0, 1, 2)  phi:  0.471679\n",
      "m:  (0, 1, 2)\n",
      "p:  (0,)  phi:  0\n",
      "p:  (1,)  phi:  0\n",
      "p:  (2,)  phi:  0\n",
      "p:  (0, 1)  phi:  0\n",
      "p:  (0, 2)  phi:  0\n",
      "p:  (1, 2)  phi:  0\n",
      "p:  (0, 1, 2)  phi:  3.0\n"
     ]
    }
   ],
   "source": [
    "result_effect = compute_ces(rho, qgate, direction = 'effect')"
   ]
  },
  {
   "cell_type": "code",
   "execution_count": 38,
   "metadata": {},
   "outputs": [
    {
     "name": "stdout",
     "output_type": "stream",
     "text": [
      "mechanism:  (0,) ; purview:  (0,) ; phi =  0.276692\n",
      "mip: \n",
      " 0     ∅ \n",
      "─── ✕ ───\n",
      " ∅     0 \n",
      "[Quantum object: dims = [[2], [1]], shape = (2, 1), type = ket\n",
      "Qobj data =\n",
      "[[1.]\n",
      " [0.]]]\n",
      "\n",
      "mechanism:  (1,) ; purview:  (1,) ; phi =  0.276692\n",
      "mip: \n",
      " 1     ∅ \n",
      "─── ✕ ───\n",
      " ∅     1 \n",
      "[Quantum object: dims = [[2], [1]], shape = (2, 1), type = ket\n",
      "Qobj data =\n",
      "[[1.]\n",
      " [0.]]]\n",
      "\n",
      "mechanism:  (2,) ; purview:  (2,) ; phi =  0.276692\n",
      "mip: \n",
      " 2     ∅ \n",
      "─── ✕ ───\n",
      " ∅     2 \n",
      "[Quantum object: dims = [[2], [1]], shape = (2, 1), type = ket\n",
      "Qobj data =\n",
      "[[1.]\n",
      " [0.]]]\n",
      "\n",
      "mechanism:  (0, 1) ; purview:  (0, 1) ; phi =  0.943358\n",
      "mip: \n",
      "0,1    ∅ \n",
      "─── ✕ ───\n",
      " ∅    0,1\n",
      "[Quantum object: dims = [[4], [1]], shape = (4, 1), type = ket\n",
      "Qobj data =\n",
      "[[0.        ]\n",
      " [0.70710678]\n",
      " [0.70710678]\n",
      " [0.        ]]]\n",
      "\n",
      "mechanism:  (0, 2) ; purview:  (0, 2) ; phi =  0.943358\n",
      "mip: \n",
      "0,2    ∅ \n",
      "─── ✕ ───\n",
      " ∅    0,2\n",
      "[Quantum object: dims = [[4], [1]], shape = (4, 1), type = ket\n",
      "Qobj data =\n",
      "[[0.        ]\n",
      " [0.70710678]\n",
      " [0.70710678]\n",
      " [0.        ]]]\n",
      "\n",
      "mechanism:  (1, 2) ; purview:  (1, 2) ; phi =  0.943358\n",
      "mip: \n",
      "1,2    ∅ \n",
      "─── ✕ ───\n",
      " ∅    1,2\n",
      "[Quantum object: dims = [[4], [1]], shape = (4, 1), type = ket\n",
      "Qobj data =\n",
      "[[0.        ]\n",
      " [0.70710678]\n",
      " [0.70710678]\n",
      " [0.        ]]]\n",
      "\n",
      "mechanism:  (0, 1, 2) ; purview:  (0, 1, 2) ; phi =  3.0\n",
      "mip: \n",
      "0,1,2     ∅  \n",
      "───── ✕ ─────\n",
      "  ∅     0,1,2\n",
      "[Quantum object: dims = [[8], [1]], shape = (8, 1), type = ket\n",
      "Qobj data =\n",
      "[[0.        ]\n",
      " [0.57735027]\n",
      " [0.57735027]\n",
      " [0.        ]\n",
      " [0.57735027]\n",
      " [0.        ]\n",
      " [0.        ]\n",
      " [0.        ]]]\n",
      "\n"
     ]
    }
   ],
   "source": [
    "print_QIIT_results(result_effect)"
   ]
  },
  {
   "cell_type": "code",
   "execution_count": null,
   "metadata": {},
   "outputs": [],
   "source": []
  }
 ],
 "metadata": {
  "kernelspec": {
   "display_name": "Python 3.10.0 ('QIIT')",
   "language": "python",
   "name": "python3"
  },
  "language_info": {
   "codemirror_mode": {
    "name": "ipython",
    "version": 3
   },
   "file_extension": ".py",
   "mimetype": "text/x-python",
   "name": "python",
   "nbconvert_exporter": "python",
   "pygments_lexer": "ipython3",
   "version": "3.10.0"
  },
  "orig_nbformat": 4,
  "vscode": {
   "interpreter": {
    "hash": "4c4a278a58aec68f075f5ce1cd720a6b8f803cb486a9b93e36cd389c4e23f87b"
   }
  }
 },
 "nbformat": 4,
 "nbformat_minor": 2
}
