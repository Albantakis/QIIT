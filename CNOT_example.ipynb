{
 "cells": [
  {
   "cell_type": "code",
   "execution_count": 75,
   "metadata": {},
   "outputs": [],
   "source": [
    "import numpy as np\n",
    "import pyphi\n",
    "\n",
    "from qutip import *\n",
    "from qutip_qip.operations import *\n",
    "from intrinsic_difference import intrinsic_difference\n",
    "from utils import *\n",
    "from compute_ces import *"
   ]
  },
  {
   "cell_type": "code",
   "execution_count": 76,
   "metadata": {},
   "outputs": [
    {
     "name": "stdout",
     "output_type": "stream",
     "text": [
      "The autoreload extension is already loaded. To reload it, use:\n",
      "  %reload_ext autoreload\n"
     ]
    }
   ],
   "source": [
    "%load_ext autoreload\n",
    "%autoreload 2"
   ]
  },
  {
   "cell_type": "markdown",
   "metadata": {},
   "source": [
    "# Define states and matrices"
   ]
  },
  {
   "cell_type": "code",
   "execution_count": 2,
   "metadata": {},
   "outputs": [],
   "source": [
    "# Basis states (for both classical and quantum)\n",
    "zero = basis(2,0)\n",
    "one = basis(2,1)\n",
    "\n",
    "# Normalized fully general quantum state\n",
    "plus = (zero + one).unit()\n",
    "minus = (zero - one).unit()\n",
    "\n",
    "# Density matrix representations of the states\n",
    "rho_zero = zero * zero.dag() # could also be fock_dm(2,0)\n",
    "rho_one = one * one.dag()\n",
    "rho_plus = plus * plus.dag()\n",
    "rho_minus = minus * minus.dag()\n",
    "rho_mm = 0.5 * rho_zero + 0.5 * rho_one"
   ]
  },
  {
   "cell_type": "code",
   "execution_count": 3,
   "metadata": {},
   "outputs": [
    {
     "name": "stdout",
     "output_type": "stream",
     "text": [
      "ID |0> :  (1.0, [array([-1.+0.j, -0.+0.j])])\n",
      "ID |+> :  (1.0, [array([0.70710678+0.j, 0.70710678+0.j])])\n"
     ]
    }
   ],
   "source": [
    "print('ID |0> : ', intrinsic_difference(rho_zero, rho_mm))\n",
    "print('ID |+> : ', intrinsic_difference(rho_plus, rho_mm))"
   ]
  },
  {
   "cell_type": "markdown",
   "metadata": {},
   "source": [
    "# 2 Qubits - CNOT"
   ]
  },
  {
   "cell_type": "code",
   "execution_count": 4,
   "metadata": {},
   "outputs": [
    {
     "data": {
      "text/latex": [
       "Quantum object: dims = [[2, 2], [2, 2]], shape = (4, 4), type = oper, isherm = True\\begin{equation*}\\left(\\begin{array}{*{11}c}1.0 & 0.0 & 0.0 & 0.0\\\\0.0 & 1.0 & 0.0 & 0.0\\\\0.0 & 0.0 & 0.0 & 1.0\\\\0.0 & 0.0 & 1.0 & 0.0\\\\\\end{array}\\right)\\end{equation*}"
      ],
      "text/plain": [
       "Quantum object: dims = [[2, 2], [2, 2]], shape = (4, 4), type = oper, isherm = True\n",
       "Qobj data =\n",
       "[[1. 0. 0. 0.]\n",
       " [0. 1. 0. 0.]\n",
       " [0. 0. 0. 1.]\n",
       " [0. 0. 1. 0.]]"
      ]
     },
     "execution_count": 4,
     "metadata": {},
     "output_type": "execute_result"
    }
   ],
   "source": [
    "cnot()"
   ]
  },
  {
   "cell_type": "markdown",
   "metadata": {},
   "source": [
    "## Classical results"
   ]
  },
  {
   "cell_type": "code",
   "execution_count": 77,
   "metadata": {},
   "outputs": [],
   "source": [
    "pyphi.config.MEASURE = 'ID'\n",
    "pyphi.config.PARTITION_TYPE = 'ALL'\n",
    "pyphi.config.PICK_SMALLEST_PURVIEW = False"
   ]
  },
  {
   "cell_type": "code",
   "execution_count": 78,
   "metadata": {},
   "outputs": [
    {
     "name": "stdout",
     "output_type": "stream",
     "text": [
      "{ 'ACTUAL_CAUSATION_MEASURE': 'PMI',\n",
      "  'ASSUME_CUTS_CANNOT_CREATE_NEW_CONCEPTS': False,\n",
      "  'CACHE_POTENTIAL_PURVIEWS': True,\n",
      "  'CACHE_REPERTOIRES': True,\n",
      "  'CACHE_SIAS': False,\n",
      "  'CACHING_BACKEND': 'fs',\n",
      "  'CLEAR_SUBSYSTEM_CACHES_AFTER_COMPUTING_SIA': False,\n",
      "  'CUT_ONE_APPROXIMATION': False,\n",
      "  'FS_CACHE_DIRECTORY': '__pyphi_cache__',\n",
      "  'FS_CACHE_VERBOSITY': 0,\n",
      "  'LOG_FILE': 'pyphi.log',\n",
      "  'LOG_FILE_LEVEL': 'INFO',\n",
      "  'LOG_STDOUT_LEVEL': 'WARNING',\n",
      "  'MAXIMUM_CACHE_MEMORY_PERCENTAGE': 50,\n",
      "  'MEASURE': 'ID',\n",
      "  'MONGODB_CONFIG': { 'collection_name': 'cache',\n",
      "                      'database_name': 'pyphi',\n",
      "                      'host': 'localhost',\n",
      "                      'port': 27017},\n",
      "  'NUMBER_OF_CORES': -1,\n",
      "  'PARALLEL_COMPLEX_EVALUATION': False,\n",
      "  'PARALLEL_CONCEPT_EVALUATION': False,\n",
      "  'PARALLEL_CUT_EVALUATION': True,\n",
      "  'PARTITION_TYPE': 'ALL',\n",
      "  'PICK_SMALLEST_PURVIEW': False,\n",
      "  'PRECISION': 6,\n",
      "  'PRINT_FRACTIONS': True,\n",
      "  'PROGRESS_BARS': True,\n",
      "  'REDIS_CACHE': False,\n",
      "  'REDIS_CONFIG': {'db': 0, 'host': 'localhost', 'port': 6379, 'test_db': 1},\n",
      "  'REPR_VERBOSITY': 2,\n",
      "  'SINGLE_MICRO_NODES_WITH_SELFLOOPS_HAVE_PHI': False,\n",
      "  'SYSTEM_CUTS': '3.0_STYLE',\n",
      "  'USE_SMALL_PHI_DIFFERENCE_FOR_CES_DISTANCE': False,\n",
      "  'VALIDATE_CONDITIONAL_INDEPENDENCE': True,\n",
      "  'VALIDATE_SUBSYSTEM_STATES': True,\n",
      "  'WELCOME_OFF': False}\n"
     ]
    }
   ],
   "source": [
    "print(pyphi.config)"
   ]
  },
  {
   "cell_type": "code",
   "execution_count": 7,
   "metadata": {},
   "outputs": [],
   "source": [
    "CNOT_tpm = cnot().data.toarray()\n",
    "#CNOT_tpm = pyphi.convert.le2be_state_by_state(CNOT_tpm.real)"
   ]
  },
  {
   "cell_type": "code",
   "execution_count": 8,
   "metadata": {},
   "outputs": [
    {
     "data": {
      "text/plain": [
       "array([[1., 0., 0., 0.],\n",
       "       [0., 1., 0., 0.],\n",
       "       [0., 0., 0., 1.],\n",
       "       [0., 0., 1., 0.]])"
      ]
     },
     "execution_count": 8,
     "metadata": {},
     "output_type": "execute_result"
    }
   ],
   "source": [
    "CNOT_tpm.real"
   ]
  },
  {
   "cell_type": "code",
   "execution_count": 9,
   "metadata": {},
   "outputs": [],
   "source": [
    "CNOT_tpm = pyphi.convert.be2le_state_by_state(CNOT_tpm.real)"
   ]
  },
  {
   "cell_type": "code",
   "execution_count": 10,
   "metadata": {},
   "outputs": [],
   "source": [
    "CNOT_tpm = pyphi.convert.to_2dimensional(pyphi.convert.state_by_state2state_by_node(CNOT_tpm.real))"
   ]
  },
  {
   "cell_type": "code",
   "execution_count": 11,
   "metadata": {},
   "outputs": [],
   "source": [
    "network = pyphi.Network(CNOT_tpm)\n",
    "subsystem = pyphi.Subsystem(network, (1,0))"
   ]
  },
  {
   "cell_type": "code",
   "execution_count": 12,
   "metadata": {},
   "outputs": [
    {
     "name": "stderr",
     "output_type": "stream",
     "text": []
    }
   ],
   "source": [
    "ces = pyphi.compute.ces(subsystem)"
   ]
  },
  {
   "cell_type": "code",
   "execution_count": 13,
   "metadata": {},
   "outputs": [
    {
     "data": {
      "text/plain": [
       "════════════════════════════════════════════════════════════\n",
       "            Cause-effect structure (2 concepts)             \n",
       "════════════════════════════════════════════════════════════\n",
       "  ━━━━━━━━━━━━━━━━━━━━━━━━━━━━━━━━━━━━━━━━━━━━━━━━━━━━━━━━  \n",
       "              Concept: Mechanism = [n0], φ = 1              \n",
       "  ━━━━━━━━━━━━━━━━━━━━━━━━━━━━━━━━━━━━━━━━━━━━━━━━━━━━━━━━  \n",
       "              MIC                         MIE               \n",
       "  ┌──────────────────────────┐┌──────────────────────────┐  \n",
       "  │  φ = 1                   ││  φ = 1                   │  \n",
       "  │  Purview = [n0]          ││  Purview = [n0]          │  \n",
       "  │  MIP:                    ││  MIP:                    │  \n",
       "  │    n0     ∅              ││    n0     ∅              │  \n",
       "  │    ─── ✕ ───             ││    ─── ✕ ───             │  \n",
       "  │     ∅    n0              ││     ∅    n0              │  \n",
       "  │  Repertoire:             ││  Repertoire:             │  \n",
       "  │    ┌─────────────┐       ││    ┌─────────────┐       │  \n",
       "  │    │ S    Pr(S)  │       ││    │ S    Pr(S)  │       │  \n",
       "  │    │ ╴╴╴╴╴╴╴╴╴╴╴ │       ││    │ ╴╴╴╴╴╴╴╴╴╴╴ │       │  \n",
       "  │    │ 0    0      │       ││    │ 0    0      │       │  \n",
       "  │    │ 1    1      │       ││    │ 1    1      │       │  \n",
       "  │    └─────────────┘       ││    └─────────────┘       │  \n",
       "  │  Partitioned repertoire: ││  Partitioned repertoire: │  \n",
       "  │    ┌─────────────┐       ││    ┌─────────────┐       │  \n",
       "  │    │ S    Pr(S)  │       ││    │ S    Pr(S)  │       │  \n",
       "  │    │ ╴╴╴╴╴╴╴╴╴╴╴ │       ││    │ ╴╴╴╴╴╴╴╴╴╴╴ │       │  \n",
       "  │    │ 0    1/2    │       ││    │ 0    1/2    │       │  \n",
       "  │    │ 1    1/2    │       ││    │ 1    1/2    │       │  \n",
       "  │    └─────────────┘       ││    └─────────────┘       │  \n",
       "  └──────────────────────────┘└──────────────────────────┘  \n",
       "    \n",
       "  ━━━━━━━━━━━━━━━━━━━━━━━━━━━━━━━━━━━━━━━━━━━━━━━━━━━━━━━━  \n",
       "            Concept: Mechanism = [n0, n1], φ = 1            \n",
       "  ━━━━━━━━━━━━━━━━━━━━━━━━━━━━━━━━━━━━━━━━━━━━━━━━━━━━━━━━  \n",
       "              MIC                         MIE               \n",
       "  ┌──────────────────────────┐┌──────────────────────────┐  \n",
       "  │  φ = 1                   ││  φ = 1                   │  \n",
       "  │  Purview = [n0, n1]      ││  Purview = [n0, n1]      │  \n",
       "  │  MIP:                    ││  MIP:                    │  \n",
       "  │     n0     n1     ∅      ││     n0     n1     ∅      │  \n",
       "  │    ───── ✕ ─── ✕ ───     ││    ───── ✕ ─── ✕ ───     │  \n",
       "  │    n0,n1    ∅     ∅      ││    n0,n1    ∅     ∅      │  \n",
       "  │  Repertoire:             ││  Repertoire:             │  \n",
       "  │    ┌──────────────┐      ││    ┌──────────────┐      │  \n",
       "  │    │ S     Pr(S)  │      ││    │ S     Pr(S)  │      │  \n",
       "  │    │ ╴╴╴╴╴╴╴╴╴╴╴╴ │      ││    │ ╴╴╴╴╴╴╴╴╴╴╴╴ │      │  \n",
       "  │    │ 00    0      │      ││    │ 00    0      │      │  \n",
       "  │    │ 10    0      │      ││    │ 10    0      │      │  \n",
       "  │    │ 01    0      │      ││    │ 01    0      │      │  \n",
       "  │    │ 11    1      │      ││    │ 11    1      │      │  \n",
       "  │    └──────────────┘      ││    └──────────────┘      │  \n",
       "  │  Partitioned repertoire: ││  Partitioned repertoire: │  \n",
       "  │    ┌──────────────┐      ││    ┌──────────────┐      │  \n",
       "  │    │ S     Pr(S)  │      ││    │ S     Pr(S)  │      │  \n",
       "  │    │ ╴╴╴╴╴╴╴╴╴╴╴╴ │      ││    │ ╴╴╴╴╴╴╴╴╴╴╴╴ │      │  \n",
       "  │    │ 00    0      │      ││    │ 00    0      │      │  \n",
       "  │    │ 10    1/2    │      ││    │ 10    1/2    │      │  \n",
       "  │    │ 01    0      │      ││    │ 01    0      │      │  \n",
       "  │    │ 11    1/2    │      ││    │ 11    1/2    │      │  \n",
       "  │    └──────────────┘      ││    └──────────────┘      │  \n",
       "  └──────────────────────────┘└──────────────────────────┘  \n",
       "    "
      ]
     },
     "execution_count": 13,
     "metadata": {},
     "output_type": "execute_result"
    }
   ],
   "source": [
    "ces"
   ]
  },
  {
   "cell_type": "markdown",
   "metadata": {},
   "source": [
    "## Quantum results"
   ]
  },
  {
   "cell_type": "code",
   "execution_count": 79,
   "metadata": {},
   "outputs": [],
   "source": [
    "rho = tensor(rho_one, rho_zero)"
   ]
  },
  {
   "cell_type": "code",
   "execution_count": 80,
   "metadata": {},
   "outputs": [
    {
     "data": {
      "text/latex": [
       "Quantum object: dims = [[2, 2], [2, 2]], shape = (4, 4), type = oper, isherm = True\\begin{equation*}\\left(\\begin{array}{*{11}c}0.0 & 0.0 & 0.0 & 0.0\\\\0.0 & 0.0 & 0.0 & 0.0\\\\0.0 & 0.0 & 1.0 & 0.0\\\\0.0 & 0.0 & 0.0 & 0.0\\\\\\end{array}\\right)\\end{equation*}"
      ],
      "text/plain": [
       "Quantum object: dims = [[2, 2], [2, 2]], shape = (4, 4), type = oper, isherm = True\n",
       "Qobj data =\n",
       "[[0. 0. 0. 0.]\n",
       " [0. 0. 0. 0.]\n",
       " [0. 0. 1. 0.]\n",
       " [0. 0. 0. 0.]]"
      ]
     },
     "execution_count": 80,
     "metadata": {},
     "output_type": "execute_result"
    }
   ],
   "source": [
    "rho"
   ]
  },
  {
   "cell_type": "code",
   "execution_count": 81,
   "metadata": {},
   "outputs": [
    {
     "data": {
      "text/plain": [
       "2"
      ]
     },
     "execution_count": 81,
     "metadata": {},
     "output_type": "execute_result"
    }
   ],
   "source": [
    "len(rho.dims[0])"
   ]
  },
  {
   "cell_type": "code",
   "execution_count": 82,
   "metadata": {},
   "outputs": [],
   "source": [
    "rho_e10 = evolve(tensor(rho_one, rho_zero), cnot(), direction = 'effect')"
   ]
  },
  {
   "cell_type": "code",
   "execution_count": 83,
   "metadata": {},
   "outputs": [
    {
     "data": {
      "text/latex": [
       "Quantum object: dims = [[2, 2], [2, 2]], shape = (4, 4), type = oper, isherm = True\\begin{equation*}\\left(\\begin{array}{*{11}c}0.0 & 0.0 & 0.0 & 0.0\\\\0.0 & 0.0 & 0.0 & 0.0\\\\0.0 & 0.0 & 0.0 & 0.0\\\\0.0 & 0.0 & 0.0 & 1.0\\\\\\end{array}\\right)\\end{equation*}"
      ],
      "text/plain": [
       "Quantum object: dims = [[2, 2], [2, 2]], shape = (4, 4), type = oper, isherm = True\n",
       "Qobj data =\n",
       "[[0. 0. 0. 0.]\n",
       " [0. 0. 0. 0.]\n",
       " [0. 0. 0. 0.]\n",
       " [0. 0. 0. 1.]]"
      ]
     },
     "execution_count": 83,
     "metadata": {},
     "output_type": "execute_result"
    }
   ],
   "source": [
    "rho_e10"
   ]
  },
  {
   "cell_type": "code",
   "execution_count": 84,
   "metadata": {},
   "outputs": [],
   "source": [
    "partitions = pyphi.partition.mip_partitions((0,1), (0,1))"
   ]
  },
  {
   "cell_type": "code",
   "execution_count": 39,
   "metadata": {},
   "outputs": [
    {
     "data": {
      "text/plain": [
       "True"
      ]
     },
     "execution_count": 39,
     "metadata": {},
     "output_type": "execute_result"
    }
   ],
   "source": [
    "partitions[1][0].mechanism == (0,)"
   ]
  },
  {
   "cell_type": "code",
   "execution_count": 35,
   "metadata": {},
   "outputs": [
    {
     "data": {
      "text/latex": [
       "Quantum object: dims = [[2, 2], [2, 2]], shape = (4, 4), type = oper, isherm = True\\begin{equation*}\\left(\\begin{array}{*{11}c}0.500 & 0.0 & 0.0 & 0.0\\\\0.0 & 0.500 & 0.0 & 0.0\\\\0.0 & 0.0 & 0.0 & 0.0\\\\0.0 & 0.0 & 0.0 & 0.0\\\\\\end{array}\\right)\\end{equation*}"
      ],
      "text/plain": [
       "Quantum object: dims = [[2, 2], [2, 2]], shape = (4, 4), type = oper, isherm = True\n",
       "Qobj data =\n",
       "[[0.5 0.  0.  0. ]\n",
       " [0.  0.5 0.  0. ]\n",
       " [0.  0.  0.  0. ]\n",
       " [0.  0.  0.  0. ]]"
      ]
     },
     "execution_count": 35,
     "metadata": {},
     "output_type": "execute_result"
    }
   ],
   "source": [
    "tensor(rho.ptrace(list((1,))), rho_mm)"
   ]
  },
  {
   "cell_type": "code",
   "execution_count": 28,
   "metadata": {},
   "outputs": [],
   "source": [
    "partitions = [p for p in partitions]"
   ]
  },
  {
   "cell_type": "code",
   "execution_count": 20,
   "metadata": {},
   "outputs": [
    {
     "name": "stdout",
     "output_type": "stream",
     "text": [
      "(0,)\n",
      "(1,)\n",
      "(0, 1)\n"
     ]
    },
    {
     "data": {
      "text/plain": [
       "[None, None, None]"
      ]
     },
     "execution_count": 20,
     "metadata": {},
     "output_type": "execute_result"
    }
   ],
   "source": [
    "[print(p) for p in pyphi.utils.powerset(range(2), nonempty=True)]"
   ]
  },
  {
   "cell_type": "code",
   "execution_count": 99,
   "metadata": {},
   "outputs": [
    {
     "name": "stdout",
     "output_type": "stream",
     "text": [
      "m:  (0,)\n"
     ]
    },
    {
     "ename": "TypeError",
     "evalue": "'int' object is not iterable",
     "output_type": "error",
     "traceback": [
      "\u001b[0;31m---------------------------------------------------------------------------\u001b[0m",
      "\u001b[0;31mTypeError\u001b[0m                                 Traceback (most recent call last)",
      "\u001b[0;32m/var/folders/9l/69_v8f093ln95mhy_kvjbkr80000gp/T/ipykernel_32392/3700951974.py\u001b[0m in \u001b[0;36m<module>\u001b[0;34m\u001b[0m\n\u001b[0;32m----> 1\u001b[0;31m \u001b[0mresult\u001b[0m \u001b[0;34m=\u001b[0m \u001b[0mcompute_ces\u001b[0m\u001b[0;34m(\u001b[0m\u001b[0mrho\u001b[0m\u001b[0;34m,\u001b[0m \u001b[0mcnot\u001b[0m\u001b[0;34m(\u001b[0m\u001b[0;34m)\u001b[0m\u001b[0;34m)\u001b[0m\u001b[0;34m\u001b[0m\u001b[0;34m\u001b[0m\u001b[0m\n\u001b[0m",
      "\u001b[0;32m~/pydev/QIIT/compute_ces.py\u001b[0m in \u001b[0;36mcompute_ces\u001b[0;34m(rho_maxm, oper, direction, ent_partition)\u001b[0m\n\u001b[1;32m    150\u001b[0m     \u001b[0;32mfor\u001b[0m \u001b[0mmechanism\u001b[0m \u001b[0;32min\u001b[0m \u001b[0mmechanisms\u001b[0m\u001b[0;34m:\u001b[0m\u001b[0;34m\u001b[0m\u001b[0;34m\u001b[0m\u001b[0m\n\u001b[1;32m    151\u001b[0m         \u001b[0mprint\u001b[0m\u001b[0;34m(\u001b[0m\u001b[0;34m'm: '\u001b[0m\u001b[0;34m,\u001b[0m \u001b[0mmechanism\u001b[0m\u001b[0;34m)\u001b[0m\u001b[0;34m\u001b[0m\u001b[0;34m\u001b[0m\u001b[0m\n\u001b[0;32m--> 152\u001b[0;31m         \u001b[0mm_rho\u001b[0m \u001b[0;34m=\u001b[0m \u001b[0mrho_maxm\u001b[0m\u001b[0;34m.\u001b[0m\u001b[0mptrace\u001b[0m\u001b[0;34m(\u001b[0m\u001b[0mlist\u001b[0m\u001b[0;34m(\u001b[0m\u001b[0mmechanism\u001b[0m\u001b[0;34m)\u001b[0m\u001b[0;34m)\u001b[0m\u001b[0;34m\u001b[0m\u001b[0;34m\u001b[0m\u001b[0m\n\u001b[0m\u001b[1;32m    153\u001b[0m         \u001b[0mrho_m\u001b[0m\u001b[0;34m,\u001b[0m \u001b[0mrho_maxp\u001b[0m \u001b[0;34m=\u001b[0m \u001b[0mevolve_mpart_2qubit\u001b[0m\u001b[0;34m(\u001b[0m\u001b[0mm_rho\u001b[0m\u001b[0;34m,\u001b[0m \u001b[0mmechanism\u001b[0m\u001b[0;34m,\u001b[0m \u001b[0moper\u001b[0m\u001b[0;34m,\u001b[0m \u001b[0mdirection\u001b[0m\u001b[0;34m,\u001b[0m \u001b[0ment_partition\u001b[0m\u001b[0;34m)\u001b[0m\u001b[0;34m\u001b[0m\u001b[0;34m\u001b[0m\u001b[0m\n\u001b[1;32m    154\u001b[0m         \u001b[0mphi_max\u001b[0m\u001b[0;34m,\u001b[0m \u001b[0mmax_mip\u001b[0m\u001b[0;34m,\u001b[0m \u001b[0mmax_state\u001b[0m\u001b[0;34m,\u001b[0m \u001b[0mmax_purview\u001b[0m \u001b[0;34m=\u001b[0m \u001b[0mfind_mice\u001b[0m\u001b[0;34m(\u001b[0m\u001b[0mrho_m\u001b[0m\u001b[0;34m,\u001b[0m \u001b[0mmechanism\u001b[0m\u001b[0;34m,\u001b[0m \u001b[0mrho_maxp\u001b[0m\u001b[0;34m,\u001b[0m \u001b[0moper\u001b[0m\u001b[0;34m,\u001b[0m \u001b[0mdirection\u001b[0m\u001b[0;34m)\u001b[0m\u001b[0;34m\u001b[0m\u001b[0;34m\u001b[0m\u001b[0m\n",
      "\u001b[0;32m~/pydev/QIIT/compute_ces.py\u001b[0m in \u001b[0;36mevolve_mpart_2qubit\u001b[0;34m(m_rho, ind_m, oper, direction, ent_partition)\u001b[0m\n\u001b[1;32m     33\u001b[0m     \u001b[0mp_rho\u001b[0m \u001b[0;34m=\u001b[0m \u001b[0mevolve\u001b[0m\u001b[0;34m(\u001b[0m\u001b[0mm_rho\u001b[0m\u001b[0;34m,\u001b[0m \u001b[0moper\u001b[0m\u001b[0;34m,\u001b[0m \u001b[0mdirection\u001b[0m\u001b[0;34m)\u001b[0m\u001b[0;34m\u001b[0m\u001b[0;34m\u001b[0m\u001b[0m\n\u001b[1;32m     34\u001b[0m \u001b[0;34m\u001b[0m\u001b[0m\n\u001b[0;32m---> 35\u001b[0;31m     \u001b[0;32mif\u001b[0m \u001b[0ment_partition\u001b[0m\u001b[0;34m:\u001b[0m\u001b[0;34m\u001b[0m\u001b[0;34m\u001b[0m\u001b[0m\n\u001b[0m\u001b[1;32m     36\u001b[0m         \u001b[0mp_rho\u001b[0m \u001b[0;34m=\u001b[0m \u001b[0mdecorrelate_rho_p\u001b[0m\u001b[0;34m(\u001b[0m\u001b[0mp_rho\u001b[0m\u001b[0;34m,\u001b[0m \u001b[0ment_partition\u001b[0m\u001b[0;34m)\u001b[0m\u001b[0;34m\u001b[0m\u001b[0;34m\u001b[0m\u001b[0m\n\u001b[1;32m     37\u001b[0m \u001b[0;34m\u001b[0m\u001b[0m\n",
      "\u001b[0;32m~/pydev/QIIT/compute_ces.py\u001b[0m in \u001b[0;36mdecorrelate_rho_p\u001b[0;34m(rho_p, ent_partition)\u001b[0m\n\u001b[1;32m     16\u001b[0m     \u001b[0;31m# the product distribution\u001b[0m\u001b[0;34m\u001b[0m\u001b[0;34m\u001b[0m\u001b[0;34m\u001b[0m\u001b[0m\n\u001b[1;32m     17\u001b[0m     \u001b[0mp_rho_parts\u001b[0m \u001b[0;34m=\u001b[0m \u001b[0;34m[\u001b[0m\u001b[0;34m]\u001b[0m\u001b[0;34m\u001b[0m\u001b[0;34m\u001b[0m\u001b[0m\n\u001b[0;32m---> 18\u001b[0;31m     \u001b[0;32mfor\u001b[0m \u001b[0mpart\u001b[0m \u001b[0;32min\u001b[0m \u001b[0ment_partition\u001b[0m\u001b[0;34m:\u001b[0m\u001b[0;34m\u001b[0m\u001b[0;34m\u001b[0m\u001b[0m\n\u001b[0m\u001b[1;32m     19\u001b[0m         \u001b[0mp_rho\u001b[0m \u001b[0;34m=\u001b[0m \u001b[0mrho_p\u001b[0m\u001b[0;34m.\u001b[0m\u001b[0mptrace\u001b[0m\u001b[0;34m(\u001b[0m\u001b[0mlist\u001b[0m\u001b[0;34m(\u001b[0m\u001b[0mpart\u001b[0m\u001b[0;34m)\u001b[0m\u001b[0;34m)\u001b[0m\u001b[0;34m\u001b[0m\u001b[0;34m\u001b[0m\u001b[0m\n\u001b[1;32m     20\u001b[0m         \u001b[0mp_rho_parts\u001b[0m\u001b[0;34m.\u001b[0m\u001b[0mappend\u001b[0m\u001b[0;34m(\u001b[0m\u001b[0mp_rho\u001b[0m\u001b[0;34m)\u001b[0m\u001b[0;34m\u001b[0m\u001b[0;34m\u001b[0m\u001b[0m\n",
      "\u001b[0;31mTypeError\u001b[0m: 'int' object is not iterable"
     ]
    }
   ],
   "source": [
    "result = compute_ces(rho, cnot())"
   ]
  },
  {
   "cell_type": "code",
   "execution_count": 96,
   "metadata": {},
   "outputs": [
    {
     "data": {
      "text/plain": [
       "[{'mech': (0,),\n",
       "  'purview': (0,),\n",
       "  'phi': 1.0,\n",
       "  'mip':  0     ∅ \n",
       "  ─── ✕ ───\n",
       "   ∅     0 ,\n",
       "  'state': [array([0.+0.j, 1.+0.j])]},\n",
       " {'mech': (1,),\n",
       "  'purview': (0, 1),\n",
       "  'phi': 0.5,\n",
       "  'mip':  1     ∅ \n",
       "  ─── ✕ ───\n",
       "   ∅    0,1,\n",
       "  'state': [array([1.+0.j, 0.+0.j, 0.+0.j, 0.+0.j]),\n",
       "   array([0.+0.j, 0.+0.j, 0.+0.j, 1.+0.j])]},\n",
       " {'mech': (0, 1),\n",
       "  'purview': (0, 1),\n",
       "  'phi': 1.0,\n",
       "  'mip':  0     1     ∅ \n",
       "  ─── ✕ ─── ✕ ───\n",
       "  0,1    ∅     ∅ ,\n",
       "  'state': [array([0.+0.j, 0.+0.j, 0.+0.j, 1.+0.j])]}]"
      ]
     },
     "execution_count": 96,
     "metadata": {},
     "output_type": "execute_result"
    }
   ],
   "source": [
    "result"
   ]
  },
  {
   "cell_type": "code",
   "execution_count": null,
   "metadata": {},
   "outputs": [],
   "source": []
  },
  {
   "cell_type": "code",
   "execution_count": 50,
   "metadata": {},
   "outputs": [
    {
     "data": {
      "text/plain": [
       "[(Quantum object: dims = [[2, 2], [2, 2]], shape = (4, 4), type = oper, isherm = True\n",
       "  Qobj data =\n",
       "  [[0.  0.  0.  0. ]\n",
       "   [0.  0.  0.  0. ]\n",
       "   [0.  0.  0.5 0. ]\n",
       "   [0.  0.  0.  0.5]],\n",
       "  (0, 1)),\n",
       " (Quantum object: dims = [[2, 2], [2, 2]], shape = (4, 4), type = oper, isherm = True\n",
       "  Qobj data =\n",
       "  [[0.5 0.  0.  0. ]\n",
       "   [0.  0.  0.  0. ]\n",
       "   [0.  0.  0.  0. ]\n",
       "   [0.  0.  0.  0.5]],\n",
       "  (0, 1)),\n",
       " (Quantum object: dims = [[2], [2]], shape = (2, 2), type = oper, isherm = True\n",
       "  Qobj data =\n",
       "  [[0. 0.]\n",
       "   [0. 1.]],\n",
       "  (0,)),\n",
       " (Quantum object: dims = [[2], [2]], shape = (2, 2), type = oper, isherm = True\n",
       "  Qobj data =\n",
       "  [[0.5 0. ]\n",
       "   [0.  0.5]],\n",
       "  (1,)),\n",
       " (Quantum object: dims = [[2], [2]], shape = (2, 2), type = oper, isherm = True\n",
       "  Qobj data =\n",
       "  [[0.5 0. ]\n",
       "   [0.  0.5]],\n",
       "  (1,)),\n",
       " (Quantum object: dims = [[2], [2]], shape = (2, 2), type = oper, isherm = True\n",
       "  Qobj data =\n",
       "  [[0.5 0. ]\n",
       "   [0.  0.5]],\n",
       "  (1,)),\n",
       " (Quantum object: dims = [[2], [2]], shape = (2, 2), type = oper, isherm = True\n",
       "  Qobj data =\n",
       "  [[0.5 0. ]\n",
       "   [0.  0.5]],\n",
       "  (1,)),\n",
       " (Quantum object: dims = [[2], [2]], shape = (2, 2), type = oper, isherm = True\n",
       "  Qobj data =\n",
       "  [[0.5 0. ]\n",
       "   [0.  0.5]],\n",
       "  (0,)),\n",
       " (Quantum object: dims = [[2], [2]], shape = (2, 2), type = oper, isherm = True\n",
       "  Qobj data =\n",
       "  [[0.5 0. ]\n",
       "   [0.  0.5]],\n",
       "  (0,)),\n",
       " (Quantum object: dims = [[2], [2]], shape = (2, 2), type = oper, isherm = True\n",
       "  Qobj data =\n",
       "  [[0. 0.]\n",
       "   [0. 1.]],\n",
       "  (0,))]"
      ]
     },
     "execution_count": 50,
     "metadata": {},
     "output_type": "execute_result"
    }
   ],
   "source": [
    "parts"
   ]
  },
  {
   "cell_type": "code",
   "execution_count": 52,
   "metadata": {},
   "outputs": [
    {
     "data": {
      "text/latex": [
       "Quantum object: dims = [[2, 2, 2, 2], [2, 2, 2, 2]], shape = (16, 16), type = oper, isherm = True\\begin{equation*}\\left(\\begin{array}{*{11}c}0.062 & 0.0 & 0.0 & 0.0 & 0.0 & \\cdots & 0.0 & 0.0 & 0.0 & 0.0 & 0.0\\\\0.0 & 0.062 & 0.0 & 0.0 & 0.0 & \\cdots & 0.0 & 0.0 & 0.0 & 0.0 & 0.0\\\\0.0 & 0.0 & 0.062 & 0.0 & 0.0 & \\cdots & 0.0 & 0.0 & 0.0 & 0.0 & 0.0\\\\0.0 & 0.0 & 0.0 & 0.062 & 0.0 & \\cdots & 0.0 & 0.0 & 0.0 & 0.0 & 0.0\\\\0.0 & 0.0 & 0.0 & 0.0 & 0.062 & \\cdots & 0.0 & 0.0 & 0.0 & 0.0 & 0.0\\\\\\vdots & \\vdots & \\vdots & \\vdots & \\vdots & \\ddots & \\vdots & \\vdots & \\vdots & \\vdots & \\vdots\\\\0.0 & 0.0 & 0.0 & 0.0 & 0.0 & \\cdots & 0.062 & 0.0 & 0.0 & 0.0 & 0.0\\\\0.0 & 0.0 & 0.0 & 0.0 & 0.0 & \\cdots & 0.0 & 0.062 & 0.0 & 0.0 & 0.0\\\\0.0 & 0.0 & 0.0 & 0.0 & 0.0 & \\cdots & 0.0 & 0.0 & 0.062 & 0.0 & 0.0\\\\0.0 & 0.0 & 0.0 & 0.0 & 0.0 & \\cdots & 0.0 & 0.0 & 0.0 & 0.062 & 0.0\\\\0.0 & 0.0 & 0.0 & 0.0 & 0.0 & \\cdots & 0.0 & 0.0 & 0.0 & 0.0 & 0.062\\\\\\end{array}\\right)\\end{equation*}"
      ],
      "text/plain": [
       "Quantum object: dims = [[2, 2, 2, 2], [2, 2, 2, 2]], shape = (16, 16), type = oper, isherm = True\n",
       "Qobj data =\n",
       "[[0.0625 0.     0.     0.     0.     0.     0.     0.     0.     0.\n",
       "  0.     0.     0.     0.     0.     0.    ]\n",
       " [0.     0.0625 0.     0.     0.     0.     0.     0.     0.     0.\n",
       "  0.     0.     0.     0.     0.     0.    ]\n",
       " [0.     0.     0.0625 0.     0.     0.     0.     0.     0.     0.\n",
       "  0.     0.     0.     0.     0.     0.    ]\n",
       " [0.     0.     0.     0.0625 0.     0.     0.     0.     0.     0.\n",
       "  0.     0.     0.     0.     0.     0.    ]\n",
       " [0.     0.     0.     0.     0.0625 0.     0.     0.     0.     0.\n",
       "  0.     0.     0.     0.     0.     0.    ]\n",
       " [0.     0.     0.     0.     0.     0.0625 0.     0.     0.     0.\n",
       "  0.     0.     0.     0.     0.     0.    ]\n",
       " [0.     0.     0.     0.     0.     0.     0.0625 0.     0.     0.\n",
       "  0.     0.     0.     0.     0.     0.    ]\n",
       " [0.     0.     0.     0.     0.     0.     0.     0.0625 0.     0.\n",
       "  0.     0.     0.     0.     0.     0.    ]\n",
       " [0.     0.     0.     0.     0.     0.     0.     0.     0.0625 0.\n",
       "  0.     0.     0.     0.     0.     0.    ]\n",
       " [0.     0.     0.     0.     0.     0.     0.     0.     0.     0.0625\n",
       "  0.     0.     0.     0.     0.     0.    ]\n",
       " [0.     0.     0.     0.     0.     0.     0.     0.     0.     0.\n",
       "  0.0625 0.     0.     0.     0.     0.    ]\n",
       " [0.     0.     0.     0.     0.     0.     0.     0.     0.     0.\n",
       "  0.     0.0625 0.     0.     0.     0.    ]\n",
       " [0.     0.     0.     0.     0.     0.     0.     0.     0.     0.\n",
       "  0.     0.     0.0625 0.     0.     0.    ]\n",
       " [0.     0.     0.     0.     0.     0.     0.     0.     0.     0.\n",
       "  0.     0.     0.     0.0625 0.     0.    ]\n",
       " [0.     0.     0.     0.     0.     0.     0.     0.     0.     0.\n",
       "  0.     0.     0.     0.     0.0625 0.    ]\n",
       " [0.     0.     0.     0.     0.     0.     0.     0.     0.     0.\n",
       "  0.     0.     0.     0.     0.     0.0625]]"
      ]
     },
     "execution_count": 52,
     "metadata": {},
     "output_type": "execute_result"
    }
   ],
   "source": [
    "tensor([rho_mm for i in range(4)])"
   ]
  },
  {
   "cell_type": "code",
   "execution_count": null,
   "metadata": {},
   "outputs": [],
   "source": [
    "parts[2]"
   ]
  },
  {
   "cell_type": "code",
   "execution_count": null,
   "metadata": {},
   "outputs": [],
   "source": [
    "toffoli()"
   ]
  },
  {
   "cell_type": "code",
   "execution_count": null,
   "metadata": {},
   "outputs": [],
   "source": [
    "A = [p for p in pyphi.partition.mip_partitions([0,1], [2,3])]"
   ]
  },
  {
   "cell_type": "code",
   "execution_count": null,
   "metadata": {},
   "outputs": [],
   "source": [
    "A[0][0].purview"
   ]
  },
  {
   "cell_type": "code",
   "execution_count": null,
   "metadata": {},
   "outputs": [],
   "source": [
    "A[2]"
   ]
  },
  {
   "cell_type": "code",
   "execution_count": null,
   "metadata": {},
   "outputs": [],
   "source": [
    "for part in A[2]:\n",
    "    if len(part.mechanism) < 1:\n",
    "        # purview is max ent\n",
    "        rho_p = tensor([rho_mm for p in part.purview])"
   ]
  },
  {
   "cell_type": "code",
   "execution_count": null,
   "metadata": {},
   "outputs": [],
   "source": [
    "tensor(rho_one, rho_p).data.toarray().real.reshape(2,2,2)"
   ]
  },
  {
   "cell_type": "code",
   "execution_count": null,
   "metadata": {},
   "outputs": [],
   "source": [
    "Q = Qobj(rho_p.data.toarray(), dims = [[2,1,2], [2,1,2]])"
   ]
  },
  {
   "cell_type": "code",
   "execution_count": null,
   "metadata": {},
   "outputs": [],
   "source": [
    "rho_p.data.toarray().reshape(())"
   ]
  },
  {
   "cell_type": "code",
   "execution_count": null,
   "metadata": {},
   "outputs": [],
   "source": [
    "len(A[0][0].mechanism)"
   ]
  },
  {
   "cell_type": "code",
   "execution_count": null,
   "metadata": {},
   "outputs": [],
   "source": [
    "Qobj([[0.5, 0.],[0., 0.5]])"
   ]
  },
  {
   "cell_type": "code",
   "execution_count": null,
   "metadata": {},
   "outputs": [],
   "source": [
    "np.random.rand(2,2)"
   ]
  },
  {
   "cell_type": "code",
   "execution_count": null,
   "metadata": {},
   "outputs": [],
   "source": []
  }
 ],
 "metadata": {
  "interpreter": {
   "hash": "4bf9d181db4ce6ac350460a925b0a6d42e04d8febba218abd55fece0461021fd"
  },
  "kernelspec": {
   "display_name": "Python 3.7.11 64-bit ('quantum': conda)",
   "name": "python3"
  },
  "language_info": {
   "codemirror_mode": {
    "name": "ipython",
    "version": 3
   },
   "file_extension": ".py",
   "mimetype": "text/x-python",
   "name": "python",
   "nbconvert_exporter": "python",
   "pygments_lexer": "ipython3",
   "version": "3.7.11"
  },
  "orig_nbformat": 4
 },
 "nbformat": 4,
 "nbformat_minor": 2
}
